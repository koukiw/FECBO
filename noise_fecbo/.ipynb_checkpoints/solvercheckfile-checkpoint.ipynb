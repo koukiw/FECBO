{
 "cells": [
  {
   "cell_type": "code",
   "execution_count": 1,
   "id": "8018697a-2a37-47e1-87dd-00f95fdeb67c",
   "metadata": {},
   "outputs": [
    {
     "name": "stdin",
     "output_type": "stream",
     "text": [
      "Once deleted, variables cannot be recovered. Proceed (y/[n])?  y\n"
     ]
    }
   ],
   "source": [
    "%reset"
   ]
  },
  {
   "cell_type": "markdown",
   "id": "ce5e4219-1cde-4445-a1ef-f96f76260268",
   "metadata": {},
   "source": [
    "## 今一番このコードが最新状態6/22\n",
    "irisデータにて計算したコード  \n",
    "m,c,a,bの値を設定する．  \n",
    "cの数に合わせてu_optimize関数内の制約条件Total_Kの式の数を調整する必要がある．"
   ]
  },
  {
   "cell_type": "code",
   "execution_count": 12,
   "id": "f8e3c0ea-b166-4ba4-bfcf-4decff310b84",
   "metadata": {},
   "outputs": [],
   "source": [
    "import pandas as pd\n",
    "import numpy as np\n",
    "import matplotlib.pyplot as plt\n",
    "import cvxpy as cp\n",
    "#sysはコマンドライン引数\n",
    "import sys\n",
    "import csv\n",
    "np.seterr(divide='ignore', invalid='ignore')\n",
    "#csvファイルの読み込み\n",
    "iris = pd.read_csv(\"../../dataset/iris-dataset.csv\")\n",
    "df = iris.drop('species', axis=1)\n",
    "#dfをnumpyで扱えるnp.ndarray変換\n",
    "X = df.values\n",
    "#配列の行数、列数の格納\n",
    "X_size,dimension = X.shape\n",
    "#クラスタ数宣言\n",
    "c = 3\n",
    "#Kはクラスタサイズ \n",
    "K = X_size /c\n",
    "#交互最適化最大繰り返し数\n",
    "max_iter = 100\n",
    "\n",
    "#ファジィパラメーター設定\n",
    "m = 3\n",
    "#kappa指定\n",
    "a = 0.15\n",
    "b = 0.20\n",
    "#初期値繰り返し回数\n",
    "NumberOfRepetitions= 1\n",
    "#各変数の初期値格納\n",
    "distances=np.zeros((X_size,c))\n",
    "epsilon = np.zeros((X_size,dimension))\n",
    "best_J = 10000"
   ]
  },
  {
   "cell_type": "code",
   "execution_count": 13,
   "id": "480c740e-eae2-4f33-b012-5be9b41840b0",
   "metadata": {},
   "outputs": [
    {
     "data": {
      "text/html": [
       "<div>\n",
       "<style scoped>\n",
       "    .dataframe tbody tr th:only-of-type {\n",
       "        vertical-align: middle;\n",
       "    }\n",
       "\n",
       "    .dataframe tbody tr th {\n",
       "        vertical-align: top;\n",
       "    }\n",
       "\n",
       "    .dataframe thead th {\n",
       "        text-align: right;\n",
       "    }\n",
       "</style>\n",
       "<table border=\"1\" class=\"dataframe\">\n",
       "  <thead>\n",
       "    <tr style=\"text-align: right;\">\n",
       "      <th></th>\n",
       "      <th>sepal_length</th>\n",
       "      <th>sepal_width</th>\n",
       "      <th>petal_length</th>\n",
       "      <th>petal_width</th>\n",
       "    </tr>\n",
       "  </thead>\n",
       "  <tbody>\n",
       "    <tr>\n",
       "      <th>0</th>\n",
       "      <td>5.1</td>\n",
       "      <td>3.5</td>\n",
       "      <td>1.4</td>\n",
       "      <td>0.2</td>\n",
       "    </tr>\n",
       "    <tr>\n",
       "      <th>1</th>\n",
       "      <td>4.9</td>\n",
       "      <td>3.0</td>\n",
       "      <td>1.4</td>\n",
       "      <td>0.2</td>\n",
       "    </tr>\n",
       "    <tr>\n",
       "      <th>2</th>\n",
       "      <td>4.7</td>\n",
       "      <td>3.2</td>\n",
       "      <td>1.3</td>\n",
       "      <td>0.2</td>\n",
       "    </tr>\n",
       "    <tr>\n",
       "      <th>3</th>\n",
       "      <td>4.6</td>\n",
       "      <td>3.1</td>\n",
       "      <td>1.5</td>\n",
       "      <td>0.2</td>\n",
       "    </tr>\n",
       "    <tr>\n",
       "      <th>4</th>\n",
       "      <td>5.0</td>\n",
       "      <td>3.6</td>\n",
       "      <td>1.4</td>\n",
       "      <td>0.2</td>\n",
       "    </tr>\n",
       "    <tr>\n",
       "      <th>...</th>\n",
       "      <td>...</td>\n",
       "      <td>...</td>\n",
       "      <td>...</td>\n",
       "      <td>...</td>\n",
       "    </tr>\n",
       "    <tr>\n",
       "      <th>145</th>\n",
       "      <td>6.7</td>\n",
       "      <td>3.0</td>\n",
       "      <td>5.2</td>\n",
       "      <td>2.3</td>\n",
       "    </tr>\n",
       "    <tr>\n",
       "      <th>146</th>\n",
       "      <td>6.3</td>\n",
       "      <td>2.5</td>\n",
       "      <td>5.0</td>\n",
       "      <td>1.9</td>\n",
       "    </tr>\n",
       "    <tr>\n",
       "      <th>147</th>\n",
       "      <td>6.5</td>\n",
       "      <td>3.0</td>\n",
       "      <td>5.2</td>\n",
       "      <td>2.0</td>\n",
       "    </tr>\n",
       "    <tr>\n",
       "      <th>148</th>\n",
       "      <td>6.2</td>\n",
       "      <td>3.4</td>\n",
       "      <td>5.4</td>\n",
       "      <td>2.3</td>\n",
       "    </tr>\n",
       "    <tr>\n",
       "      <th>149</th>\n",
       "      <td>5.9</td>\n",
       "      <td>3.0</td>\n",
       "      <td>5.1</td>\n",
       "      <td>1.8</td>\n",
       "    </tr>\n",
       "  </tbody>\n",
       "</table>\n",
       "<p>150 rows × 4 columns</p>\n",
       "</div>"
      ],
      "text/plain": [
       "     sepal_length  sepal_width  petal_length  petal_width\n",
       "0             5.1          3.5           1.4          0.2\n",
       "1             4.9          3.0           1.4          0.2\n",
       "2             4.7          3.2           1.3          0.2\n",
       "3             4.6          3.1           1.5          0.2\n",
       "4             5.0          3.6           1.4          0.2\n",
       "..            ...          ...           ...          ...\n",
       "145           6.7          3.0           5.2          2.3\n",
       "146           6.3          2.5           5.0          1.9\n",
       "147           6.5          3.0           5.2          2.0\n",
       "148           6.2          3.4           5.4          2.3\n",
       "149           5.9          3.0           5.1          1.8\n",
       "\n",
       "[150 rows x 4 columns]"
      ]
     },
     "execution_count": 13,
     "metadata": {},
     "output_type": "execute_result"
    }
   ],
   "source": [
    "df"
   ]
  },
  {
   "cell_type": "code",
   "execution_count": 14,
   "id": "6f0cf8f4-8376-4460-a309-5c79c45ad640",
   "metadata": {},
   "outputs": [],
   "source": [
    "#許容範囲epsilonの作成\n",
    "def CreateEpsilon(a,b,X_size,dimension):\n",
    "    #許容ベクトルepsilonの初期値を設定\n",
    "    #任意の範囲（[a, b): a以上、b未満）の乱数を取得したい場合\n",
    "    #(b - a) * np.random.rand() + a\n",
    "    #a = 0.05\n",
    "    #b = 0.08\n",
    "    kappa = (b - a) * np.random.rand(X_size,dimension) + a\n",
    "    epsilon = np.zeros((X_size,dimension))\n",
    "    for i in range(X_size):\n",
    "        for j in range(dimension):\n",
    "            ep_max = kappa[i][j]\n",
    "            epsilon[i][j] = (ep_max + ep_max) * np.random.rand() - ep_max\n",
    "    #print(kappa[0])\n",
    "    #print(epsilon[0])\n",
    "    #_________________________________________\n",
    "    return kappa,epsilon"
   ]
  },
  {
   "cell_type": "code",
   "execution_count": 15,
   "id": "12f597ea-4172-4ea6-bc58-58b726e05af1",
   "metadata": {},
   "outputs": [],
   "source": [
    "def calculate_ep(epsilon,u_array_m):\n",
    "    #_____________epsilonの更新用に定義______________\n",
    "    new_epsilon = np.zeros((X_size,dimension))\n",
    "    u_sum = np.sum(u_array_m,axis=1)#u_mの行ごとの合計値,epの分母\n",
    "\n",
    "    #_____________not_alpha作成部分__________________\n",
    "    not_alpha = np.zeros((X_size,dimension)) #ipsilon = alpha * not_alpha,not_alphaは絶対値の部分の分母にも使えそう\n",
    "    for k in range(X_size):\n",
    "        for j in range(dimension):\n",
    "            sum_uxv = 0\n",
    "            for i in range(c):\n",
    "                sum_uxv +=u_array_m[k][i]*(X[k][j]-centroids[i][j])\n",
    "            not_alpha[k][j]= sum_uxv\n",
    "\n",
    "    ep_denominator = np.abs((not_alpha)*-1)\n",
    "    alpha_kari = kappa/ep_denominator\n",
    "    alpha_kari1 = 1/u_sum\n",
    "    alpha_list = np.insert(alpha_kari, -1, alpha_kari1, axis=1)#alphaのminリスト作成完了\n",
    "    #______________epsilonの更新___________________\n",
    "    for i in range(X_size):\n",
    "        for j in range(dimension):\n",
    "            if alpha_list[i][j] < alpha_list[i][-1]:\n",
    "                epsilon[i][j] = alpha_list[i][j]*not_alpha[i][j]*-1\n",
    "            else:\n",
    "                epsilon[i][j] = alpha_list[i][-1]*not_alpha[i][j]*-1\n",
    "    return epsilon"
   ]
  },
  {
   "cell_type": "code",
   "execution_count": 16,
   "id": "ef859e97-7263-489c-a138-cfacf097f295",
   "metadata": {},
   "outputs": [],
   "source": [
    "#uの最適化部分関数作成\n",
    "def u_optimize(d,c,m):\n",
    "    #変数定義\n",
    "    u_list = [0] * len(d)\n",
    "    for i in range(len(d)):\n",
    "        u_list[i] = cp.Variable()\n",
    "\n",
    "    #目的関数定義\n",
    "    Objective_function = 0 \n",
    "    for i  in range(len(d)):\n",
    "        Objective_function += d[i]*cp.power(u_list[i],m)\n",
    "    objective = cp.Minimize(Objective_function)\n",
    "    # 制約条件の定義\n",
    "    Positive_Number = []\n",
    "    Total_1 = []\n",
    "    Total_K = []\n",
    "    constraints = []\n",
    "    #0以上\n",
    "    for i in range (len(d)):\n",
    "        Positive_Number.append(u_list[i]>=0)\n",
    "    #合計1\n",
    "    for i in range (0,len(d),c):\n",
    "        sum_iti = 0\n",
    "        for j in range(c):    \n",
    "            sum_iti += u_list[i+j]\n",
    "        Total_1.append(sum_iti==1)\n",
    "    \n",
    "    #合計がクラスタサイズ\n",
    "    #下の式はcの値によって逐次変更しないといけない\n",
    "    Total_K.append(sum(u_list[0:len(d):c])==K)\n",
    "    Total_K.append(sum(u_list[1:len(d):c])==K)\n",
    "    #Total_K.append(sum(u_list[2:len(d):c])==K)\n",
    "    constraints.extend(Positive_Number)\n",
    "    constraints.extend(Total_1)\n",
    "    constraints.extend(Total_K)\n",
    "    \n",
    "    # 問題を定義\n",
    "    problem = cp.Problem(objective, constraints)\n",
    "    # 最適化 (戻り値は最適化後に得られた値=最小値)\n",
    "    result = problem.solve(verbose=True)\n",
    "    #帰属度uと目的関数Jの値を抽出(ndarray型)\n",
    "    u_value = np.empty(0)#空のndarrayを作成\n",
    "    for i in range (len(d)):\n",
    "        u_value = np.append(u_value,u_list[i].value)\n",
    "    u_array = u_value.reshape([X_size,c])\n",
    "    #u_arrayに帰属度配列、resultに目的関数\n",
    "    return u_array,result"
   ]
  },
  {
   "cell_type": "code",
   "execution_count": 17,
   "id": "ef682700-dabc-449b-80c1-0a4b80978a35",
   "metadata": {},
   "outputs": [],
   "source": [
    "#クラスタ中心計算部分関数作成\n",
    "def v_calculation(u_m,c,dimension,X):\n",
    "    #分母計算(クラスタサイズになるはず)\n",
    "    v_denominator = np.sum(u_m,axis=0)\n",
    "    \n",
    "    #分子計算\n",
    "    v_numerator = np.zeros((c,dimension))\n",
    "    for j in range(c):\n",
    "        for i in range(X_size):\n",
    "            v_numerator[j]+= u_m[i][j]*X[i]\n",
    "   \n",
    "    v = np.zeros((c,dimension ))\n",
    "    for i in range(c):\n",
    "        v[i] = v_numerator[i]/v_denominator[i]\n",
    "    return v"
   ]
  },
  {
   "cell_type": "code",
   "execution_count": null,
   "id": "b3bd1935-abaa-4b9f-9c7e-7d4cdd26e048",
   "metadata": {
    "tags": []
   },
   "outputs": [
    {
     "name": "stdout",
     "output_type": "stream",
     "text": [
      "1回目\n",
      "===============================================================================\n",
      "                                     CVXPY                                     \n",
      "                                     v1.2.0                                    \n",
      "===============================================================================\n",
      "(CVXPY) Jun 22 08:21:32 PM: Your problem has 450 variables, 602 constraints, and 0 parameters.\n",
      "(CVXPY) Jun 22 08:21:32 PM: It is compliant with the following grammars: DCP, DQCP\n",
      "(CVXPY) Jun 22 08:21:32 PM: (If you need to solve this problem multiple times, but with different data, consider using parameters.)\n",
      "(CVXPY) Jun 22 08:21:32 PM: CVXPY will first compile your problem; then, it will invoke a numerical solver to obtain a solution.\n",
      "-------------------------------------------------------------------------------\n",
      "                                  Compilation                                  \n",
      "-------------------------------------------------------------------------------\n",
      "(CVXPY) Jun 22 08:21:32 PM: Compiling problem (target solver=ECOS).\n",
      "(CVXPY) Jun 22 08:21:32 PM: Reduction chain: Dcp2Cone -> CvxAttr2Constr -> ConeMatrixStuffing -> ECOS\n",
      "(CVXPY) Jun 22 08:21:32 PM: Applying reduction Dcp2Cone\n",
      "(CVXPY) Jun 22 08:21:32 PM: Applying reduction CvxAttr2Constr\n",
      "(CVXPY) Jun 22 08:21:32 PM: Applying reduction ConeMatrixStuffing\n",
      "(CVXPY) Jun 22 08:21:32 PM: Applying reduction ECOS\n",
      "(CVXPY) Jun 22 08:21:33 PM: Finished problem compilation (took 1.472e+00 seconds).\n",
      "-------------------------------------------------------------------------------\n",
      "                                Numerical solver                               \n",
      "-------------------------------------------------------------------------------\n",
      "(CVXPY) Jun 22 08:21:33 PM: Invoking solver ECOS  to obtain a solution.\n",
      "-------------------------------------------------------------------------------\n",
      "                                    Summary                                    \n",
      "-------------------------------------------------------------------------------\n",
      "(CVXPY) Jun 22 08:21:33 PM: Problem status: optimal\n",
      "(CVXPY) Jun 22 08:21:33 PM: Optimal value: 8.069e+01\n",
      "(CVXPY) Jun 22 08:21:33 PM: Compilation took 1.472e+00 seconds\n",
      "(CVXPY) Jun 22 08:21:33 PM: Solver (including time spent in interface) took 1.655e-02 seconds\n",
      "===============================================================================\n",
      "                                     CVXPY                                     \n",
      "                                     v1.2.0                                    \n",
      "===============================================================================\n",
      "(CVXPY) Jun 22 08:21:33 PM: Your problem has 450 variables, 602 constraints, and 0 parameters.\n",
      "(CVXPY) Jun 22 08:21:33 PM: It is compliant with the following grammars: DCP, DQCP\n",
      "(CVXPY) Jun 22 08:21:33 PM: (If you need to solve this problem multiple times, but with different data, consider using parameters.)\n",
      "(CVXPY) Jun 22 08:21:33 PM: CVXPY will first compile your problem; then, it will invoke a numerical solver to obtain a solution.\n",
      "-------------------------------------------------------------------------------\n",
      "                                  Compilation                                  \n",
      "-------------------------------------------------------------------------------\n",
      "(CVXPY) Jun 22 08:21:33 PM: Compiling problem (target solver=ECOS).\n",
      "(CVXPY) Jun 22 08:21:33 PM: Reduction chain: Dcp2Cone -> CvxAttr2Constr -> ConeMatrixStuffing -> ECOS\n",
      "(CVXPY) Jun 22 08:21:33 PM: Applying reduction Dcp2Cone\n",
      "(CVXPY) Jun 22 08:21:34 PM: Applying reduction CvxAttr2Constr\n",
      "(CVXPY) Jun 22 08:21:34 PM: Applying reduction ConeMatrixStuffing\n",
      "(CVXPY) Jun 22 08:21:34 PM: Applying reduction ECOS\n",
      "(CVXPY) Jun 22 08:21:35 PM: Finished problem compilation (took 1.384e+00 seconds).\n",
      "-------------------------------------------------------------------------------\n",
      "                                Numerical solver                               \n",
      "-------------------------------------------------------------------------------\n",
      "(CVXPY) Jun 22 08:21:35 PM: Invoking solver ECOS  to obtain a solution.\n",
      "-------------------------------------------------------------------------------\n",
      "                                    Summary                                    \n",
      "-------------------------------------------------------------------------------\n",
      "(CVXPY) Jun 22 08:21:35 PM: Problem status: optimal\n",
      "(CVXPY) Jun 22 08:21:35 PM: Optimal value: 5.245e+01\n",
      "(CVXPY) Jun 22 08:21:35 PM: Compilation took 1.384e+00 seconds\n",
      "(CVXPY) Jun 22 08:21:35 PM: Solver (including time spent in interface) took 1.623e-02 seconds\n",
      "===============================================================================\n",
      "                                     CVXPY                                     \n",
      "                                     v1.2.0                                    \n",
      "===============================================================================\n",
      "(CVXPY) Jun 22 08:21:35 PM: Your problem has 450 variables, 602 constraints, and 0 parameters.\n",
      "(CVXPY) Jun 22 08:21:35 PM: It is compliant with the following grammars: DCP, DQCP\n",
      "(CVXPY) Jun 22 08:21:35 PM: (If you need to solve this problem multiple times, but with different data, consider using parameters.)\n",
      "(CVXPY) Jun 22 08:21:35 PM: CVXPY will first compile your problem; then, it will invoke a numerical solver to obtain a solution.\n",
      "-------------------------------------------------------------------------------\n",
      "                                  Compilation                                  \n",
      "-------------------------------------------------------------------------------\n",
      "(CVXPY) Jun 22 08:21:35 PM: Compiling problem (target solver=ECOS).\n",
      "(CVXPY) Jun 22 08:21:35 PM: Reduction chain: Dcp2Cone -> CvxAttr2Constr -> ConeMatrixStuffing -> ECOS\n",
      "(CVXPY) Jun 22 08:21:35 PM: Applying reduction Dcp2Cone\n",
      "(CVXPY) Jun 22 08:21:35 PM: Applying reduction CvxAttr2Constr\n",
      "(CVXPY) Jun 22 08:21:35 PM: Applying reduction ConeMatrixStuffing\n",
      "(CVXPY) Jun 22 08:21:36 PM: Applying reduction ECOS\n",
      "(CVXPY) Jun 22 08:21:36 PM: Finished problem compilation (took 1.419e+00 seconds).\n",
      "-------------------------------------------------------------------------------\n",
      "                                Numerical solver                               \n",
      "-------------------------------------------------------------------------------\n",
      "(CVXPY) Jun 22 08:21:36 PM: Invoking solver ECOS  to obtain a solution.\n",
      "-------------------------------------------------------------------------------\n",
      "                                    Summary                                    \n",
      "-------------------------------------------------------------------------------\n",
      "(CVXPY) Jun 22 08:21:36 PM: Problem status: optimal\n",
      "(CVXPY) Jun 22 08:21:36 PM: Optimal value: 3.267e+01\n",
      "(CVXPY) Jun 22 08:21:36 PM: Compilation took 1.419e+00 seconds\n",
      "(CVXPY) Jun 22 08:21:36 PM: Solver (including time spent in interface) took 1.635e-02 seconds\n",
      "===============================================================================\n",
      "                                     CVXPY                                     \n",
      "                                     v1.2.0                                    \n",
      "===============================================================================\n",
      "(CVXPY) Jun 22 08:21:36 PM: Your problem has 450 variables, 602 constraints, and 0 parameters.\n",
      "(CVXPY) Jun 22 08:21:36 PM: It is compliant with the following grammars: DCP, DQCP\n",
      "(CVXPY) Jun 22 08:21:36 PM: (If you need to solve this problem multiple times, but with different data, consider using parameters.)\n",
      "(CVXPY) Jun 22 08:21:36 PM: CVXPY will first compile your problem; then, it will invoke a numerical solver to obtain a solution.\n",
      "-------------------------------------------------------------------------------\n",
      "                                  Compilation                                  \n",
      "-------------------------------------------------------------------------------\n",
      "(CVXPY) Jun 22 08:21:37 PM: Compiling problem (target solver=ECOS).\n",
      "(CVXPY) Jun 22 08:21:37 PM: Reduction chain: Dcp2Cone -> CvxAttr2Constr -> ConeMatrixStuffing -> ECOS\n",
      "(CVXPY) Jun 22 08:21:37 PM: Applying reduction Dcp2Cone\n",
      "(CVXPY) Jun 22 08:21:37 PM: Applying reduction CvxAttr2Constr\n",
      "(CVXPY) Jun 22 08:21:37 PM: Applying reduction ConeMatrixStuffing\n",
      "(CVXPY) Jun 22 08:21:37 PM: Applying reduction ECOS\n",
      "(CVXPY) Jun 22 08:21:38 PM: Finished problem compilation (took 1.444e+00 seconds).\n",
      "-------------------------------------------------------------------------------\n",
      "                                Numerical solver                               \n",
      "-------------------------------------------------------------------------------\n",
      "(CVXPY) Jun 22 08:21:38 PM: Invoking solver ECOS  to obtain a solution.\n",
      "-------------------------------------------------------------------------------\n",
      "                                    Summary                                    \n",
      "-------------------------------------------------------------------------------\n",
      "(CVXPY) Jun 22 08:21:38 PM: Problem status: optimal\n",
      "(CVXPY) Jun 22 08:21:38 PM: Optimal value: 2.182e+01\n",
      "(CVXPY) Jun 22 08:21:38 PM: Compilation took 1.444e+00 seconds\n",
      "(CVXPY) Jun 22 08:21:38 PM: Solver (including time spent in interface) took 1.898e-02 seconds\n",
      "===============================================================================\n",
      "                                     CVXPY                                     \n",
      "                                     v1.2.0                                    \n",
      "===============================================================================\n",
      "(CVXPY) Jun 22 08:21:38 PM: Your problem has 450 variables, 602 constraints, and 0 parameters.\n",
      "(CVXPY) Jun 22 08:21:38 PM: It is compliant with the following grammars: DCP, DQCP\n",
      "(CVXPY) Jun 22 08:21:38 PM: (If you need to solve this problem multiple times, but with different data, consider using parameters.)\n",
      "(CVXPY) Jun 22 08:21:38 PM: CVXPY will first compile your problem; then, it will invoke a numerical solver to obtain a solution.\n",
      "-------------------------------------------------------------------------------\n",
      "                                  Compilation                                  \n",
      "-------------------------------------------------------------------------------\n",
      "(CVXPY) Jun 22 08:21:38 PM: Compiling problem (target solver=ECOS).\n",
      "(CVXPY) Jun 22 08:21:38 PM: Reduction chain: Dcp2Cone -> CvxAttr2Constr -> ConeMatrixStuffing -> ECOS\n",
      "(CVXPY) Jun 22 08:21:38 PM: Applying reduction Dcp2Cone\n",
      "(CVXPY) Jun 22 08:21:38 PM: Applying reduction CvxAttr2Constr\n",
      "(CVXPY) Jun 22 08:21:38 PM: Applying reduction ConeMatrixStuffing\n",
      "(CVXPY) Jun 22 08:21:39 PM: Applying reduction ECOS\n",
      "(CVXPY) Jun 22 08:21:39 PM: Finished problem compilation (took 1.360e+00 seconds).\n",
      "-------------------------------------------------------------------------------\n",
      "                                Numerical solver                               \n",
      "-------------------------------------------------------------------------------\n",
      "(CVXPY) Jun 22 08:21:39 PM: Invoking solver ECOS  to obtain a solution.\n",
      "-------------------------------------------------------------------------------\n",
      "                                    Summary                                    \n",
      "-------------------------------------------------------------------------------\n",
      "(CVXPY) Jun 22 08:21:40 PM: Problem status: optimal\n",
      "(CVXPY) Jun 22 08:21:40 PM: Optimal value: 1.866e+01\n",
      "(CVXPY) Jun 22 08:21:40 PM: Compilation took 1.360e+00 seconds\n",
      "(CVXPY) Jun 22 08:21:40 PM: Solver (including time spent in interface) took 1.911e-02 seconds\n",
      "===============================================================================\n",
      "                                     CVXPY                                     \n",
      "                                     v1.2.0                                    \n",
      "===============================================================================\n",
      "(CVXPY) Jun 22 08:21:40 PM: Your problem has 450 variables, 602 constraints, and 0 parameters.\n",
      "(CVXPY) Jun 22 08:21:40 PM: It is compliant with the following grammars: DCP, DQCP\n",
      "(CVXPY) Jun 22 08:21:40 PM: (If you need to solve this problem multiple times, but with different data, consider using parameters.)\n",
      "(CVXPY) Jun 22 08:21:40 PM: CVXPY will first compile your problem; then, it will invoke a numerical solver to obtain a solution.\n",
      "-------------------------------------------------------------------------------\n",
      "                                  Compilation                                  \n",
      "-------------------------------------------------------------------------------\n",
      "(CVXPY) Jun 22 08:21:40 PM: Compiling problem (target solver=ECOS).\n",
      "(CVXPY) Jun 22 08:21:40 PM: Reduction chain: Dcp2Cone -> CvxAttr2Constr -> ConeMatrixStuffing -> ECOS\n",
      "(CVXPY) Jun 22 08:21:40 PM: Applying reduction Dcp2Cone\n",
      "(CVXPY) Jun 22 08:21:40 PM: Applying reduction CvxAttr2Constr\n",
      "(CVXPY) Jun 22 08:21:40 PM: Applying reduction ConeMatrixStuffing\n",
      "(CVXPY) Jun 22 08:21:40 PM: Applying reduction ECOS\n",
      "(CVXPY) Jun 22 08:21:41 PM: Finished problem compilation (took 1.382e+00 seconds).\n",
      "-------------------------------------------------------------------------------\n",
      "                                Numerical solver                               \n",
      "-------------------------------------------------------------------------------\n",
      "(CVXPY) Jun 22 08:21:41 PM: Invoking solver ECOS  to obtain a solution.\n",
      "-------------------------------------------------------------------------------\n",
      "                                    Summary                                    \n",
      "-------------------------------------------------------------------------------\n",
      "(CVXPY) Jun 22 08:21:41 PM: Problem status: optimal\n",
      "(CVXPY) Jun 22 08:21:41 PM: Optimal value: 1.737e+01\n",
      "(CVXPY) Jun 22 08:21:41 PM: Compilation took 1.382e+00 seconds\n",
      "(CVXPY) Jun 22 08:21:41 PM: Solver (including time spent in interface) took 2.049e-02 seconds\n",
      "===============================================================================\n",
      "                                     CVXPY                                     \n",
      "                                     v1.2.0                                    \n",
      "===============================================================================\n",
      "(CVXPY) Jun 22 08:21:41 PM: Your problem has 450 variables, 602 constraints, and 0 parameters.\n",
      "(CVXPY) Jun 22 08:21:41 PM: It is compliant with the following grammars: DCP, DQCP\n",
      "(CVXPY) Jun 22 08:21:41 PM: (If you need to solve this problem multiple times, but with different data, consider using parameters.)\n",
      "(CVXPY) Jun 22 08:21:41 PM: CVXPY will first compile your problem; then, it will invoke a numerical solver to obtain a solution.\n",
      "-------------------------------------------------------------------------------\n",
      "                                  Compilation                                  \n",
      "-------------------------------------------------------------------------------\n",
      "(CVXPY) Jun 22 08:21:41 PM: Compiling problem (target solver=ECOS).\n",
      "(CVXPY) Jun 22 08:21:41 PM: Reduction chain: Dcp2Cone -> CvxAttr2Constr -> ConeMatrixStuffing -> ECOS\n",
      "(CVXPY) Jun 22 08:21:41 PM: Applying reduction Dcp2Cone\n",
      "(CVXPY) Jun 22 08:21:42 PM: Applying reduction CvxAttr2Constr\n",
      "(CVXPY) Jun 22 08:21:42 PM: Applying reduction ConeMatrixStuffing\n",
      "(CVXPY) Jun 22 08:21:42 PM: Applying reduction ECOS\n",
      "(CVXPY) Jun 22 08:21:43 PM: Finished problem compilation (took 1.388e+00 seconds).\n",
      "-------------------------------------------------------------------------------\n",
      "                                Numerical solver                               \n",
      "-------------------------------------------------------------------------------\n",
      "(CVXPY) Jun 22 08:21:43 PM: Invoking solver ECOS  to obtain a solution.\n",
      "-------------------------------------------------------------------------------\n",
      "                                    Summary                                    \n",
      "-------------------------------------------------------------------------------\n",
      "(CVXPY) Jun 22 08:21:43 PM: Problem status: optimal\n",
      "(CVXPY) Jun 22 08:21:43 PM: Optimal value: 1.688e+01\n",
      "(CVXPY) Jun 22 08:21:43 PM: Compilation took 1.388e+00 seconds\n",
      "(CVXPY) Jun 22 08:21:43 PM: Solver (including time spent in interface) took 1.968e-02 seconds\n",
      "===============================================================================\n",
      "                                     CVXPY                                     \n",
      "                                     v1.2.0                                    \n",
      "===============================================================================\n",
      "(CVXPY) Jun 22 08:21:43 PM: Your problem has 450 variables, 602 constraints, and 0 parameters.\n",
      "(CVXPY) Jun 22 08:21:43 PM: It is compliant with the following grammars: DCP, DQCP\n",
      "(CVXPY) Jun 22 08:21:43 PM: (If you need to solve this problem multiple times, but with different data, consider using parameters.)\n",
      "(CVXPY) Jun 22 08:21:43 PM: CVXPY will first compile your problem; then, it will invoke a numerical solver to obtain a solution.\n",
      "-------------------------------------------------------------------------------\n",
      "                                  Compilation                                  \n",
      "-------------------------------------------------------------------------------\n",
      "(CVXPY) Jun 22 08:21:43 PM: Compiling problem (target solver=ECOS).\n",
      "(CVXPY) Jun 22 08:21:43 PM: Reduction chain: Dcp2Cone -> CvxAttr2Constr -> ConeMatrixStuffing -> ECOS\n",
      "(CVXPY) Jun 22 08:21:43 PM: Applying reduction Dcp2Cone\n",
      "(CVXPY) Jun 22 08:21:43 PM: Applying reduction CvxAttr2Constr\n",
      "(CVXPY) Jun 22 08:21:43 PM: Applying reduction ConeMatrixStuffing\n",
      "(CVXPY) Jun 22 08:21:44 PM: Applying reduction ECOS\n",
      "(CVXPY) Jun 22 08:21:44 PM: Finished problem compilation (took 1.442e+00 seconds).\n",
      "-------------------------------------------------------------------------------\n",
      "                                Numerical solver                               \n",
      "-------------------------------------------------------------------------------\n",
      "(CVXPY) Jun 22 08:21:44 PM: Invoking solver ECOS  to obtain a solution.\n",
      "-------------------------------------------------------------------------------\n",
      "                                    Summary                                    \n",
      "-------------------------------------------------------------------------------\n",
      "(CVXPY) Jun 22 08:21:44 PM: Problem status: optimal\n",
      "(CVXPY) Jun 22 08:21:44 PM: Optimal value: 1.674e+01\n",
      "(CVXPY) Jun 22 08:21:44 PM: Compilation took 1.442e+00 seconds\n",
      "(CVXPY) Jun 22 08:21:44 PM: Solver (including time spent in interface) took 1.790e-02 seconds\n"
     ]
    }
   ],
   "source": [
    "for s in range (NumberOfRepetitions):\n",
    "    print(f\"{s+1}回目\")\n",
    "    centroids = X[np.random.choice(X_size,c)]\n",
    "    kappa,epsilon = CreateEpsilon(a,b,X_size,dimension)       \n",
    "            \n",
    "    for epoch in range(max_iter):\n",
    "        #print(f\"{epoch+1}回目\")\n",
    "        #dにはd11,d12,d13,d14,d21,d22,,,dn1,,dncの順でリスト作る\n",
    "        d=[]\n",
    "        for i in range(X_size):\n",
    "            for j in range(c):\n",
    "                d.append(np.sum((X[i]+epsilon[i]-centroids[j])**2))\n",
    "        #uの更新\n",
    "        u,J = u_optimize(d,c,m)\n",
    "        u_m = u**m\n",
    "        #vの更新\n",
    "        new_centroids = v_calculation(u_m,c,dimension,X)\n",
    "        #epsilonの更新\n",
    "        epsilon = calculate_ep(epsilon,u_m)\n",
    "        #print(epsilon[0])\n",
    "        \n",
    "        # もしも重心が変わっていなかったら終了\n",
    "        if np.sum(np.abs(new_centroids-centroids))<=0.000001:\n",
    "            #print(new_centroids-centroids)\n",
    "            print(\"中心が変わらないのでbreakします！\")\n",
    "            break\n",
    "        centroids = np.copy(new_centroids)\n",
    "\n",
    "    #目的関数が小さくなっている時、cluster,best_J,best_centoridsの更新を行う\n",
    "    if best_J > J:\n",
    "        np_cluster = np.argmax(u,axis=1)\n",
    "        #最適な目的関数の更新\n",
    "        best_J = J\n",
    "        #目的関数が小さくなるときの重心を格納\n",
    "        best_centroids = np.copy(new_centroids)\n",
    "    print(f\"{s+1}回目のクラスタリング結果↓\")\n",
    "    print(best_J)\n",
    "    print(best_centroids)\n",
    "    print(\"終了\")\n",
    "print(f\"epsilon[0]:{epsilon[0]}\")\n",
    "print(np_cluster)\n",
    "print(best_J)\n",
    "print(best_centroids)"
   ]
  },
  {
   "cell_type": "code",
   "execution_count": 24,
   "id": "768d3178-2374-442a-ade3-dcd8257b6544",
   "metadata": {},
   "outputs": [
    {
     "name": "stdout",
     "output_type": "stream",
     "text": [
      "[50. 50. 50.]\n",
      "[1. 1. 1. 1. 1. 1. 1. 1. 1. 1. 1. 1. 1. 1. 1. 1. 1. 1. 1. 1. 1. 1. 1. 1.\n",
      " 1. 1. 1. 1. 1. 1. 1. 1. 1. 1. 1. 1. 1. 1. 1. 1. 1. 1. 1. 1. 1. 1. 1. 1.\n",
      " 1. 1. 1. 1. 1. 1. 1. 1. 1. 1. 1. 1. 1. 1. 1. 1. 1. 1. 1. 1. 1. 1. 1. 1.\n",
      " 1. 1. 1. 1. 1. 1. 1. 1. 1. 1. 1. 1. 1. 1. 1. 1. 1. 1. 1. 1. 1. 1. 1. 1.\n",
      " 1. 1. 1. 1. 1. 1. 1. 1. 1. 1. 1. 1. 1. 1. 1. 1. 1. 1. 1. 1. 1. 1. 1. 1.\n",
      " 1. 1. 1. 1. 1. 1. 1. 1. 1. 1. 1. 1. 1. 1. 1. 1. 1. 1. 1. 1. 1. 1. 1. 1.\n",
      " 1. 1. 1. 1. 1. 1.]\n"
     ]
    },
    {
     "data": {
      "image/png": "[encoded data removed]",
      "text/plain": [
       "<Figure size 432x288 with 1 Axes>"
      ]
     },
     "metadata": {
      "needs_background": "light"
     },
     "output_type": "display_data"
    }
   ],
   "source": [
    "print(np.sum(u, axis=0))#列ごとの総和\n",
    "print(np.sum(u, axis=1))#行ごとの総和\n",
    "#グラフ\n",
    "colors = ['red', 'blue', 'green','yellow','fuchsia']\n",
    "markers = [\",\", \"o\", \"v\", \"^\", \"<\", \">\", \"1\", \"2\", \"3\"]\n",
    "fig = plt.figure()\n",
    "ax = fig.add_subplot(111)\n",
    "#clusterはnp.array型じゃないとダメそう(リスト型だとグラフに描画されなかった)\n",
    "for i in range(c):\n",
    "    ax.scatter(X[:, 0][np_cluster==i], X[:, 1][np_cluster==i], color=colors[i],marker=markers[i])\n",
    "ax.scatter(best_centroids[:,0],best_centroids[:,1],color=\"black\",marker=\"x\")\n",
    "#ax.set_title('fecbo', size=16)\n",
    "ax.set_xlabel(\"X\", size=14)\n",
    "ax.set_ylabel(\"Y\", size=14)\n",
    "#ax.legend(['cluster1', 'cluster2','cluster3','cluster4','cluster5',\"center\"],fontsize=9)  # 凡例を表示\n",
    "ax.legend(['cluster1', 'cluster2','cluster3',\"center\"],fontsize=9,ncol=2,bbox_to_anchor=(0, -0.1), loc='upper left')  # 凡例を表示\n",
    "\n",
    "plt.show()\n",
    "\n",
    "#fig.savefig(\"iris_m3.pdf\",bbox_inches='tight')"
   ]
  },
  {
   "cell_type": "code",
   "execution_count": 25,
   "id": "9c8b7605-3f31-4ef2-a66d-b57c9a66bd16",
   "metadata": {},
   "outputs": [],
   "source": [
    "#fig.savefig(\"ToleranceFecboDb3Iris.pdf\",bbox_inches='tight')"
   ]
  },
  {
   "cell_type": "markdown",
   "id": "655602a4-e00e-4b66-8ad4-b8b28c86d0f6",
   "metadata": {},
   "source": [
    "##　正解とのクラスター番号を合わせる作業セル"
   ]
  },
  {
   "cell_type": "code",
   "execution_count": 25,
   "id": "74803977-dc97-4fd0-839c-f353e4d3e079",
   "metadata": {},
   "outputs": [
    {
     "data": {
      "text/plain": [
       "array([0, 0, 0, 0, 0, 0, 0, 0, 0, 0, 0, 0, 0, 0, 0, 0, 0, 0, 0, 0, 0, 0,\n",
       "       0, 0, 0, 0, 0, 0, 0, 0, 0, 0, 0, 0, 0, 0, 0, 0, 0, 0, 0, 0, 0, 0,\n",
       "       0, 0, 0, 0, 0, 0, 1, 1, 1, 1, 1, 1, 1, 1, 1, 1, 1, 1, 1, 1, 1, 1,\n",
       "       1, 1, 1, 1, 1, 1, 1, 1, 1, 1, 1, 1, 1, 1, 1, 1, 1, 1, 1, 1, 1, 1,\n",
       "       1, 1, 1, 1, 1, 1, 1, 1, 1, 1, 1, 1, 2, 2, 2, 2, 2, 2, 2, 2, 2, 2,\n",
       "       2, 2, 2, 2, 2, 2, 2, 2, 2, 2, 2, 2, 2, 2, 2, 2, 2, 2, 2, 2, 2, 2,\n",
       "       2, 2, 2, 2, 2, 2, 2, 2, 2, 2, 2, 2, 2, 2, 2, 2, 2, 2])"
      ]
     },
     "execution_count": 25,
     "metadata": {},
     "output_type": "execute_result"
    }
   ],
   "source": [
    "#正解リスト作成\n",
    "dff = pd.read_csv(\"../../dataset/iris-dataset.csv\")\n",
    "size_mapping = {\"setosa\": 0, \"versicolor\": 1, \"virginica\": 2}\n",
    "seikai = iris[\"species\"].map(size_mapping).values\n",
    "seikai"
   ]
  },
  {
   "cell_type": "code",
   "execution_count": 26,
   "id": "4025903e-867d-470b-be4e-024739e31e06",
   "metadata": {},
   "outputs": [
    {
     "data": {
      "text/plain": [
       "array([2, 2, 2, 2, 2, 2, 2, 2, 2, 2, 2, 2, 2, 2, 2, 2, 2, 2, 2, 2, 2, 2,\n",
       "       2, 2, 2, 2, 2, 2, 2, 2, 2, 2, 2, 2, 2, 2, 2, 2, 2, 2, 2, 2, 2, 2,\n",
       "       2, 2, 2, 2, 2, 2, 1, 0, 1, 0, 0, 0, 0, 0, 0, 0, 0, 0, 0, 0, 0, 0,\n",
       "       0, 0, 0, 0, 0, 0, 0, 0, 0, 0, 1, 1, 0, 0, 0, 0, 0, 1, 0, 0, 1, 0,\n",
       "       0, 0, 0, 0, 0, 0, 0, 0, 0, 0, 0, 0, 1, 0, 1, 1, 1, 1, 0, 1, 1, 1,\n",
       "       1, 1, 1, 0, 1, 1, 1, 1, 1, 0, 1, 0, 1, 1, 1, 1, 0, 0, 1, 1, 1, 1,\n",
       "       1, 1, 1, 1, 1, 1, 0, 1, 1, 1, 0, 1, 1, 1, 1, 1, 1, 0])"
      ]
     },
     "execution_count": 26,
     "metadata": {},
     "output_type": "execute_result"
    }
   ],
   "source": [
    "np_cluster"
   ]
  },
  {
   "cell_type": "markdown",
   "id": "d4b53ccd-a110-4488-a141-3032c6293e42",
   "metadata": {},
   "source": [
    "上記の二つのリストを比較してnp_clusterの番号を変更していく"
   ]
  },
  {
   "cell_type": "markdown",
   "id": "08df28ba-026a-4aeb-ae6e-24c836c21001",
   "metadata": {},
   "source": [
    "0を1  \n",
    "1を2  \n",
    "2を0  "
   ]
  },
  {
   "cell_type": "code",
   "execution_count": 30,
   "id": "0a926eab-3d75-4d34-a4a7-b233259fb352",
   "metadata": {},
   "outputs": [],
   "source": [
    "cluster_hensyuu = np_cluster\n",
    "cluster_hensyuu_0 = np.where(cluster_hensyuu==1, 100, np_cluster)\n",
    "cluster_hensyuu_1 = np.where(cluster_hensyuu_0==0, 1, cluster_hensyuu_0)\n",
    "cluster_hensyuu_2 = np.where(cluster_hensyuu_1==2, 0, cluster_hensyuu_1)\n",
    "cluster_hensyuu_3 = np.where(cluster_hensyuu_2==100, 2, cluster_hensyuu_2)"
   ]
  },
  {
   "cell_type": "code",
   "execution_count": 31,
   "id": "810a0539-200f-4ee3-bb89-fea279c27738",
   "metadata": {},
   "outputs": [
    {
     "name": "stdout",
     "output_type": "stream",
     "text": [
      "正解率\n",
      "89.33333333333333\n",
      "正解数\n",
      "134\n",
      "クラスタサイズ確認\n",
      "54\n",
      "46\n",
      "50\n"
     ]
    }
   ],
   "source": [
    "#------正解率の算出\n",
    "dff = pd.read_csv(\"../../dataset/iris-dataset.csv\")\n",
    "size_mapping = {\"setosa\": 0, \"versicolor\": 1, \"virginica\": 2}\n",
    "seikai = iris[\"species\"].map(size_mapping).values\n",
    "\n",
    "seikaisuu = np.count_nonzero(cluster_hensyuu_3==seikai)\n",
    "seikairitu= (np.count_nonzero(cluster_hensyuu_3==seikai))/X_size*100\n",
    "print(\"正解率\")\n",
    "print(seikairitu)\n",
    "print(\"正解数\")\n",
    "print(seikaisuu)\n",
    "print(\"クラスタサイズ確認\")\n",
    "print(np.count_nonzero(np_cluster==0))\n",
    "print(np.count_nonzero(np_cluster==1))\n",
    "print(np.count_nonzero(np_cluster==2))"
   ]
  },
  {
   "cell_type": "code",
   "execution_count": 35,
   "id": "f4d0ed62-01ca-4be7-8264-84350a4c562d",
   "metadata": {},
   "outputs": [
    {
     "data": {
      "image/png": "[encoded data removed]",
      "text/plain": [
       "<Figure size 432x288 with 1 Axes>"
      ]
     },
     "metadata": {
      "needs_background": "light"
     },
     "output_type": "display_data"
    }
   ],
   "source": [
    "#グラフ\n",
    "colors = ['red', 'blue', 'green','yellow','fuchsia']\n",
    "markers = [\",\", \"o\", \"v\", \"^\", \"<\", \">\", \"1\", \"2\", \"3\"]\n",
    "fig = plt.figure()\n",
    "ax = fig.add_subplot(111)\n",
    "#clusterはnp.array型じゃないとダメそう(リスト型だとグラフに描画されなかった)\n",
    "for i in range(c):\n",
    "    ax.scatter(X[:, 0][cluster_hensyuu_3==i], X[:, 1][cluster_hensyuu_3==i], color=colors[i],marker=markers[i])\n",
    "ax.scatter(best_centroids[:,0],best_centroids[:,1],color=\"black\",marker=\"x\")\n",
    "#ax.set_title('fecbo', size=16)\n",
    "ax.set_xlabel(\"X\", size=14)\n",
    "ax.set_ylabel(\"Y\", size=14)\n",
    "ax.legend(['cluster1', 'cluster2','cluster3','cluster4','cluster5',\"center\"],fontsize=9,ncol=2,bbox_to_anchor=(0, -0.1), loc='upper left')  # 凡例を表示\n",
    "#______\n",
    "for i in range(X_size):\n",
    "    ax.plot([X[i][0]-epsilon[i][0],X[i][0]+epsilon[i][0]],[X[i][1]-epsilon[i][1],X[i][1]-epsilon[i][1]],color=\"black\",linestyle=\"dashdot\",linewidth = 1, alpha = 0.4)\n",
    "    ax.plot([X[i][0]-epsilon[i][0],X[i][0]+epsilon[i][0]],[X[i][1]+epsilon[i][1],X[i][1]+epsilon[i][1]],color=\"black\",linestyle=\"dashdot\",linewidth = 1, alpha = 0.4)\n",
    "    ax.plot([X[i][0]-epsilon[i][0],X[i][0]-epsilon[i][0]],[X[i][1]-epsilon[i][1],X[i][1]+epsilon[i][1]],color=\"black\",linestyle=\"dashdot\",linewidth = 1, alpha = 0.4)\n",
    "    ax.plot([X[i][0]+epsilon[i][0],X[i][0]+epsilon[i][0]],[X[i][1]-epsilon[i][1],X[i][1]+epsilon[i][1]],color=\"black\",linestyle=\"dashdot\",linewidth = 1, alpha = 0.4)\n",
    "\n",
    "    ax.quiver(X[i][0], X[i][1], epsilon[i][0], epsilon[i][1], angles='xy', scale_units='xy', scale=1,width=0.003,alpha=0.5) # 矢印プロット\n",
    "#______\n",
    "plt.show()\n",
    "fig.savefig(\"ToleranceFecboDb5Iris.pdf\",bbox_inches='tight')"
   ]
  },
  {
   "cell_type": "code",
   "execution_count": null,
   "id": "4694bf37-0113-4eac-a439-9dd88bfdbd24",
   "metadata": {},
   "outputs": [],
   "source": []
  },
  {
   "cell_type": "code",
   "execution_count": null,
   "id": "d16ac0e0-f86a-4527-a3a7-a0ee670e36df",
   "metadata": {},
   "outputs": [],
   "source": []
  },
  {
   "cell_type": "markdown",
   "id": "395d7d31-888e-4518-9ac2-6d7a37364552",
   "metadata": {},
   "source": [
    "## ここまで完成形"
   ]
  },
  {
   "cell_type": "code",
   "execution_count": 36,
   "id": "93e584e3-c855-4521-9ac2-6ac93b3ee01c",
   "metadata": {
    "collapsed": true,
    "jupyter": {
     "outputs_hidden": true
    },
    "tags": []
   },
   "outputs": [
    {
     "data": {
      "text/plain": [
       "array([[1.27032216e-01, 7.38043660e-01, 1.34924124e-01],\n",
       "       [1.53480113e-01, 6.69008062e-01, 1.77511825e-01],\n",
       "       [1.32979413e-01, 7.21499220e-01, 1.45521368e-01],\n",
       "       [1.51158458e-01, 6.75197576e-01, 1.73643965e-01],\n",
       "       [1.23582003e-01, 7.48273974e-01, 1.28144023e-01],\n",
       "       [1.84964969e-01, 5.96693941e-01, 2.18341089e-01],\n",
       "       [1.62002094e-01, 6.48526564e-01, 1.89471341e-01],\n",
       "       [1.19898634e-01, 7.58764672e-01, 1.21336694e-01],\n",
       "       [1.91425401e-01, 5.79694210e-01, 2.28880388e-01],\n",
       "       [1.27963904e-01, 7.35231865e-01, 1.36804230e-01],\n",
       "       [1.68358381e-01, 6.34847513e-01, 1.96794106e-01],\n",
       "       [1.24589999e-01, 7.44631370e-01, 1.30778631e-01],\n",
       "       [1.46549562e-01, 6.86319498e-01, 1.67130940e-01],\n",
       "       [1.97584034e-01, 5.68504256e-01, 2.33911710e-01],\n",
       "       [2.17955115e-01, 5.24784581e-01, 2.57260305e-01],\n",
       "       [2.35195467e-01, 4.86215371e-01, 2.78589162e-01],\n",
       "       [1.85152196e-01, 5.96725447e-01, 2.18122357e-01],\n",
       "       [1.34599460e-01, 7.17085701e-01, 1.48314839e-01],\n",
       "       [2.02423128e-01, 5.56659213e-01, 2.40917659e-01],\n",
       "       [1.62652051e-01, 6.48636373e-01, 1.88711576e-01],\n",
       "       [1.59318850e-01, 6.55369304e-01, 1.85311847e-01],\n",
       "       [1.35885762e-01, 7.14309868e-01, 1.49804370e-01],\n",
       "       [1.74060030e-01, 6.23195509e-01, 2.02744461e-01],\n",
       "       [1.34587216e-01, 7.17504953e-01, 1.47907831e-01],\n",
       "       [1.58637122e-01, 6.55805581e-01, 1.85557297e-01],\n",
       "       [1.46723677e-01, 6.86130420e-01, 1.67145904e-01],\n",
       "       [1.03182843e-01, 8.41055307e-01, 5.57618500e-02],\n",
       "       [1.15091684e-01, 7.74672896e-01, 1.10235421e-01],\n",
       "       [1.29442369e-01, 7.31361552e-01, 1.39196079e-01],\n",
       "       [1.33466226e-01, 7.20210633e-01, 1.46323142e-01],\n",
       "       [1.27326769e-01, 7.36895206e-01, 1.35778026e-01],\n",
       "       [1.52930429e-01, 6.71260970e-01, 1.75808601e-01],\n",
       "       [1.99034764e-01, 5.65777083e-01, 2.35188153e-01],\n",
       "       [2.15000771e-01, 5.30237235e-01, 2.54761994e-01],\n",
       "       [1.29718971e-01, 7.30348986e-01, 1.39932042e-01],\n",
       "       [1.31436297e-01, 7.25756246e-01, 1.42807457e-01],\n",
       "       [1.73031235e-01, 6.23200248e-01, 2.03768518e-01],\n",
       "       [1.32563639e-01, 7.22590736e-01, 1.44845624e-01],\n",
       "       [1.87414283e-01, 5.89940986e-01, 2.22644731e-01],\n",
       "       [1.23609370e-01, 7.47486437e-01, 1.28904193e-01],\n",
       "       [1.11190671e-01, 7.89141085e-01, 9.96682442e-02],\n",
       "       [2.26845475e-01, 4.99157550e-01, 2.73996976e-01],\n",
       "       [1.79910480e-01, 6.07839205e-01, 2.12250315e-01],\n",
       "       [1.51685094e-01, 6.74038254e-01, 1.74276652e-01],\n",
       "       [1.75259517e-01, 6.17110390e-01, 2.07630093e-01],\n",
       "       [1.55785223e-01, 6.63098090e-01, 1.81116687e-01],\n",
       "       [1.62002945e-01, 6.50496368e-01, 1.87500687e-01],\n",
       "       [1.52951481e-01, 6.70655386e-01, 1.76393132e-01],\n",
       "       [1.44469995e-01, 6.92556179e-01, 1.62973827e-01],\n",
       "       [1.35893371e-01, 7.14058590e-01, 1.50048039e-01],\n",
       "       [4.31668310e-01, 1.98989129e-01, 3.69342561e-01],\n",
       "       [3.55325367e-01, 1.85348964e-01, 4.59325669e-01],\n",
       "       [4.77657738e-01, 1.83246548e-01, 3.39095714e-01],\n",
       "       [2.66715204e-01, 1.98029781e-01, 5.35255015e-01],\n",
       "       [3.88071237e-01, 1.85438510e-01, 4.26490253e-01],\n",
       "       [2.01456967e-01, 1.08448764e-01, 6.90094269e-01],\n",
       "       [3.25069815e-01, 1.86931393e-01, 4.87998791e-01],\n",
       "       [2.80074875e-01, 2.95414739e-01, 4.24510386e-01],\n",
       "       [3.40692427e-01, 1.92890215e-01, 4.66417358e-01],\n",
       "       [2.66417457e-01, 2.14804592e-01, 5.18777951e-01],\n",
       "       [2.87491819e-01, 2.79727445e-01, 4.32780736e-01],\n",
       "       [1.81258759e-01, 6.83009372e-02, 7.50440304e-01],\n",
       "       [2.78889243e-01, 2.10592554e-01, 5.10518203e-01],\n",
       "       [2.70837684e-01, 1.60630184e-01, 5.68532132e-01],\n",
       "       [2.66181264e-01, 2.21846626e-01, 5.11972111e-01],\n",
       "       [3.73459442e-01, 1.95571813e-01, 4.30968745e-01],\n",
       "       [1.87788857e-01, 9.30144269e-02, 7.19196716e-01],\n",
       "       [2.27865323e-01, 1.58887871e-01, 6.13246806e-01],\n",
       "       [2.94145141e-01, 1.95269773e-01, 5.10585086e-01],\n",
       "       [2.44393717e-01, 1.83303587e-01, 5.72302696e-01],\n",
       "       [3.27058089e-01, 1.81100341e-01, 4.91841570e-01],\n",
       "       [2.20424349e-01, 1.41056831e-01, 6.38518819e-01],\n",
       "       [3.38348615e-01, 1.81942731e-01, 4.79708654e-01],\n",
       "       [2.56445391e-01, 1.51347982e-01, 5.92206627e-01],\n",
       "       [2.99033418e-01, 1.80261281e-01, 5.20705301e-01],\n",
       "       [3.62271708e-01, 1.92428573e-01, 4.45299719e-01],\n",
       "       [4.41672581e-01, 1.86753026e-01, 3.71574393e-01],\n",
       "       [5.47859105e-01, 1.59376814e-01, 2.92764081e-01],\n",
       "       [1.80210153e-01, 6.14366542e-02, 7.58353193e-01],\n",
       "       [2.71560991e-01, 2.47711646e-01, 4.80727363e-01],\n",
       "       [2.59547356e-01, 2.04996807e-01, 5.35455837e-01],\n",
       "       [2.67704557e-01, 2.31387095e-01, 5.00908347e-01],\n",
       "       [2.34510193e-01, 1.68322937e-01, 5.97166870e-01],\n",
       "       [4.11123421e-01, 1.81501293e-01, 4.07375285e-01],\n",
       "       [2.38754121e-01, 1.64226682e-01, 5.97019196e-01],\n",
       "       [2.93326125e-01, 1.89791060e-01, 5.16882814e-01],\n",
       "       [4.39197605e-01, 1.84998596e-01, 3.75803799e-01],\n",
       "       [2.93856063e-01, 1.91573822e-01, 5.14570114e-01],\n",
       "       [1.94602802e-01, 1.09099897e-01, 6.96297301e-01],\n",
       "       [2.39246580e-01, 1.71080408e-01, 5.89673013e-01],\n",
       "       [2.24493047e-01, 1.47657769e-01, 6.27849184e-01],\n",
       "       [2.23584952e-01, 1.28977739e-01, 6.47437310e-01],\n",
       "       [2.16662990e-01, 1.44296251e-01, 6.39040759e-01],\n",
       "       [2.80633144e-01, 2.93602622e-01, 4.25764233e-01],\n",
       "       [2.13190093e-01, 1.23525166e-01, 6.63284740e-01],\n",
       "       [1.78749387e-01, 4.80274707e-02, 7.73223143e-01],\n",
       "       [2.19519317e-01, 1.28770712e-01, 6.51709971e-01],\n",
       "       [2.44922136e-01, 1.51079759e-01, 6.03998105e-01],\n",
       "       [2.75628694e-01, 3.21469554e-01, 4.02901752e-01],\n",
       "       [1.99635971e-01, 1.09459137e-01, 6.90904892e-01],\n",
       "       [5.57070555e-01, 1.69569421e-01, 2.73360024e-01],\n",
       "       [3.92751784e-01, 1.84060476e-01, 4.23187741e-01],\n",
       "       [5.76705336e-01, 1.62149320e-01, 2.61145343e-01],\n",
       "       [7.24617137e-01, 9.97759342e-02, 1.75606929e-01],\n",
       "       [7.64366894e-01, 8.68266891e-02, 1.48806417e-01],\n",
       "       [4.69341848e-01, 2.15928952e-01, 3.14729199e-01],\n",
       "       [3.02221446e-01, 2.31779050e-01, 4.65999504e-01],\n",
       "       [5.07908184e-01, 1.94415784e-01, 2.97676032e-01],\n",
       "       [5.80138657e-01, 1.55006597e-01, 2.64854746e-01],\n",
       "       [5.10136205e-01, 1.94861209e-01, 2.95002586e-01],\n",
       "       [6.05011848e-01, 1.42762632e-01, 2.52225520e-01],\n",
       "       [7.07876111e-01, 1.06151357e-01, 1.85972532e-01],\n",
       "       [6.79279570e-01, 1.19915036e-01, 2.00805394e-01],\n",
       "       [3.76214542e-01, 1.90589423e-01, 4.33196035e-01],\n",
       "       [4.71179588e-01, 1.83774689e-01, 3.45045722e-01],\n",
       "       [7.27516549e-01, 9.93424620e-02, 1.73140989e-01],\n",
       "       [7.29482691e-01, 9.78911894e-02, 1.72626120e-01],\n",
       "       [4.50837795e-01, 2.28116737e-01, 3.21045468e-01],\n",
       "       [4.53666882e-01, 2.25695075e-01, 3.20638043e-01],\n",
       "       [3.72358907e-01, 1.95998148e-01, 4.31642945e-01],\n",
       "       [6.94037577e-01, 1.13974313e-01, 1.91988110e-01],\n",
       "       [3.58534968e-01, 1.91751238e-01, 4.49713794e-01],\n",
       "       [4.61522871e-01, 2.20635376e-01, 3.17841753e-01],\n",
       "       [5.12359263e-01, 1.67394648e-01, 3.20246089e-01],\n",
       "       [7.32675809e-01, 9.79530696e-02, 1.69371121e-01],\n",
       "       [5.45057793e-01, 1.76298104e-01, 2.78644103e-01],\n",
       "       [3.32676243e-01, 1.77829008e-01, 4.89494750e-01],\n",
       "       [3.50576552e-01, 1.80405717e-01, 4.69017731e-01],\n",
       "       [7.62460399e-01, 8.55935487e-02, 1.51946052e-01],\n",
       "       [5.32886811e-01, 1.78233187e-01, 2.88880003e-01],\n",
       "       [5.12451208e-01, 1.92113148e-01, 2.95435644e-01],\n",
       "       [4.48265785e-01, 2.28811222e-01, 3.22922992e-01],\n",
       "       [9.80838763e-01, 1.88967885e-08, 1.91612184e-02],\n",
       "       [4.79281620e-01, 1.73886346e-01, 3.46832034e-01],\n",
       "       [4.77358483e-01, 1.82510422e-01, 3.40131095e-01],\n",
       "       [4.84226687e-01, 2.07110888e-01, 3.08662425e-01],\n",
       "       [6.03667845e-01, 1.47803362e-01, 2.48528793e-01],\n",
       "       [7.58934103e-01, 8.70045273e-02, 1.54061370e-01],\n",
       "       [3.22900938e-01, 1.76829040e-01, 5.00270022e-01],\n",
       "       [6.95265161e-01, 1.13247225e-01, 1.91487613e-01],\n",
       "       [6.84751103e-01, 1.17877260e-01, 1.97371637e-01],\n",
       "       [5.91296013e-01, 1.49528769e-01, 2.59175218e-01],\n",
       "       [3.94360236e-01, 1.84517544e-01, 4.21122220e-01],\n",
       "       [6.57137887e-01, 1.29176100e-01, 2.13686013e-01],\n",
       "       [5.95412592e-01, 1.54304007e-01, 2.50283402e-01],\n",
       "       [7.22767550e-01, 1.00644920e-01, 1.76587530e-01],\n",
       "       [5.29769939e-01, 1.65187078e-01, 3.05042983e-01],\n",
       "       [6.71808710e-01, 1.19196604e-01, 2.08994686e-01],\n",
       "       [6.11808014e-01, 1.42296421e-01, 2.45895565e-01],\n",
       "       [3.88989788e-01, 1.82723880e-01, 4.28286332e-01]])"
      ]
     },
     "execution_count": 36,
     "metadata": {},
     "output_type": "execute_result"
    }
   ],
   "source": [
    "u"
   ]
  },
  {
   "cell_type": "code",
   "execution_count": 33,
   "id": "1a00460f-9a04-46cd-8d14-e96e7988f5fc",
   "metadata": {},
   "outputs": [
    {
     "name": "stdout",
     "output_type": "stream",
     "text": [
      "[50. 50. 50.]\n",
      "[1. 1. 1. 1. 1. 1. 1. 1. 1. 1. 1. 1. 1. 1. 1. 1. 1. 1. 1. 1. 1. 1. 1. 1.\n",
      " 1. 1. 1. 1. 1. 1. 1. 1. 1. 1. 1. 1. 1. 1. 1. 1. 1. 1. 1. 1. 1. 1. 1. 1.\n",
      " 1. 1. 1. 1. 1. 1. 1. 1. 1. 1. 1. 1. 1. 1. 1. 1. 1. 1. 1. 1. 1. 1. 1. 1.\n",
      " 1. 1. 1. 1. 1. 1. 1. 1. 1. 1. 1. 1. 1. 1. 1. 1. 1. 1. 1. 1. 1. 1. 1. 1.\n",
      " 1. 1. 1. 1. 1. 1. 1. 1. 1. 1. 1. 1. 1. 1. 1. 1. 1. 1. 1. 1. 1. 1. 1. 1.\n",
      " 1. 1. 1. 1. 1. 1. 1. 1. 1. 1. 1. 1. 1. 1. 1. 1. 1. 1. 1. 1. 1. 1. 1. 1.\n",
      " 1. 1. 1. 1. 1. 1.]\n"
     ]
    }
   ],
   "source": [
    "print(np.sum(u, axis=0))#列ごとの総和\n",
    "print(np.sum(u, axis=1))#行ごとの総和"
   ]
  },
  {
   "cell_type": "code",
   "execution_count": null,
   "id": "43762a98-1553-416b-9080-e0b0cb2a52ed",
   "metadata": {},
   "outputs": [],
   "source": []
  },
  {
   "cell_type": "code",
   "execution_count": null,
   "id": "9f75ad0e-6322-4d93-8691-0a4ab656ec6c",
   "metadata": {},
   "outputs": [],
   "source": []
  },
  {
   "cell_type": "code",
   "execution_count": null,
   "id": "59d0f884-a38c-43e8-9b44-6210116487c5",
   "metadata": {},
   "outputs": [],
   "source": []
  },
  {
   "cell_type": "code",
   "execution_count": null,
   "id": "6aa5189d-6c19-44ca-824b-2f26988a2f6e",
   "metadata": {},
   "outputs": [],
   "source": []
  },
  {
   "cell_type": "code",
   "execution_count": 6,
   "id": "924ef1aa-ea7e-4853-9bdf-a8e5e89b3e57",
   "metadata": {},
   "outputs": [
    {
     "ename": "KeyError",
     "evalue": "'__package__'",
     "output_type": "error",
     "traceback": [
      "\u001b[0;31m---------------------------------------------------------------------------\u001b[0m",
      "\u001b[0;31mKeyError\u001b[0m                                  Traceback (most recent call last)",
      "\u001b[0;32m/var/folders/m3/07wc23_96wz9gkkdjrz3n_dw0000gn/T/ipykernel_26557/2665048149.py\u001b[0m in \u001b[0;36m<module>\u001b[0;34m\u001b[0m\n\u001b[0;32m----> 1\u001b[0;31m \u001b[0;32mfrom\u001b[0m \u001b[0mipynb\u001b[0m\u001b[0;34m.\u001b[0m\u001b[0mfs\u001b[0m\u001b[0;34m.\u001b[0m\u001b[0mfull\u001b[0m\u001b[0;34m.\u001b[0m\u001b[0mcalculator\u001b[0m \u001b[0;32mimport\u001b[0m \u001b[0mcalculate_ep\u001b[0m\u001b[0;34m\u001b[0m\u001b[0;34m\u001b[0m\u001b[0m\n\u001b[0m",
      "\u001b[0;32m~/opt/anaconda3/lib/python3.9/site-packages/ipynb/fs/__init__.py\u001b[0m in \u001b[0;36m<module>\u001b[0;34m\u001b[0m\n\u001b[1;32m     25\u001b[0m \u001b[0;34m\u001b[0m\u001b[0m\n\u001b[1;32m     26\u001b[0m     \u001b[0;32mif\u001b[0m \u001b[0mip\u001b[0m \u001b[0;32mis\u001b[0m \u001b[0;32mnot\u001b[0m \u001b[0;32mNone\u001b[0m\u001b[0;34m:\u001b[0m\u001b[0;34m\u001b[0m\u001b[0;34m\u001b[0m\u001b[0m\n\u001b[0;32m---> 27\u001b[0;31m         \u001b[0;32mif\u001b[0m \u001b[0mip\u001b[0m\u001b[0;34m.\u001b[0m\u001b[0muser_ns\u001b[0m\u001b[0;34m[\u001b[0m\u001b[0;34m'__package__'\u001b[0m\u001b[0;34m]\u001b[0m \u001b[0;32mis\u001b[0m \u001b[0;32mNone\u001b[0m\u001b[0;34m:\u001b[0m\u001b[0;34m\u001b[0m\u001b[0;34m\u001b[0m\u001b[0m\n\u001b[0m\u001b[1;32m     28\u001b[0m             \u001b[0mip\u001b[0m\u001b[0;34m.\u001b[0m\u001b[0muser_ns\u001b[0m\u001b[0;34m[\u001b[0m\u001b[0;34m'__package__'\u001b[0m\u001b[0;34m]\u001b[0m \u001b[0;34m=\u001b[0m \u001b[0m__package__\u001b[0m\u001b[0;34m\u001b[0m\u001b[0;34m\u001b[0m\u001b[0m\n\u001b[1;32m     29\u001b[0m \u001b[0;32mexcept\u001b[0m \u001b[0mImportError\u001b[0m\u001b[0;34m:\u001b[0m\u001b[0;34m\u001b[0m\u001b[0;34m\u001b[0m\u001b[0m\n",
      "\u001b[0;31mKeyError\u001b[0m: '__package__'"
     ]
    }
   ],
   "source": [
    "from ipynb.fs.full.calculator import calculate_ep"
   ]
  },
  {
   "cell_type": "code",
   "execution_count": null,
   "id": "eda30f3d-f2bd-4472-a8ca-ea87a8014e9e",
   "metadata": {},
   "outputs": [],
   "source": [
    "#_____________epsilon更新セル____________________________\n",
    "#____________epsilon初期値を作成__________________\n",
    "#任意の範囲（[a, b): a以上、b未満）の乱数を取得したい場合\n",
    "#(b - a) * np.random.rand() + a\n",
    "a = 0.05\n",
    "b = 0.08\n",
    "kappa = (b - a) * np.random.rand(X_size,dimension) + a\n",
    "#kappaを定義\n",
    "epsilon = np.zeros((X_size,dimension))\n",
    "for i in range(X_size):\n",
    "    for j in range(dimension):\n",
    "        ep_max = kappa[i][j]\n",
    "        epsilon[i][j] = (ep_max + ep_max) * np.random.rand() - ep_max\n",
    "#_____________epsilonの更新用に定義______________\n",
    "new_epsilon = np.zeros((X_size,dimension))\n",
    "\n",
    "u_array_m = u_array**3\n",
    "u_sum = np.sum(u_array_m,axis=1)#u_mの行ごとの合計値,epの分母\n",
    "\n",
    "#_____________not_alpha作成部分__________________\n",
    "not_alpha = np.zeros((X_size,dimension)) #ipsilon = alpha * not_alpha,not_alphaは絶対値の部分の分母にも使えそう\n",
    "for k in range(X_size):\n",
    "    for j in range(dimension):\n",
    "        sum_uxv = 0\n",
    "        for i in range(c):\n",
    "            sum_uxv +=u_array_m[k][i]*(X[k][j]-centroids[i][j])\n",
    "        not_alpha[k][j]= sum_uxv\n",
    "        \n",
    "ep_denominator = np.abs((not_alpha)*-1)\n",
    "alpha_kari = kappa/ep_denominator\n",
    "alpha_kari1 = 1/u_sum\n",
    "alpha_list = np.insert(alpha_kari, -1, alpha_kari1, axis=1)#alphaのminリスト作成完了\n",
    "#______________epsilonの更新___________________\n",
    "for i in range(X_size):\n",
    "    for j in range(dimension):\n",
    "        if alpha_list[i][j] < alpha_list[i][-1]:\n",
    "            epsilon[i][j] = alpha_list[i][j]*not_alpha[i][j]*-1\n",
    "        else:\n",
    "            epsilon[i][j] = alpha_list[i][-1]*not_alpha[i][j]*-1"
   ]
  },
  {
   "cell_type": "code",
   "execution_count": null,
   "id": "d82afb8a-2e96-4ace-a738-c0811c485c2c",
   "metadata": {},
   "outputs": [],
   "source": []
  },
  {
   "cell_type": "code",
   "execution_count": null,
   "id": "29642451-d03d-4846-bfbd-04bb5ab8ae3b",
   "metadata": {},
   "outputs": [],
   "source": []
  },
  {
   "cell_type": "code",
   "execution_count": null,
   "id": "6526cfab-cfc5-4d35-8781-ae06942648ef",
   "metadata": {},
   "outputs": [],
   "source": []
  },
  {
   "cell_type": "code",
   "execution_count": null,
   "id": "49f65627-b4f8-4793-b8dd-3449b7eab34f",
   "metadata": {},
   "outputs": [],
   "source": []
  },
  {
   "cell_type": "markdown",
   "id": "136a3963-7b99-455d-b81d-ce52026e0570",
   "metadata": {},
   "source": [
    "## 許容範囲のκを設定  \n",
    "## 誤差の初期値を設定"
   ]
  },
  {
   "cell_type": "code",
   "execution_count": 423,
   "id": "cb49cdc5-b955-42b9-b02c-c17c3456801b",
   "metadata": {},
   "outputs": [],
   "source": [
    "#任意の範囲（[a, b): a以上、b未満）の乱数を取得したい場合\n",
    "#(b - a) * np.random.rand() + a\n",
    "a = 0.05\n",
    "b = 0.08\n",
    "kappa = (b - a) * np.random.rand(X_size,dimension) + a\n",
    "#kappaを定義\n",
    "epsilon = np.zeros((X_size,dimension))\n",
    "for i in range(X_size):\n",
    "    for j in range(dimension):\n",
    "        ep_max = kappa[i][j]\n",
    "        epsilon[i][j] = (ep_max + ep_max) * np.random.rand() - ep_max\n",
    "#epsilon初期値を作成"
   ]
  },
  {
   "cell_type": "code",
   "execution_count": 483,
   "id": "65336fcf-6a96-4509-b1df-801f34a019d9",
   "metadata": {},
   "outputs": [
    {
     "data": {
      "text/plain": [
       "(150, 4)"
      ]
     },
     "execution_count": 483,
     "metadata": {},
     "output_type": "execute_result"
    }
   ],
   "source": [
    "kappa.shape"
   ]
  },
  {
   "cell_type": "code",
   "execution_count": 484,
   "id": "d293bd48-6937-4cae-86b6-8d4659ccfcd2",
   "metadata": {},
   "outputs": [
    {
     "data": {
      "text/plain": [
       "array([0.06110749, 0.06642881, 0.07374297, 0.07461489])"
      ]
     },
     "execution_count": 484,
     "metadata": {},
     "output_type": "execute_result"
    }
   ],
   "source": [
    "kappa[0]"
   ]
  },
  {
   "cell_type": "code",
   "execution_count": 485,
   "id": "fc23369d-b883-49a2-ba76-f9d3c3dee671",
   "metadata": {},
   "outputs": [
    {
     "data": {
      "text/plain": [
       "array([ 0.00838405, -0.01721345, -0.06016985, -0.03735519])"
      ]
     },
     "execution_count": 485,
     "metadata": {},
     "output_type": "execute_result"
    }
   ],
   "source": [
    "epsilon[0]"
   ]
  },
  {
   "cell_type": "markdown",
   "id": "76afea53-6b86-4f00-8e5b-7eb6253bef8f",
   "metadata": {},
   "source": [
    "## 変数定義"
   ]
  },
  {
   "cell_type": "code",
   "execution_count": 486,
   "id": "47250010-9f54-4386-bc94-6597f7b2f7a6",
   "metadata": {},
   "outputs": [
    {
     "data": {
      "text/plain": [
       "(150, 4)"
      ]
     },
     "execution_count": 486,
     "metadata": {},
     "output_type": "execute_result"
    }
   ],
   "source": [
    "#ep_denominator　イプシロン分母\n",
    "#ep_numerator イプシロン分子\n",
    "new_epsilon = np.zeros((X_size,dimension))#epsilonの更新用に定義\n",
    "new_epsilon.shape"
   ]
  },
  {
   "cell_type": "code",
   "execution_count": 487,
   "id": "23a318d4-3c0c-456c-b56a-7b4da22ad548",
   "metadata": {
    "tags": []
   },
   "outputs": [],
   "source": [
    "new_epsilon = np.zeros((X_size,dimension))#epsilonの更新用に定義\n",
    "u_array_m = u_array**3\n",
    "u_sum = np.sum(u_array_m,axis=1)#u_mの行ごとの合計値,epの分母"
   ]
  },
  {
   "cell_type": "code",
   "execution_count": 488,
   "id": "84e4fa32-d1a4-4e2c-9874-14b8a45c64bd",
   "metadata": {
    "tags": []
   },
   "outputs": [],
   "source": [
    "#not_alpha作成部分\n",
    "not_alpha = np.zeros((X_size,dimension)) #ipsilon = alpha * not_alpha,not_alphaは絶対値の部分の分母にも使えそう\n",
    "for k in range(X_size):\n",
    "    for j in range(dimension):\n",
    "        sum_uxv = 0\n",
    "        for i in range(c):\n",
    "            sum_uxv +=u_array_m[k][i]*(X[k][j]-centroids[i][j])\n",
    "        not_alpha[k][j]= sum_uxv"
   ]
  },
  {
   "cell_type": "code",
   "execution_count": 444,
   "id": "cd8f9062-5270-4eb8-8783-5e9ba13467d4",
   "metadata": {},
   "outputs": [
    {
     "data": {
      "text/plain": [
       "array([0.80170722, 0.87970432, 0.91464854, 1.49178982])"
      ]
     },
     "execution_count": 444,
     "metadata": {},
     "output_type": "execute_result"
    }
   ],
   "source": [
    "alpha_kari[0]"
   ]
  },
  {
   "cell_type": "code",
   "execution_count": 446,
   "id": "a5443bc3-6566-4f25-94eb-3612145b6f43",
   "metadata": {},
   "outputs": [
    {
     "data": {
      "text/plain": [
       "1.4514612005806218"
      ]
     },
     "execution_count": 446,
     "metadata": {},
     "output_type": "execute_result"
    }
   ],
   "source": [
    "alpha_kari1[0]"
   ]
  },
  {
   "cell_type": "code",
   "execution_count": 447,
   "id": "8214784f-7ffb-4e73-a053-ba1c17b9302d",
   "metadata": {},
   "outputs": [
    {
     "data": {
      "text/plain": [
       "array([0.80170722, 0.87970432, 0.91464854, 1.4514612 , 1.49178982])"
      ]
     },
     "execution_count": 447,
     "metadata": {},
     "output_type": "execute_result"
    }
   ],
   "source": [
    "alpha_list[0]"
   ]
  },
  {
   "cell_type": "code",
   "execution_count": 450,
   "id": "0962ca6e-ad09-4f9f-b6c1-6a0623369d1c",
   "metadata": {},
   "outputs": [
    {
     "data": {
      "text/plain": [
       "-0.05451240043127715"
      ]
     },
     "execution_count": 450,
     "metadata": {},
     "output_type": "execute_result"
    }
   ],
   "source": [
    "alpha_list[0][0]*not_alpha[0][0]*-1"
   ]
  },
  {
   "cell_type": "code",
   "execution_count": 452,
   "id": "7492900f-7f0f-433c-baaa-d79caa4d4c56",
   "metadata": {},
   "outputs": [
    {
     "data": {
      "text/plain": [
       "-0.05451240043127715"
      ]
     },
     "execution_count": 452,
     "metadata": {},
     "output_type": "execute_result"
    }
   ],
   "source": [
    "epsilon[0][0]"
   ]
  },
  {
   "cell_type": "code",
   "execution_count": 490,
   "id": "936544f5-a953-43e8-8c6d-8f4e40963404",
   "metadata": {},
   "outputs": [],
   "source": [
    "ep_denominator = np.abs((not_alpha)*-1)\n",
    "alpha_kari = kappa/ep_denominator\n",
    "alpha_kari1 = 1/u_sum\n",
    "alpha_list = np.insert(alpha_kari, -1, alpha_kari1, axis=1)#alphaのminリスト作成完了\n",
    "alpha = np.amin(alpha_list,axis=1)#alpha作成完了\n",
    "\n",
    "#epsilonの更新\n",
    "for i in range(X_size):\n",
    "    for j in range(dimension):\n",
    "        if alpha_list[i][j] < alpha_list[i][-1]:\n",
    "            epsilon[i][j] = alpha_list[i][j]*not_alpha[i][j]*-1\n",
    "        else:\n",
    "            epsilon[i][j] = alpha_list[i][-1]*not_alpha[i][j]*-1"
   ]
  },
  {
   "cell_type": "code",
   "execution_count": null,
   "id": "ee020763-77e1-475a-b8f9-dba5a9361d44",
   "metadata": {},
   "outputs": [],
   "source": []
  },
  {
   "cell_type": "code",
   "execution_count": null,
   "id": "fc268daa-9431-4056-8b14-357d2c70dde3",
   "metadata": {},
   "outputs": [],
   "source": []
  },
  {
   "cell_type": "code",
   "execution_count": 416,
   "id": "7d7e83c5-57e1-422c-ba32-2479a06d2fc5",
   "metadata": {},
   "outputs": [
    {
     "data": {
      "text/plain": [
       "-0.1012520065537051"
      ]
     },
     "execution_count": 416,
     "metadata": {},
     "output_type": "execute_result"
    }
   ],
   "source": [
    "#epsilonの更新\n",
    "for i in range(X_size):\n",
    "    for j in range(dimension):\n",
    "        if alpha_list[i][j] < alpha_list[i][-1]:\n",
    "            epsilon[i][j] = alpha_list[i][j]*not_alpha[i][j]\n",
    "        else:\n",
    "            epsilon[i][j] = alpha_list[i][-1]*not_alpha[i][j]\n",
    "epsilon[0][0]"
   ]
  },
  {
   "cell_type": "code",
   "execution_count": 417,
   "id": "c4c277d0-6e7a-42bd-b548-6ff850e1f585",
   "metadata": {},
   "outputs": [
    {
     "data": {
      "text/plain": [
       "array([-0.10125201, -0.10987301,  0.09657633,  0.05329215])"
      ]
     },
     "execution_count": 417,
     "metadata": {},
     "output_type": "execute_result"
    }
   ],
   "source": [
    "epsilon[0]"
   ]
  },
  {
   "cell_type": "code",
   "execution_count": 377,
   "id": "b9322897-57d5-41bd-bf61-9219d4d3f902",
   "metadata": {},
   "outputs": [
    {
     "data": {
      "text/plain": [
       "4"
      ]
     },
     "execution_count": 377,
     "metadata": {},
     "output_type": "execute_result"
    }
   ],
   "source": [
    "np.argmin(alpha_list[0])#最小値のインデックス取得\n",
    "np.amin(alpha_list[0])#最小値の値取得"
   ]
  },
  {
   "cell_type": "code",
   "execution_count": 393,
   "id": "d7049a2d-d7dc-4734-b0d5-b0d3b616bf25",
   "metadata": {
    "collapsed": true,
    "jupyter": {
     "outputs_hidden": true
    },
    "tags": []
   },
   "outputs": [
    {
     "data": {
      "text/plain": [
       "array([-1.45095731e+00, -2.62286324e+00, -1.89806596e+00, -9.19051142e+00,\n",
       "       -1.74079397e+02, -1.52304293e+00, -1.14762947e+01, -2.36940987e+03,\n",
       "       -2.87734282e+00, -4.04876430e+01, -1.67329103e+01, -1.14427864e+01,\n",
       "       -9.57215921e-01, -9.35505822e-01, -2.53154964e+00, -4.15630540e+00,\n",
       "       -1.00127959e+00, -2.61148634e+00, -6.89821686e+01, -2.87927642e+01,\n",
       "       -1.35381356e+01, -1.26380156e+02, -1.96138937e+00, -1.15943461e+00,\n",
       "       -1.49154210e+01, -4.19914228e+01, -7.61199206e+01, -5.24032873e+01,\n",
       "       -9.81361124e+00, -1.91008522e+00, -2.35428091e+00, -2.42999484e+01,\n",
       "       -3.96422183e+00, -2.20332908e+00, -5.90997356e+02, -5.05975076e+01,\n",
       "       -2.10621239e+00, -1.11301693e+02, -2.24202363e+00, -2.03954240e+01,\n",
       "       -1.73298613e+02, -1.60340056e+01, -2.67812038e+00, -4.18065057e+01,\n",
       "       -1.41404850e+00, -3.94528166e+00, -1.82926161e+00, -2.66627203e+00,\n",
       "       -2.22532450e+01, -4.44455694e+03, -1.41537110e+00, -1.04311606e+01,\n",
       "       -2.99211308e+00, -3.23700381e+00, -3.38282819e+02, -1.11828107e+01,\n",
       "       -1.49882889e+01, -2.76662572e+00, -9.57869574e+00, -2.55418582e+01,\n",
       "       -1.61872387e+00, -2.36256389e+02, -3.85622662e+00, -1.40716428e+01,\n",
       "       -4.76689849e+00, -2.09914312e+00, -1.78663771e+00, -2.41999976e+00,\n",
       "       -5.46650222e+00, -6.99655028e-01, -4.91503772e+00, -2.01107663e+01,\n",
       "       -2.68303774e+00, -9.16804585e+01, -3.41333438e+00, -4.12955687e+00,\n",
       "       -2.94758333e+00, -3.12397100e+02, -1.56315996e+00, -1.68041453e+00,\n",
       "       -1.13508396e+00, -8.25062836e-01, -2.06888229e+00, -4.78222374e+00,\n",
       "       -2.92865855e+00, -2.62002426e+01, -2.11816534e+00, -5.37731116e+00,\n",
       "       -2.08572383e+00, -2.25158048e+00, -7.85423286e+00, -1.12606044e+01,\n",
       "       -1.54521959e+00, -1.93355574e+00, -1.88934962e+00, -1.04777749e+00,\n",
       "       -1.80680522e+00, -2.55824748e+00, -1.02686556e+01, -1.39614521e+01,\n",
       "       -8.43690966e-01, -1.52215283e+00, -8.81601174e+00, -1.24995934e+00,\n",
       "       -5.87424230e+00, -4.58804958e+01, -4.00481863e+00, -2.55490178e+00,\n",
       "       -2.86672992e+00, -5.19434643e-01, -4.56540202e+01, -2.71539546e+00,\n",
       "       -4.65367914e+02, -1.39668966e+00, -1.57847732e+01, -1.16827983e+00,\n",
       "       -8.96642454e+01, -9.12574572e-01, -9.20248920e-01, -1.25176409e+01,\n",
       "       -8.83699148e-01, -5.35304180e+00, -3.89913385e+00, -1.94134561e+01,\n",
       "       -2.50925257e+00, -1.36853470e+00, -1.82273498e+02, -6.78753376e+00,\n",
       "       -1.44812120e+00, -1.11945469e+01, -4.26201333e+00, -3.26224781e+00,\n",
       "       -1.20476061e+00, -1.41305025e+01, -8.50122592e-01, -2.69499425e+01,\n",
       "       -1.49662735e+00, -1.01031837e+01, -5.83012846e+00, -1.26892739e+00,\n",
       "       -2.58775210e+00, -2.52373526e+00, -1.92302056e+00, -9.79951112e-01,\n",
       "       -2.03529350e+00, -7.80143199e+00, -5.56951090e+00, -2.17714916e+02,\n",
       "       -1.79128474e+01, -1.07796669e+01])"
      ]
     },
     "execution_count": 393,
     "metadata": {},
     "output_type": "execute_result"
    }
   ],
   "source": [
    "np.argmin(alpha_list,axis=1)#最小値のインデックス取得\n",
    "np.amin(alpha_list,axis=1)#最小値の値取得"
   ]
  },
  {
   "cell_type": "code",
   "execution_count": 394,
   "id": "af69bb0f-af88-4b02-96ca-986c93a88ac3",
   "metadata": {},
   "outputs": [
    {
     "data": {
      "text/plain": [
       "(150, 4)"
      ]
     },
     "execution_count": 394,
     "metadata": {},
     "output_type": "execute_result"
    }
   ],
   "source": [
    "not_alpha.shape"
   ]
  },
  {
   "cell_type": "code",
   "execution_count": null,
   "id": "caeabe3b-2b7a-4636-b75d-225d9fbd1bec",
   "metadata": {},
   "outputs": [],
   "source": []
  },
  {
   "cell_type": "code",
   "execution_count": null,
   "id": "2f2b2846-dd18-4527-b302-edefda7c7a3e",
   "metadata": {},
   "outputs": [],
   "source": []
  },
  {
   "cell_type": "code",
   "execution_count": 308,
   "id": "94e928d0-f53a-4be3-9236-fe8a58510430",
   "metadata": {},
   "outputs": [],
   "source": [
    "#u_sum = np.sum(u_array_m,axis=1)#u_mの行ごとの合計値,epの分母\n",
    "alpha_candidate = np.zeros((X_size,dimension+1))#alphaは（X_size,j＋１）\n",
    "alpha_candidate[:,-1]=1/u_sum#alphaの最後の列に格納しておく"
   ]
  },
  {
   "cell_type": "code",
   "execution_count": null,
   "id": "d7849b91-a681-47fc-87b3-79071fed4dee",
   "metadata": {},
   "outputs": [
    {
     "data": {
      "text/plain": [
       "(150, 5)"
      ]
     },
     "execution_count": 309,
     "metadata": {},
     "output_type": "execute_result"
    }
   ],
   "source": [
    "alpha_candidate.shape"
   ]
  },
  {
   "cell_type": "code",
   "execution_count": 306,
   "id": "9fc5261b-83ea-4a56-be65-7172557f0267",
   "metadata": {},
   "outputs": [
    {
     "data": {
      "text/plain": [
       "(150, 3)"
      ]
     },
     "execution_count": 306,
     "metadata": {},
     "output_type": "execute_result"
    }
   ],
   "source": [
    "u_array.shape"
   ]
  },
  {
   "cell_type": "code",
   "execution_count": 290,
   "id": "353af540-b592-47c8-89f1-f2932a70a3a7",
   "metadata": {},
   "outputs": [
    {
     "data": {
      "text/plain": [
       "(150, 4)"
      ]
     },
     "execution_count": 290,
     "metadata": {},
     "output_type": "execute_result"
    }
   ],
   "source": [
    "not_alpha.shape #ipsilon = alpha * not_alpha,not_alphaは絶対値の部分の分母にも使えそう"
   ]
  },
  {
   "cell_type": "code",
   "execution_count": 324,
   "id": "b6f2a6e9-807f-4e89-b8bc-d86d9d140b55",
   "metadata": {
    "tags": []
   },
   "outputs": [
    {
     "data": {
      "text/plain": [
       "numpy.ndarray"
      ]
     },
     "execution_count": 324,
     "metadata": {},
     "output_type": "execute_result"
    }
   ],
   "source": [
    "type(not_alpha)"
   ]
  },
  {
   "cell_type": "code",
   "execution_count": 336,
   "id": "cd8ef5ff-151d-40a1-9d40-f18dd03a4788",
   "metadata": {},
   "outputs": [],
   "source": [
    "ep_denominator = np.abs((not_alpha)*-1)"
   ]
  },
  {
   "cell_type": "code",
   "execution_count": 339,
   "id": "ab83949c-0168-4448-b3b4-33e59cb26c83",
   "metadata": {},
   "outputs": [
    {
     "data": {
      "text/plain": [
       "(150, 4)"
      ]
     },
     "execution_count": 339,
     "metadata": {},
     "output_type": "execute_result"
    }
   ],
   "source": [
    "ep_denominator.shape"
   ]
  },
  {
   "cell_type": "code",
   "execution_count": 340,
   "id": "2b9d979d-c6f3-43c5-a05a-a11ad79b0367",
   "metadata": {},
   "outputs": [
    {
     "data": {
      "text/plain": [
       "numpy.ndarray"
      ]
     },
     "execution_count": 340,
     "metadata": {},
     "output_type": "execute_result"
    }
   ],
   "source": [
    "type(ep_denominator)"
   ]
  },
  {
   "cell_type": "markdown",
   "id": "73af991e-ab43-4e5e-8194-a7df9467b171",
   "metadata": {},
   "source": [
    "ep_numeratorの作成 -kappa"
   ]
  },
  {
   "cell_type": "code",
   "execution_count": 341,
   "id": "cd286d55-b2c5-4566-8467-6cf52c2365ac",
   "metadata": {},
   "outputs": [
    {
     "data": {
      "text/plain": [
       "numpy.ndarray"
      ]
     },
     "execution_count": 341,
     "metadata": {},
     "output_type": "execute_result"
    }
   ],
   "source": [
    "type(kappa)"
   ]
  },
  {
   "cell_type": "code",
   "execution_count": 342,
   "id": "f0c2a4e5-6048-41bd-99e0-c40c568b538b",
   "metadata": {},
   "outputs": [
    {
     "data": {
      "text/plain": [
       "(150, 4)"
      ]
     },
     "execution_count": 342,
     "metadata": {},
     "output_type": "execute_result"
    }
   ],
   "source": [
    "kappa.shape"
   ]
  },
  {
   "cell_type": "code",
   "execution_count": 347,
   "id": "3e34cc15-9cfe-4bff-8b47-66857ca9d6c7",
   "metadata": {
    "tags": []
   },
   "outputs": [],
   "source": [
    "alpha_kari = -kappa/ep_denominator"
   ]
  },
  {
   "cell_type": "code",
   "execution_count": 349,
   "id": "3d78e536-58c4-4b0b-a022-bf32231c2106",
   "metadata": {},
   "outputs": [
    {
     "data": {
      "text/plain": [
       "(150, 4)"
      ]
     },
     "execution_count": 349,
     "metadata": {},
     "output_type": "execute_result"
    }
   ],
   "source": [
    "alpha_kari.shape"
   ]
  },
  {
   "cell_type": "code",
   "execution_count": 359,
   "id": "4cf4f9da-f9e2-487e-9fa5-bc93d78fde94",
   "metadata": {},
   "outputs": [
    {
     "data": {
      "text/plain": [
       "(150,)"
      ]
     },
     "execution_count": 359,
     "metadata": {},
     "output_type": "execute_result"
    }
   ],
   "source": [
    "alpha_kari1 = 1/u_sum\n",
    "alpha_kari1.shape"
   ]
  },
  {
   "cell_type": "code",
   "execution_count": 371,
   "id": "b2141e50-3d17-464f-833f-15d48182c166",
   "metadata": {
    "tags": []
   },
   "outputs": [
    {
     "data": {
      "text/plain": [
       "array([-0.8663483 , -0.67547973, -0.99929282,  1.42915302, -1.45095731])"
      ]
     },
     "execution_count": 371,
     "metadata": {},
     "output_type": "execute_result"
    }
   ],
   "source": [
    "alpha_karikari = np.insert(alpha_kari, -1, alpha_kari1, axis=1)\n",
    "alpha_karikari[0]"
   ]
  },
  {
   "cell_type": "code",
   "execution_count": 369,
   "id": "23f1096a-df46-45d6-89a6-bcf50b004975",
   "metadata": {},
   "outputs": [
    {
     "data": {
      "text/plain": [
       "array([-0.8663483 , -0.67547973, -0.99929282, -1.45095731])"
      ]
     },
     "execution_count": 369,
     "metadata": {},
     "output_type": "execute_result"
    }
   ],
   "source": [
    "alpha_kari[0]"
   ]
  },
  {
   "cell_type": "code",
   "execution_count": 370,
   "id": "6a8703fb-2be3-4305-8ee8-6b7ea6b946c5",
   "metadata": {},
   "outputs": [
    {
     "data": {
      "text/plain": [
       "1.429153021611631"
      ]
     },
     "execution_count": 370,
     "metadata": {},
     "output_type": "execute_result"
    }
   ],
   "source": [
    "alpha_kari1[0]"
   ]
  },
  {
   "cell_type": "code",
   "execution_count": 481,
   "id": "273585d0-677c-4ad2-8b0a-f05166cac4df",
   "metadata": {},
   "outputs": [
    {
     "name": "stdout",
     "output_type": "stream",
     "text": [
      "[50. 50. 50.]\n",
      "[1. 1. 1. 1. 1. 1. 1. 1. 1. 1. 1. 1. 1. 1. 1. 1. 1. 1. 1. 1. 1. 1. 1. 1.\n",
      " 1. 1. 1. 1. 1. 1. 1. 1. 1. 1. 1. 1. 1. 1. 1. 1. 1. 1. 1. 1. 1. 1. 1. 1.\n",
      " 1. 1. 1. 1. 1. 1. 1. 1. 1. 1. 1. 1. 1. 1. 1. 1. 1. 1. 1. 1. 1. 1. 1. 1.\n",
      " 1. 1. 1. 1. 1. 1. 1. 1. 1. 1. 1. 1. 1. 1. 1. 1. 1. 1. 1. 1. 1. 1. 1. 1.\n",
      " 1. 1. 1. 1. 1. 1. 1. 1. 1. 1. 1. 1. 1. 1. 1. 1. 1. 1. 1. 1. 1. 1. 1. 1.\n",
      " 1. 1. 1. 1. 1. 1. 1. 1. 1. 1. 1. 1. 1. 1. 1. 1. 1. 1. 1. 1. 1. 1. 1. 1.\n",
      " 1. 1. 1. 1. 1. 1.]\n"
     ]
    }
   ],
   "source": [
    "print(np.sum(u_array, axis=0))#列ごとの総和\n",
    "print(np.sum(u_array, axis=1))#行ごとの総和"
   ]
  },
  {
   "cell_type": "code",
   "execution_count": 157,
   "id": "e12e8548-4d6a-4ea3-a9f1-53a69729fc14",
   "metadata": {},
   "outputs": [],
   "source": [
    "#クラスタ中心計算部分関数作成\n",
    "def v_calculation(u_array):\n",
    "    #分母計算(クラスタサイズになるはず)\n",
    "    u_array_m = u_array**3\n",
    "    v_denominator = np.sum(u_array_m,axis=0)\n",
    "    \"\"\"\n",
    "    v0_denominator=0\n",
    "    v1_denominator=0\n",
    "    v2_denominator=0\n",
    "    for i in range(X_size):\n",
    "        v0_denominator += u_array[i][0]**3\n",
    "        v1_denominator += u_array[i][1]**3\n",
    "        v2_denominator += u_array[i][2]**3\n",
    "    \"\"\"\n",
    "    #分子計算\n",
    "    v_numerator = np.zeros((c,dimension))\n",
    "    for j in range(c):\n",
    "        for i in range(X_size):\n",
    "            v_numerator[j]+= u_array_m[i][j]*X[i]\n",
    "    \"\"\"\n",
    "    for i in range(X_szie):\n",
    "        u_array_m[i]\n",
    "    v0_numerator = 0\n",
    "    v1_numerator = 0\n",
    "    v2_numerator = 0\n",
    "\n",
    "    for i in range(X_size):\n",
    "        v0_numerator += u_array[i][0]**3*X[i]\n",
    "    for i in range(X_size):\n",
    "        v1_numerator += u_array[i][1]**3*X[i]\n",
    "    for i in range(X_size):\n",
    "        v2_numerator += u_array[i][2]**3*X[i]\n",
    "    \"\"\"\n",
    "    np.zeros((c,dimension ))\n",
    "    for i in range(c):\n",
    "        v[i] = v_numerator[i]/v_denominator[i]\n",
    "    \"\"\"\n",
    "    v=[0 for i in range(c)]\n",
    "    v[0] = v_denominetor[i][j]*X[i]\n",
    "    v[1] = v1_numerator / v1_denominator\n",
    "    v[2] = v2_numerator / v2_denominator\n",
    "    v[0] = v0_numerator / v0_denominator\n",
    "    v[1] = v1_numerator / v1_denominator\n",
    "    v[2] = v2_numerator / v2_denominator\n",
    "    \"\"\"\n",
    "    return v"
   ]
  },
  {
   "cell_type": "code",
   "execution_count": null,
   "id": "4571ca85-2c60-407f-89a1-a8cb80702160",
   "metadata": {},
   "outputs": [
    {
     "data": {
      "text/plain": [
       "array([4.99945885, 3.39022676, 1.49107038, 0.25094844])"
      ]
     },
     "execution_count": 139,
     "metadata": {},
     "output_type": "execute_result"
    }
   ],
   "source": [
    "v_numerator[0]/v_denominator[0]"
   ]
  },
  {
   "cell_type": "code",
   "execution_count": null,
   "id": "ccd9d662-e2c1-4e9e-9153-ac66e83fbb57",
   "metadata": {},
   "outputs": [
    {
     "data": {
      "text/plain": [
       "array([25.79982586, 14.11631011, 16.55363602])"
      ]
     },
     "execution_count": 135,
     "metadata": {},
     "output_type": "execute_result"
    }
   ],
   "source": [
    "v_denominator"
   ]
  },
  {
   "cell_type": "markdown",
   "id": "f5983902-84ad-419e-be12-7f150b5f0f97",
   "metadata": {},
   "source": [
    "2を0\\\n",
    "1を2\\\n",
    "0を1"
   ]
  },
  {
   "cell_type": "code",
   "execution_count": 23,
   "id": "f95fa6d3-8af6-462f-9ba0-2dbe7f8ce0ad",
   "metadata": {},
   "outputs": [],
   "source": [
    "cluster_hensyuu = np_cluster\n",
    "cluster_hensyuu_0 = np.where(cluster_hensyuu==1, 100, np_cluster)\n",
    "cluster_hensyuu_1 = np.where(cluster_hensyuu_0==0, 1, cluster_hensyuu_0)\n",
    "cluster_hensyuu_2 = np.where(cluster_hensyuu_1==2, 0, cluster_hensyuu_1)\n",
    "cluster_hensyuu_3 = np.where(cluster_hensyuu_2==100, 2, cluster_hensyuu_2)"
   ]
  },
  {
   "cell_type": "code",
   "execution_count": 28,
   "id": "e2664928-b3bf-4b1e-a758-8a65f72ccf8b",
   "metadata": {},
   "outputs": [
    {
     "data": {
      "image/png": "[encoded data removed]",
      "text/plain": [
       "<Figure size 432x288 with 1 Axes>"
      ]
     },
     "metadata": {
      "needs_background": "light"
     },
     "output_type": "display_data"
    }
   ],
   "source": [
    "#グラフ\n",
    "colors = ['red', 'blue', 'green','yellow','fuchsia']\n",
    "markers = [\",\", \"o\", \"v\", \"^\", \"<\", \">\", \"1\", \"2\", \"3\"]\n",
    "fig = plt.figure()\n",
    "ax = fig.add_subplot(111)\n",
    "#clusterはnp.array型じゃないとダメそう(リスト型だとグラフに描画されなかった)\n",
    "for i in range(c):\n",
    "    ax.scatter(X[:, 0][cluster_hensyuu_3==i], X[:, 1][cluster_hensyuu_3==i], color=colors[i],marker=markers[i])\n",
    "\n",
    "ax.scatter(best_centroids[:,0],best_centroids[:,1],color=\"black\",marker=\"x\")\n",
    "#ax.set_title('fecbo', size=16)\n",
    "ax.set_xlabel(\"X\", size=14)\n",
    "ax.set_ylabel(\"Y\", size=14)\n",
    "ax.legend(['cluster1', 'cluster2','cluster3',\"center\"],fontsize=9,ncol=2,bbox_to_anchor=(0, -0.1),\\\n",
    "           loc='upper left')  # 凡例を表示\n",
    "\n",
    "plt.show()\n",
    "\n",
    "fig.savefig(\"iris_m3.pdf\",bbox_inches='tight')"
   ]
  },
  {
   "cell_type": "code",
   "execution_count": 175,
   "id": "64a4d4b6-d686-4238-a89d-5d0c1141a07f",
   "metadata": {},
   "outputs": [
    {
     "ename": "FileNotFoundError",
     "evalue": "[Errno 2] No such file or directory: '../iris-dataset.csv'",
     "output_type": "error",
     "traceback": [
      "\u001b[0;31m---------------------------------------------------------------------------\u001b[0m",
      "\u001b[0;31mFileNotFoundError\u001b[0m                         Traceback (most recent call last)",
      "\u001b[0;32m/var/folders/m3/07wc23_96wz9gkkdjrz3n_dw0000gn/T/ipykernel_16069/1406213807.py\u001b[0m in \u001b[0;36m<module>\u001b[0;34m\u001b[0m\n\u001b[1;32m      1\u001b[0m \u001b[0;31m#------正解率の算出\u001b[0m\u001b[0;34m\u001b[0m\u001b[0;34m\u001b[0m\u001b[0m\n\u001b[0;32m----> 2\u001b[0;31m \u001b[0mdff\u001b[0m \u001b[0;34m=\u001b[0m \u001b[0mpd\u001b[0m\u001b[0;34m.\u001b[0m\u001b[0mread_csv\u001b[0m\u001b[0;34m(\u001b[0m\u001b[0;34m\"../iris-dataset.csv\"\u001b[0m\u001b[0;34m)\u001b[0m\u001b[0;34m\u001b[0m\u001b[0;34m\u001b[0m\u001b[0m\n\u001b[0m\u001b[1;32m      3\u001b[0m \u001b[0msize_mapping\u001b[0m \u001b[0;34m=\u001b[0m \u001b[0;34m{\u001b[0m\u001b[0;34m\"setosa\"\u001b[0m\u001b[0;34m:\u001b[0m \u001b[0;36m0\u001b[0m\u001b[0;34m,\u001b[0m \u001b[0;34m\"versicolor\"\u001b[0m\u001b[0;34m:\u001b[0m \u001b[0;36m1\u001b[0m\u001b[0;34m,\u001b[0m \u001b[0;34m\"virginica\"\u001b[0m\u001b[0;34m:\u001b[0m \u001b[0;36m2\u001b[0m\u001b[0;34m}\u001b[0m\u001b[0;34m\u001b[0m\u001b[0;34m\u001b[0m\u001b[0m\n\u001b[1;32m      4\u001b[0m \u001b[0mdff\u001b[0m\u001b[0;34m[\u001b[0m\u001b[0;34m\"species\"\u001b[0m\u001b[0;34m]\u001b[0m \u001b[0;34m=\u001b[0m \u001b[0miris\u001b[0m\u001b[0;34m[\u001b[0m\u001b[0;34m\"species\"\u001b[0m\u001b[0;34m]\u001b[0m\u001b[0;34m.\u001b[0m\u001b[0mmap\u001b[0m\u001b[0;34m(\u001b[0m\u001b[0msize_mapping\u001b[0m\u001b[0;34m)\u001b[0m\u001b[0;34m\u001b[0m\u001b[0;34m\u001b[0m\u001b[0m\n\u001b[1;32m      5\u001b[0m \u001b[0miris_seikai\u001b[0m \u001b[0;34m=\u001b[0m \u001b[0mdff\u001b[0m\u001b[0;34m.\u001b[0m\u001b[0mvalues\u001b[0m\u001b[0;34m\u001b[0m\u001b[0;34m\u001b[0m\u001b[0m\n",
      "\u001b[0;32m~/opt/anaconda3/lib/python3.9/site-packages/pandas/util/_decorators.py\u001b[0m in \u001b[0;36mwrapper\u001b[0;34m(*args, **kwargs)\u001b[0m\n\u001b[1;32m    309\u001b[0m                     \u001b[0mstacklevel\u001b[0m\u001b[0;34m=\u001b[0m\u001b[0mstacklevel\u001b[0m\u001b[0;34m,\u001b[0m\u001b[0;34m\u001b[0m\u001b[0;34m\u001b[0m\u001b[0m\n\u001b[1;32m    310\u001b[0m                 )\n\u001b[0;32m--> 311\u001b[0;31m             \u001b[0;32mreturn\u001b[0m \u001b[0mfunc\u001b[0m\u001b[0;34m(\u001b[0m\u001b[0;34m*\u001b[0m\u001b[0margs\u001b[0m\u001b[0;34m,\u001b[0m \u001b[0;34m**\u001b[0m\u001b[0mkwargs\u001b[0m\u001b[0;34m)\u001b[0m\u001b[0;34m\u001b[0m\u001b[0;34m\u001b[0m\u001b[0m\n\u001b[0m\u001b[1;32m    312\u001b[0m \u001b[0;34m\u001b[0m\u001b[0m\n\u001b[1;32m    313\u001b[0m         \u001b[0;32mreturn\u001b[0m \u001b[0mwrapper\u001b[0m\u001b[0;34m\u001b[0m\u001b[0;34m\u001b[0m\u001b[0m\n",
      "\u001b[0;32m~/opt/anaconda3/lib/python3.9/site-packages/pandas/io/parsers/readers.py\u001b[0m in \u001b[0;36mread_csv\u001b[0;34m(filepath_or_buffer, sep, delimiter, header, names, index_col, usecols, squeeze, prefix, mangle_dupe_cols, dtype, engine, converters, true_values, false_values, skipinitialspace, skiprows, skipfooter, nrows, na_values, keep_default_na, na_filter, verbose, skip_blank_lines, parse_dates, infer_datetime_format, keep_date_col, date_parser, dayfirst, cache_dates, iterator, chunksize, compression, thousands, decimal, lineterminator, quotechar, quoting, doublequote, escapechar, comment, encoding, encoding_errors, dialect, error_bad_lines, warn_bad_lines, on_bad_lines, delim_whitespace, low_memory, memory_map, float_precision, storage_options)\u001b[0m\n\u001b[1;32m    584\u001b[0m     \u001b[0mkwds\u001b[0m\u001b[0;34m.\u001b[0m\u001b[0mupdate\u001b[0m\u001b[0;34m(\u001b[0m\u001b[0mkwds_defaults\u001b[0m\u001b[0;34m)\u001b[0m\u001b[0;34m\u001b[0m\u001b[0;34m\u001b[0m\u001b[0m\n\u001b[1;32m    585\u001b[0m \u001b[0;34m\u001b[0m\u001b[0m\n\u001b[0;32m--> 586\u001b[0;31m     \u001b[0;32mreturn\u001b[0m \u001b[0m_read\u001b[0m\u001b[0;34m(\u001b[0m\u001b[0mfilepath_or_buffer\u001b[0m\u001b[0;34m,\u001b[0m \u001b[0mkwds\u001b[0m\u001b[0;34m)\u001b[0m\u001b[0;34m\u001b[0m\u001b[0;34m\u001b[0m\u001b[0m\n\u001b[0m\u001b[1;32m    587\u001b[0m \u001b[0;34m\u001b[0m\u001b[0m\n\u001b[1;32m    588\u001b[0m \u001b[0;34m\u001b[0m\u001b[0m\n",
      "\u001b[0;32m~/opt/anaconda3/lib/python3.9/site-packages/pandas/io/parsers/readers.py\u001b[0m in \u001b[0;36m_read\u001b[0;34m(filepath_or_buffer, kwds)\u001b[0m\n\u001b[1;32m    480\u001b[0m \u001b[0;34m\u001b[0m\u001b[0m\n\u001b[1;32m    481\u001b[0m     \u001b[0;31m# Create the parser.\u001b[0m\u001b[0;34m\u001b[0m\u001b[0;34m\u001b[0m\u001b[0m\n\u001b[0;32m--> 482\u001b[0;31m     \u001b[0mparser\u001b[0m \u001b[0;34m=\u001b[0m \u001b[0mTextFileReader\u001b[0m\u001b[0;34m(\u001b[0m\u001b[0mfilepath_or_buffer\u001b[0m\u001b[0;34m,\u001b[0m \u001b[0;34m**\u001b[0m\u001b[0mkwds\u001b[0m\u001b[0;34m)\u001b[0m\u001b[0;34m\u001b[0m\u001b[0;34m\u001b[0m\u001b[0m\n\u001b[0m\u001b[1;32m    483\u001b[0m \u001b[0;34m\u001b[0m\u001b[0m\n\u001b[1;32m    484\u001b[0m     \u001b[0;32mif\u001b[0m \u001b[0mchunksize\u001b[0m \u001b[0;32mor\u001b[0m \u001b[0miterator\u001b[0m\u001b[0;34m:\u001b[0m\u001b[0;34m\u001b[0m\u001b[0;34m\u001b[0m\u001b[0m\n",
      "\u001b[0;32m~/opt/anaconda3/lib/python3.9/site-packages/pandas/io/parsers/readers.py\u001b[0m in \u001b[0;36m__init__\u001b[0;34m(self, f, engine, **kwds)\u001b[0m\n\u001b[1;32m    809\u001b[0m             \u001b[0mself\u001b[0m\u001b[0;34m.\u001b[0m\u001b[0moptions\u001b[0m\u001b[0;34m[\u001b[0m\u001b[0;34m\"has_index_names\"\u001b[0m\u001b[0;34m]\u001b[0m \u001b[0;34m=\u001b[0m \u001b[0mkwds\u001b[0m\u001b[0;34m[\u001b[0m\u001b[0;34m\"has_index_names\"\u001b[0m\u001b[0;34m]\u001b[0m\u001b[0;34m\u001b[0m\u001b[0;34m\u001b[0m\u001b[0m\n\u001b[1;32m    810\u001b[0m \u001b[0;34m\u001b[0m\u001b[0m\n\u001b[0;32m--> 811\u001b[0;31m         \u001b[0mself\u001b[0m\u001b[0;34m.\u001b[0m\u001b[0m_engine\u001b[0m \u001b[0;34m=\u001b[0m \u001b[0mself\u001b[0m\u001b[0;34m.\u001b[0m\u001b[0m_make_engine\u001b[0m\u001b[0;34m(\u001b[0m\u001b[0mself\u001b[0m\u001b[0;34m.\u001b[0m\u001b[0mengine\u001b[0m\u001b[0;34m)\u001b[0m\u001b[0;34m\u001b[0m\u001b[0;34m\u001b[0m\u001b[0m\n\u001b[0m\u001b[1;32m    812\u001b[0m \u001b[0;34m\u001b[0m\u001b[0m\n\u001b[1;32m    813\u001b[0m     \u001b[0;32mdef\u001b[0m \u001b[0mclose\u001b[0m\u001b[0;34m(\u001b[0m\u001b[0mself\u001b[0m\u001b[0;34m)\u001b[0m\u001b[0;34m:\u001b[0m\u001b[0;34m\u001b[0m\u001b[0;34m\u001b[0m\u001b[0m\n",
      "\u001b[0;32m~/opt/anaconda3/lib/python3.9/site-packages/pandas/io/parsers/readers.py\u001b[0m in \u001b[0;36m_make_engine\u001b[0;34m(self, engine)\u001b[0m\n\u001b[1;32m   1038\u001b[0m             )\n\u001b[1;32m   1039\u001b[0m         \u001b[0;31m# error: Too many arguments for \"ParserBase\"\u001b[0m\u001b[0;34m\u001b[0m\u001b[0;34m\u001b[0m\u001b[0m\n\u001b[0;32m-> 1040\u001b[0;31m         \u001b[0;32mreturn\u001b[0m \u001b[0mmapping\u001b[0m\u001b[0;34m[\u001b[0m\u001b[0mengine\u001b[0m\u001b[0;34m]\u001b[0m\u001b[0;34m(\u001b[0m\u001b[0mself\u001b[0m\u001b[0;34m.\u001b[0m\u001b[0mf\u001b[0m\u001b[0;34m,\u001b[0m \u001b[0;34m**\u001b[0m\u001b[0mself\u001b[0m\u001b[0;34m.\u001b[0m\u001b[0moptions\u001b[0m\u001b[0;34m)\u001b[0m  \u001b[0;31m# type: ignore[call-arg]\u001b[0m\u001b[0;34m\u001b[0m\u001b[0;34m\u001b[0m\u001b[0m\n\u001b[0m\u001b[1;32m   1041\u001b[0m \u001b[0;34m\u001b[0m\u001b[0m\n\u001b[1;32m   1042\u001b[0m     \u001b[0;32mdef\u001b[0m \u001b[0m_failover_to_python\u001b[0m\u001b[0;34m(\u001b[0m\u001b[0mself\u001b[0m\u001b[0;34m)\u001b[0m\u001b[0;34m:\u001b[0m\u001b[0;34m\u001b[0m\u001b[0;34m\u001b[0m\u001b[0m\n",
      "\u001b[0;32m~/opt/anaconda3/lib/python3.9/site-packages/pandas/io/parsers/c_parser_wrapper.py\u001b[0m in \u001b[0;36m__init__\u001b[0;34m(self, src, **kwds)\u001b[0m\n\u001b[1;32m     49\u001b[0m \u001b[0;34m\u001b[0m\u001b[0m\n\u001b[1;32m     50\u001b[0m         \u001b[0;31m# open handles\u001b[0m\u001b[0;34m\u001b[0m\u001b[0;34m\u001b[0m\u001b[0m\n\u001b[0;32m---> 51\u001b[0;31m         \u001b[0mself\u001b[0m\u001b[0;34m.\u001b[0m\u001b[0m_open_handles\u001b[0m\u001b[0;34m(\u001b[0m\u001b[0msrc\u001b[0m\u001b[0;34m,\u001b[0m \u001b[0mkwds\u001b[0m\u001b[0;34m)\u001b[0m\u001b[0;34m\u001b[0m\u001b[0;34m\u001b[0m\u001b[0m\n\u001b[0m\u001b[1;32m     52\u001b[0m         \u001b[0;32massert\u001b[0m \u001b[0mself\u001b[0m\u001b[0;34m.\u001b[0m\u001b[0mhandles\u001b[0m \u001b[0;32mis\u001b[0m \u001b[0;32mnot\u001b[0m \u001b[0;32mNone\u001b[0m\u001b[0;34m\u001b[0m\u001b[0;34m\u001b[0m\u001b[0m\n\u001b[1;32m     53\u001b[0m \u001b[0;34m\u001b[0m\u001b[0m\n",
      "\u001b[0;32m~/opt/anaconda3/lib/python3.9/site-packages/pandas/io/parsers/base_parser.py\u001b[0m in \u001b[0;36m_open_handles\u001b[0;34m(self, src, kwds)\u001b[0m\n\u001b[1;32m    220\u001b[0m         \u001b[0mLet\u001b[0m \u001b[0mthe\u001b[0m \u001b[0mreaders\u001b[0m \u001b[0mopen\u001b[0m \u001b[0mIOHandles\u001b[0m \u001b[0mafter\u001b[0m \u001b[0mthey\u001b[0m \u001b[0mare\u001b[0m \u001b[0mdone\u001b[0m \u001b[0;32mwith\u001b[0m \u001b[0mtheir\u001b[0m \u001b[0mpotential\u001b[0m \u001b[0mraises\u001b[0m\u001b[0;34m.\u001b[0m\u001b[0;34m\u001b[0m\u001b[0;34m\u001b[0m\u001b[0m\n\u001b[1;32m    221\u001b[0m         \"\"\"\n\u001b[0;32m--> 222\u001b[0;31m         self.handles = get_handle(\n\u001b[0m\u001b[1;32m    223\u001b[0m             \u001b[0msrc\u001b[0m\u001b[0;34m,\u001b[0m\u001b[0;34m\u001b[0m\u001b[0;34m\u001b[0m\u001b[0m\n\u001b[1;32m    224\u001b[0m             \u001b[0;34m\"r\"\u001b[0m\u001b[0;34m,\u001b[0m\u001b[0;34m\u001b[0m\u001b[0;34m\u001b[0m\u001b[0m\n",
      "\u001b[0;32m~/opt/anaconda3/lib/python3.9/site-packages/pandas/io/common.py\u001b[0m in \u001b[0;36mget_handle\u001b[0;34m(path_or_buf, mode, encoding, compression, memory_map, is_text, errors, storage_options)\u001b[0m\n\u001b[1;32m    700\u001b[0m         \u001b[0;32mif\u001b[0m \u001b[0mioargs\u001b[0m\u001b[0;34m.\u001b[0m\u001b[0mencoding\u001b[0m \u001b[0;32mand\u001b[0m \u001b[0;34m\"b\"\u001b[0m \u001b[0;32mnot\u001b[0m \u001b[0;32min\u001b[0m \u001b[0mioargs\u001b[0m\u001b[0;34m.\u001b[0m\u001b[0mmode\u001b[0m\u001b[0;34m:\u001b[0m\u001b[0;34m\u001b[0m\u001b[0;34m\u001b[0m\u001b[0m\n\u001b[1;32m    701\u001b[0m             \u001b[0;31m# Encoding\u001b[0m\u001b[0;34m\u001b[0m\u001b[0;34m\u001b[0m\u001b[0m\n\u001b[0;32m--> 702\u001b[0;31m             handle = open(\n\u001b[0m\u001b[1;32m    703\u001b[0m                 \u001b[0mhandle\u001b[0m\u001b[0;34m,\u001b[0m\u001b[0;34m\u001b[0m\u001b[0;34m\u001b[0m\u001b[0m\n\u001b[1;32m    704\u001b[0m                 \u001b[0mioargs\u001b[0m\u001b[0;34m.\u001b[0m\u001b[0mmode\u001b[0m\u001b[0;34m,\u001b[0m\u001b[0;34m\u001b[0m\u001b[0;34m\u001b[0m\u001b[0m\n",
      "\u001b[0;31mFileNotFoundError\u001b[0m: [Errno 2] No such file or directory: '../iris-dataset.csv'"
     ]
    }
   ],
   "source": [
    "#------正解率の算出\n",
    "dff = pd.read_csv(\"../iris-dataset.csv\")\n",
    "size_mapping = {\"setosa\": 0, \"versicolor\": 1, \"virginica\": 2}\n",
    "dff[\"species\"] = iris[\"species\"].map(size_mapping)\n",
    "iris_seikai = dff.values\n",
    "seikai = iris_seikai[:,4]\n",
    "seikaisuu = np.count_nonzero(cluster_hensyuu_3==seikai)\n",
    "seikairitu= (np.count_nonzero(cluster_hensyuu_3==seikai))/X_size*100\n",
    "print(\"正解率\")\n",
    "print(seikairitu)\n",
    "print(\"正解数\")\n",
    "print(seikaisuu)\n",
    "print(\"クラスタサイズ確認\")\n",
    "print(np.count_nonzero(cluster_hensyuu_3==0))\n",
    "print(np.count_nonzero(cluster_hensyuu_3==1))\n",
    "print(np.count_nonzero(cluster_hensyuu_3==2))"
   ]
  },
  {
   "cell_type": "code",
   "execution_count": 14,
   "id": "0c5c8665-83d6-4551-a1b8-15d8df1783f4",
   "metadata": {},
   "outputs": [
    {
     "name": "stdout",
     "output_type": "stream",
     "text": [
      "23\n",
      "18\n",
      "20\n",
      "21\n",
      "18\n"
     ]
    }
   ],
   "source": [
    "print(np.count_nonzero(hensyuu3==0))\n",
    "print(np.count_nonzero(hensyuu3==1))\n",
    "print(np.count_nonzero(hensyuu3==2))\n",
    "print(np.count_nonzero(hensyuu3==3))\n",
    "print(np.count_nonzero(hensyuu3==4))"
   ]
  },
  {
   "cell_type": "code",
   "execution_count": 331,
   "id": "36e5668f-ab64-4bd6-8b58-3951e0d04909",
   "metadata": {
    "collapsed": true,
    "jupyter": {
     "outputs_hidden": true
    },
    "tags": []
   },
   "outputs": [
    {
     "data": {
      "text/plain": [
       "array([[2.80887542e-02, 3.38961295e-02, 8.51168654e-02, 3.89895755e-02,\n",
       "        8.13908675e-01],\n",
       "       [2.24827092e-03, 1.57081983e-02, 5.53600901e-02, 9.07081342e-01,\n",
       "        1.96020987e-02],\n",
       "       [8.74175158e-01, 2.17389576e-02, 5.76850510e-02, 1.78551666e-02,\n",
       "        2.85456669e-02],\n",
       "       [2.20306210e-02, 8.69565910e-01, 4.21344006e-02, 2.95332292e-02,\n",
       "        3.67358388e-02],\n",
       "       [9.11278965e-09, 1.04713998e-08, 9.99999959e-01, 1.14584518e-08,\n",
       "        1.01136167e-08],\n",
       "       [6.00075476e-02, 7.26335140e-02, 9.44198090e-02, 7.76956440e-02,\n",
       "        6.95243485e-01],\n",
       "       [3.68628832e-02, 4.56450490e-02, 8.28108920e-02, 4.96334363e-02,\n",
       "        7.85047739e-01],\n",
       "       [9.02618890e-02, 7.71389287e-02, 1.30797479e-01, 8.45005731e-02,\n",
       "        6.17301130e-01],\n",
       "       [6.97410296e-02, 6.67735606e-02, 1.00992795e-01, 6.59332712e-02,\n",
       "        6.96559344e-01],\n",
       "       [6.26020995e-02, 7.60603378e-02, 9.59016427e-02, 8.11986465e-02,\n",
       "        6.84237273e-01],\n",
       "       [1.53407570e-02, 2.58040525e-02, 8.20601798e-02, 3.26537767e-02,\n",
       "        8.44141234e-01],\n",
       "       [7.46412232e-02, 6.97115035e-02, 1.25257311e-01, 8.35668392e-02,\n",
       "        6.46823124e-01],\n",
       "       [5.51380249e-02, 6.43164882e-02, 9.75964394e-02, 7.65246886e-02,\n",
       "        7.06424359e-01],\n",
       "       [4.42412599e-02, 5.34001377e-02, 8.80050664e-02, 6.03599496e-02,\n",
       "        7.53993586e-01],\n",
       "       [4.26820974e-02, 4.56367596e-02, 8.83659626e-02, 4.81865243e-02,\n",
       "        7.75128656e-01],\n",
       "       [7.79089735e-02, 7.47409632e-02, 1.31664864e-01, 9.40085843e-02,\n",
       "        6.21676615e-01],\n",
       "       [2.91990030e-02, 3.50946742e-02, 8.39463934e-02, 3.92820446e-02,\n",
       "        8.12477885e-01],\n",
       "       [5.30686407e-02, 5.76306863e-02, 1.02126826e-01, 7.11307991e-02,\n",
       "        7.16043048e-01],\n",
       "       [3.59807976e-02, 4.02916380e-02, 8.60149600e-02, 4.36783813e-02,\n",
       "        7.94034223e-01],\n",
       "       [4.69581976e-02, 5.37483603e-02, 8.60738645e-02, 5.43513114e-02,\n",
       "        7.58868266e-01],\n",
       "       [9.18959133e-08, 1.23958749e-02, 7.58434808e-02, 2.13222178e-02,\n",
       "        8.90438335e-01],\n",
       "       [3.44699034e-02, 4.32631102e-02, 8.33066827e-02, 4.92341510e-02,\n",
       "        7.89726153e-01],\n",
       "       [5.67006963e-02, 6.67730009e-02, 9.01215574e-02, 6.69364319e-02,\n",
       "        7.19468314e-01],\n",
       "       [9.55341547e-02, 8.20067246e-02, 1.19665432e-01, 8.08012222e-02,\n",
       "        6.21992466e-01],\n",
       "       [7.86675807e-02, 7.90793726e-02, 1.32666466e-01, 1.03783035e-01,\n",
       "        6.05803545e-01],\n",
       "       [3.57888107e-02, 5.26848073e-02, 7.26117812e-02, 7.66836851e-01,\n",
       "        7.20777502e-02],\n",
       "       [1.19127286e-02, 2.25371943e-02, 5.76061075e-02, 8.77337775e-01,\n",
       "        3.06061950e-02],\n",
       "       [2.20836340e-02, 3.61036674e-02, 6.13047906e-02, 8.31154200e-01,\n",
       "        4.93537081e-02],\n",
       "       [3.61717094e-02, 5.56017116e-02, 7.09853658e-02, 7.63046396e-01,\n",
       "        7.41948172e-02],\n",
       "       [3.70192450e-02, 5.43419377e-02, 7.37469107e-02, 7.60630889e-01,\n",
       "        7.42610179e-02],\n",
       "       [3.21256447e-02, 4.80030315e-02, 7.33440750e-02, 7.73953303e-01,\n",
       "        7.25739452e-02],\n",
       "       [4.78420443e-02, 7.09952338e-02, 8.26004307e-02, 7.05011933e-01,\n",
       "        9.35503577e-02],\n",
       "       [2.42930772e-02, 3.73532166e-02, 6.71788026e-02, 8.15535041e-01,\n",
       "        5.56398621e-02],\n",
       "       [1.90138608e-02, 3.04394817e-02, 6.33850610e-02, 8.42810936e-01,\n",
       "        4.43506606e-02],\n",
       "       [3.83035257e-02, 5.91409033e-02, 7.50477509e-02, 7.43470200e-01,\n",
       "        8.40376197e-02],\n",
       "       [2.37750712e-02, 3.58945738e-02, 6.69046211e-02, 8.20485017e-01,\n",
       "        5.29407169e-02],\n",
       "       [2.33398710e-02, 3.78215367e-02, 6.25303842e-02, 8.24035040e-01,\n",
       "        5.22731683e-02],\n",
       "       [2.24827092e-03, 1.57081983e-02, 5.53600901e-02, 9.07081342e-01,\n",
       "        1.96020987e-02],\n",
       "       [4.40638557e-02, 6.01711455e-02, 8.86917115e-02, 7.14789486e-01,\n",
       "        9.22838011e-02],\n",
       "       [2.19716591e-02, 3.56517733e-02, 6.07513528e-02, 8.33440462e-01,\n",
       "        4.81847525e-02],\n",
       "       [3.43647057e-02, 5.29619262e-02, 6.95165023e-02, 7.72271219e-01,\n",
       "        7.08856469e-02],\n",
       "       [4.55736902e-02, 6.90945723e-02, 8.32780012e-02, 7.00205414e-01,\n",
       "        1.01848322e-01],\n",
       "       [4.14377638e-02, 6.24317639e-02, 8.00419286e-02, 7.23181930e-01,\n",
       "        9.29066133e-02],\n",
       "       [5.42799494e-02, 7.26179434e-02, 1.03309851e-01, 6.51524995e-01,\n",
       "        1.18267262e-01],\n",
       "       [4.98503943e-02, 6.69019755e-02, 9.66644133e-02, 6.82471090e-01,\n",
       "        1.04112127e-01],\n",
       "       [7.16000664e-01, 5.85968184e-02, 8.95474287e-02, 4.57755186e-02,\n",
       "        9.00795699e-02],\n",
       "       [7.58142335e-01, 5.50937553e-02, 7.39384468e-02, 3.99637269e-02,\n",
       "        7.28617357e-02],\n",
       "       [7.21318348e-01, 5.75994329e-02, 8.93729244e-02, 4.54946878e-02,\n",
       "        8.62146073e-02],\n",
       "       [8.96173076e-01, 1.52814124e-02, 5.61165023e-02, 1.38576847e-02,\n",
       "        1.85713250e-02],\n",
       "       [8.92436285e-01, 1.63960080e-02, 5.62592311e-02, 1.45172648e-02,\n",
       "        2.03912116e-02],\n",
       "       [8.46748100e-01, 2.99281404e-02, 6.03001061e-02, 2.30210895e-02,\n",
       "        4.00025644e-02],\n",
       "       [7.46394295e-01, 5.18284322e-02, 8.33069480e-02, 4.07285770e-02,\n",
       "        7.77417483e-02],\n",
       "       [8.05724106e-01, 4.09105464e-02, 6.66790777e-02, 3.03295038e-02,\n",
       "        5.63567658e-02],\n",
       "       [8.16620076e-01, 3.81906426e-02, 6.47177659e-02, 2.84453170e-02,\n",
       "        5.20261988e-02],\n",
       "       [8.12662872e-01, 3.75374195e-02, 6.74843022e-02, 2.86938363e-02,\n",
       "        5.36215698e-02],\n",
       "       [8.94062757e-01, 1.58277897e-02, 5.63985988e-02, 1.41958642e-02,\n",
       "        1.95149904e-02],\n",
       "       [8.14186593e-01, 3.61346828e-02, 6.88282448e-02, 2.83780646e-02,\n",
       "        5.24724153e-02],\n",
       "       [8.40399835e-01, 3.07099761e-02, 6.25641072e-02, 2.37807232e-02,\n",
       "        4.25453587e-02],\n",
       "       [7.97300498e-01, 4.01531154e-02, 7.22545778e-02, 3.15402456e-02,\n",
       "        5.87515631e-02],\n",
       "       [7.81460508e-01, 4.69045212e-02, 7.20568735e-02, 3.55334030e-02,\n",
       "        6.40446942e-02],\n",
       "       [8.49736518e-01, 2.73547513e-02, 6.26039755e-02, 2.19357528e-02,\n",
       "        3.83690021e-02],\n",
       "       [7.36461551e-01, 6.14648091e-02, 7.74823877e-02, 4.39961767e-02,\n",
       "        8.05950753e-02],\n",
       "       [7.99927350e-01, 4.29427396e-02, 6.74161527e-02, 3.20606213e-02,\n",
       "        5.76531362e-02],\n",
       "       [7.62871323e-01, 5.18881689e-02, 7.42157155e-02, 3.78891368e-02,\n",
       "        7.31356559e-02],\n",
       "       [6.77511455e-01, 7.21121280e-02, 9.60761004e-02, 5.52099744e-02,\n",
       "        9.90903425e-02],\n",
       "       [3.51425174e-02, 8.29099236e-01, 4.50532561e-02, 3.96305489e-02,\n",
       "        5.10744419e-02],\n",
       "       [7.44719645e-02, 6.91075221e-01, 6.36232091e-02, 6.94550365e-02,\n",
       "        1.01374568e-01],\n",
       "       [1.40285715e-02, 8.93630417e-01, 3.99278726e-02, 2.48989247e-02,\n",
       "        2.75142143e-02],\n",
       "       [6.77009877e-02, 7.17295776e-01, 5.96787849e-02, 6.46158841e-02,\n",
       "        9.07085677e-02],\n",
       "       [5.67668542e-02, 7.27201766e-01, 5.87064604e-02, 6.68526262e-02,\n",
       "        9.04722928e-02],\n",
       "       [8.56196752e-02, 6.38650769e-01, 7.13223500e-02, 8.05846840e-02,\n",
       "        1.23822522e-01],\n",
       "       [2.40053439e-02, 8.65197674e-01, 4.20994439e-02, 3.04742241e-02,\n",
       "        3.82233144e-02],\n",
       "       [2.30539895e-07, 9.29978537e-01, 3.77267003e-02, 1.76193130e-02,\n",
       "        1.46752188e-02],\n",
       "       [1.15763297e-02, 9.02399236e-01, 3.92268310e-02, 2.23928854e-02,\n",
       "        2.44047180e-02],\n",
       "       [6.14232976e-02, 7.05344522e-01, 6.16446385e-02, 7.30961311e-02,\n",
       "        9.84914111e-02],\n",
       "       [4.35219954e-02, 7.87791276e-01, 5.00352926e-02, 5.27178206e-02,\n",
       "        6.59336150e-02],\n",
       "       [4.11906416e-02, 8.05881873e-01, 4.74815478e-02, 4.63724357e-02,\n",
       "        5.90735019e-02],\n",
       "       [4.17905973e-02, 7.93609627e-01, 4.94455837e-02, 5.10749666e-02,\n",
       "        6.40792252e-02],\n",
       "       [5.59193154e-02, 7.38828553e-01, 5.73422574e-02, 6.11415441e-02,\n",
       "        8.67683303e-02],\n",
       "       [4.26480280e-02, 8.03136103e-01, 4.79766424e-02, 4.60054968e-02,\n",
       "        6.02337298e-02],\n",
       "       [5.07773827e-02, 7.74786747e-01, 5.15071554e-02, 5.28791206e-02,\n",
       "        7.00495945e-02],\n",
       "       [2.91471858e-02, 8.41653270e-01, 4.44507075e-02, 3.77719803e-02,\n",
       "        4.69768561e-02],\n",
       "       [6.56381630e-02, 6.86564745e-01, 6.42909355e-02, 7.75495197e-02,\n",
       "        1.05956637e-01],\n",
       "       [4.29717813e-02, 7.89710914e-01, 4.98273477e-02, 5.21843615e-02,\n",
       "        6.53055953e-02],\n",
       "       [5.21352213e-02, 7.57906283e-01, 5.36378870e-02, 6.06264585e-02,\n",
       "        7.56941502e-02],\n",
       "       [1.56245723e-08, 2.02013380e-08, 9.99999921e-01, 2.41231751e-08,\n",
       "        1.87690720e-08],\n",
       "       [8.22905517e-09, 9.31699780e-09, 9.99999963e-01, 1.00961832e-08,\n",
       "        9.04068792e-09],\n",
       "       [6.84417597e-02, 5.02845388e-02, 7.11436656e-01, 7.54935245e-02,\n",
       "        9.43435213e-02],\n",
       "       [2.15815194e-08, 3.16407329e-08, 9.99999876e-01, 4.23433308e-08,\n",
       "        2.80570000e-08],\n",
       "       [1.31477746e-08, 1.62071387e-08, 9.99999937e-01, 1.86484099e-08,\n",
       "        1.53068644e-08],\n",
       "       [5.67830729e-09, 6.16851461e-09, 9.99999976e-01, 6.51252978e-09,\n",
       "        6.06171702e-09],\n",
       "       [4.18028349e-02, 3.24351542e-02, 8.10553442e-01, 5.07898566e-02,\n",
       "        6.44187122e-02],\n",
       "       [1.28100754e-08, 1.56974067e-08, 9.99999939e-01, 1.79895188e-08,\n",
       "        1.48597910e-08],\n",
       "       [3.37813461e-02, 2.49424987e-02, 8.54422013e-01, 3.60862510e-02,\n",
       "        5.07678913e-02],\n",
       "       [6.57484316e-02, 4.77989108e-02, 7.26008215e-01, 7.09034540e-02,\n",
       "        8.95409885e-02],\n",
       "       [7.47192984e-09, 8.34976108e-09, 9.99999967e-01, 8.97468909e-09,\n",
       "        8.13604541e-09],\n",
       "       [5.95181953e-02, 4.20497953e-02, 7.59058922e-01, 6.05070421e-02,\n",
       "        7.88660457e-02],\n",
       "       [3.60829954e-02, 2.58518818e-02, 8.50384838e-01, 3.67456383e-02,\n",
       "        5.09346466e-02],\n",
       "       [5.49540108e-07, 1.05287398e-02, 9.52717562e-01, 1.86686007e-02,\n",
       "        1.80845474e-02]])"
      ]
     },
     "execution_count": 331,
     "metadata": {},
     "output_type": "execute_result"
    }
   ],
   "source": [
    "u_list"
   ]
  },
  {
   "cell_type": "code",
   "execution_count": 276,
   "id": "feeae8c1-8364-4f6a-b586-a3b6106909c0",
   "metadata": {},
   "outputs": [
    {
     "name": "stdout",
     "output_type": "stream",
     "text": [
      "21\n",
      "21\n",
      "15\n",
      "21\n",
      "21\n"
     ]
    }
   ],
   "source": [
    "print(np.count_nonzero(np_cluster==0))\n",
    "print(np.count_nonzero(np_cluster==1))\n",
    "print(np.count_nonzero(np_cluster==2))\n",
    "print(np.count_nonzero(np_cluster==3))\n",
    "print(np.count_nonzero(np_cluster==4))"
   ]
  },
  {
   "cell_type": "code",
   "execution_count": 247,
   "id": "9410ddbc-1683-4435-bad2-dab038b936e6",
   "metadata": {
    "collapsed": true,
    "jupyter": {
     "outputs_hidden": true,
     "source_hidden": true
    },
    "tags": []
   },
   "outputs": [
    {
     "name": "stdout",
     "output_type": "stream",
     "text": [
      "帰属度とクラスタサイズの確認\n",
      "[1. 1. 1. 1. 1. 1. 1. 1. 1. 1. 1. 1. 1. 1. 1. 1. 1. 1. 1. 1. 1. 1. 1. 1.\n",
      " 1. 1. 1. 1. 1. 1. 1. 1. 1. 1. 1. 1. 1. 1. 1. 1. 1. 1. 1. 1. 1. 1. 1. 1.\n",
      " 1. 1. 1. 1. 1. 1. 1. 1. 1. 1. 1. 1. 1. 1. 1. 1. 1. 1. 1. 1. 1. 1. 1. 1.\n",
      " 1. 1. 1. 1. 1. 1. 1. 1. 1. 1. 1. 1. 1. 1. 1. 1. 1. 1. 1. 1. 1. 1. 1. 1.\n",
      " 1. 1. 1.]\n",
      "[19.8 19.8 19.8 19.8 19.8]\n"
     ]
    }
   ],
   "source": [
    "#作業用セル(使用中)(制約条件変更中)（12/13）\n",
    "centroids = X[np.random.choice(X_size,c)]\n",
    "#dにはd11,d12,d13,d14,d21,d22,,,dn1,,dncの順でリスト作る\n",
    "d=[]\n",
    "for i in range(X_size):\n",
    "    for j in range(c):\n",
    "        d.append(np.sum((X[i]-centroids[j])**2))\n",
    "#uの最適化\n",
    "u = [0] * len(d)\n",
    "#変数定義\n",
    "for i in  range (len(d)):\n",
    "    u[i] = cp.Variable()\n",
    "#目的関数定義\n",
    "Objective_function = 0 \n",
    "for i  in range(len(d)):\n",
    "    Objective_function += d[i]*cp.power(u[i],3)\n",
    "objective = cp.Minimize(Objective_function)\n",
    "# 制約条件の定義\n",
    "zeroijou = []\n",
    "goukeiiti = []\n",
    "goukeigo = []\n",
    "constraints = []\n",
    "#0以上\n",
    "for i in range (len(d)):\n",
    "    zeroijou.append(u[i]>=0)\n",
    "#合計1\n",
    "for i in range (0,len(d),c):\n",
    "    #下の式はcの値によって逐次変更しないといけない\n",
    "    goukeiiti.append(u[i]+u[i+1]+u[i+2]+u[i+3]+u[i+4]==1)\n",
    "#合計がクラスタサイズ\n",
    "#下の式はcの値によって逐次変更しないといけない\n",
    "goukeigo.append(sum(u[0:len(d):c])==K)\n",
    "goukeigo.append(sum(u[1:len(d):c])==K)\n",
    "goukeigo.append(sum(u[2:len(d):c])==K)\n",
    "goukeigo.append(sum(u[3:len(d):c])==K)\n",
    "goukeigo.append(sum(u[4:len(d):c])==K)\n",
    "constraints.extend(zeroijou)\n",
    "constraints.extend(goukeiiti)\n",
    "constraints.extend(goukeigo)\n",
    "\n",
    "# 問題を定義\n",
    "problem = cp.Problem(objective, constraints)\n",
    "# 最適化 (戻り値は最適化後に得られた値=最小値)\n",
    "result = problem.solve()\n",
    "\n",
    "#帰属度uと目的関数Jの値を抽出(ndarray型)\n",
    "u_value = np.empty(0)#空のndarrayを作成\n",
    "for i in range (len(d)):\n",
    "    u_value = np.append(u_value,u[i].value)\n",
    "\n",
    "u_list = u_value.reshape([99,5])\n",
    "\n",
    "print(\"帰属度とクラスタサイズの確認\")\n",
    "print(np.sum(u_list, axis=1))#行ごとの合計値1になるはず\n",
    "print(np.sum(u_list, axis=0))#列ごとの合計値Kになるはず"
   ]
  },
  {
   "cell_type": "code",
   "execution_count": 249,
   "id": "49cf0ae0-5c39-4a7d-83f8-8f8958c4e454",
   "metadata": {},
   "outputs": [],
   "source": [
    "#クラスタ中心計算部分関数作成\n",
    "def v_calculation(u_vallue):\n",
    "    u_list = u_value.reshape([99,5])\n",
    "    #分母計算(クラスタサイズになるはず)\n",
    "    v0_denominator=0\n",
    "    v1_denominator=0\n",
    "    v2_denominator=0\n",
    "    v3_denominator=0\n",
    "    v4_denominator=0\n",
    "    for i in range(0,len(d),c):\n",
    "        v0_denominator += u_value[i]**3\n",
    "    for i in range(1,len(d),c):\n",
    "        v1_denominator += u_value[i]**3\n",
    "    for i in range(2,len(d),c):\n",
    "        v2_denominator += u_value[i]**3\n",
    "    for i in range(3,len(d),c):\n",
    "        v3_denominator += u_value[i]**3\n",
    "    for i in range(4,len(d),c):\n",
    "        v4_denominator += u_value[i]**3\n",
    "    #分子計算\n",
    "    v0_numerator = 0\n",
    "    v1_numerator = 0\n",
    "    v2_numerator = 0\n",
    "    v3_numerator = 0\n",
    "    v4_numerator = 0\n",
    "    for i in range(X_size):\n",
    "        v0_numerator += u_list[i][0]**3*X[i]\n",
    "    for i in range(X_size):\n",
    "        v1_numerator += u_list[i][1]**3*X[i]\n",
    "    for i in range(X_size):\n",
    "        v2_numerator += u_list[i][2]**3*X[i]\n",
    "    for i in range(X_size):\n",
    "        v3_numerator += u_list[i][3]**3*X[i]\n",
    "    for i in range(X_size):\n",
    "        v4_numerator += u_list[i][4]**3*X[i]\n",
    "    v=[0 for i in range(5)]\n",
    "    v[0] = v0_numerator / v0_denominator\n",
    "    v[1] = v1_numerator / v1_denominator\n",
    "    v[2] = v2_numerator / v2_denominator\n",
    "    v[3] = v3_numerator / v3_denominator\n",
    "    v[4] = v4_numerator / v4_denominator\n",
    "    return v"
   ]
  },
  {
   "cell_type": "code",
   "execution_count": 250,
   "id": "cab80961-e098-46ac-9707-ff8e7ae81be3",
   "metadata": {
    "jupyter": {
     "source_hidden": true
    },
    "tags": []
   },
   "outputs": [],
   "source": [
    "#uの最適化部分関数作成\n",
    "def u_optimize(d,J):\n",
    "    #変数定義\n",
    "    u = [0] * len(d)\n",
    "    for i in  range (len(d)):\n",
    "        u[i] = cp.Variable()\n",
    "\n",
    "    #目的関数定義\n",
    "    Objective_function = 0 \n",
    "    for i  in range(len(d)):\n",
    "        Objective_function += d[i]*cp.power(u[i],3)\n",
    "    objective = cp.Minimize(Objective_function)\n",
    "    # 制約条件の定義\n",
    "    zeroijou = []\n",
    "    goukeiiti = []\n",
    "    goukeigo = []\n",
    "    constraints = []\n",
    "    #0以上\n",
    "    for i in range (len(d)):\n",
    "        zeroijou.append(u[i]>=0)\n",
    "    #合計1\n",
    "    for i in range (0,len(d),c):\n",
    "        #下の式はcの値によって逐次変更しないといけない\n",
    "        goukeiiti.append(u[i]+u[i+1]+u[i+2]+u[i+3]+u[i+4]==1)\n",
    "    #合計がクラスタサイズ\n",
    "    #下の式はcの値によって逐次変更しないといけない\n",
    "    goukeigo.append(sum(u[0:len(d):c])==K)\n",
    "    goukeigo.append(sum(u[1:len(d):c])==K)\n",
    "    goukeigo.append(sum(u[2:len(d):c])==K)\n",
    "    goukeigo.append(sum(u[3:len(d):c])==K)\n",
    "    goukeigo.append(sum(u[4:len(d):c])==K)\n",
    "    constraints.extend(zeroijou)\n",
    "    constraints.extend(goukeiiti)\n",
    "    constraints.extend(goukeigo)\n",
    "    \n",
    "    # 問題を定義\n",
    "    problem = cp.Problem(objective, constraints)\n",
    "    # 最適化 (戻り値は最適化後に得られた値=最小値)\n",
    "    result = problem.solve()\n",
    "    #帰属度uと目的関数Jの値を抽出(ndarray型)\n",
    "    u_value = np.empty(0)#空のndarrayを作成\n",
    "    for i in range (len(d)):\n",
    "        u_value = np.append(u_value,u[i].value)\n",
    "    u = u_value\n",
    "    J = np.append(J,result)\n",
    "    return u,J\n",
    "#クラスタ中心計算部分関数作成\n",
    "#クラスタ中心計算部分関数作成\n",
    "def v_calculation(u_value):\n",
    "    u_list = u_value.reshape([99,5])\n",
    "    #分母計算(クラスタサイズになるはず)\n",
    "    v0_denominator=0\n",
    "    v1_denominator=0\n",
    "    v2_denominator=0\n",
    "    v3_denominator=0\n",
    "    v4_denominator=0\n",
    "    for i in range(0,len(d),c):\n",
    "        v0_denominator += u_value[i]**3\n",
    "    for i in range(1,len(d),c):\n",
    "        v1_denominator += u_value[i]**3\n",
    "    for i in range(2,len(d),c):\n",
    "        v2_denominator += u_value[i]**3\n",
    "    for i in range(3,len(d),c):\n",
    "        v3_denominator += u_value[i]**3\n",
    "    for i in range(4,len(d),c):\n",
    "        v4_denominator += u_value[i]**3\n",
    "    #分子計算\n",
    "    v0_numerator = 0\n",
    "    v1_numerator = 0\n",
    "    v2_numerator = 0\n",
    "    v3_numerator = 0\n",
    "    v4_numerator = 0\n",
    "    for i in range(X_size):\n",
    "        v0_numerator += u_list[i][0]**3*X[i]\n",
    "    for i in range(X_size):\n",
    "        v1_numerator += u_list[i][1]**3*X[i]\n",
    "    for i in range(X_size):\n",
    "        v2_numerator += u_list[i][2]**3*X[i]\n",
    "    for i in range(X_size):\n",
    "        v3_numerator += u_list[i][3]**3*X[i]\n",
    "    for i in range(X_size):\n",
    "        v4_numerator += u_list[i][4]**3*X[i]\n",
    "    v=[0 for i in range(5)]\n",
    "    v[0] = v0_numerator / v0_denominator\n",
    "    v[1] = v1_numerator / v1_denominator\n",
    "    v[2] = v2_numerator / v2_denominator\n",
    "    v[3] = v3_numerator / v3_denominator\n",
    "    v[4] = v4_numerator / v4_denominator\n",
    "    return v"
   ]
  },
  {
   "cell_type": "code",
   "execution_count": 463,
   "id": "8aaf81ec-b356-43c8-9b91-7dc7aa018e76",
   "metadata": {},
   "outputs": [
    {
     "data": {
      "text/plain": [
       "False"
      ]
     },
     "execution_count": 463,
     "metadata": {},
     "output_type": "execute_result"
    }
   ],
   "source": [
    "np.sum(new_centroids-centroids)<=0.0000001"
   ]
  },
  {
   "cell_type": "code",
   "execution_count": 462,
   "id": "93f09303-e8ce-4e94-aee8-ecc5bea1d67b",
   "metadata": {},
   "outputs": [
    {
     "data": {
      "text/plain": [
       "array([[6.66018647, 3.02832408, 5.49534818, 2.01262964],\n",
       "       [5.00060886, 3.39109006, 1.49094417, 0.25014414],\n",
       "       [5.87015974, 2.7786376 , 4.32919484, 1.37503987]])"
      ]
     },
     "execution_count": 462,
     "metadata": {},
     "output_type": "execute_result"
    }
   ],
   "source": [
    "centroids"
   ]
  },
  {
   "cell_type": "code",
   "execution_count": 460,
   "id": "d7c05c31-961b-40a6-a4d9-d44e9a519633",
   "metadata": {},
   "outputs": [],
   "source": [
    "new_centroids[0][0]= centroids[0][0]+100"
   ]
  },
  {
   "cell_type": "code",
   "execution_count": 461,
   "id": "754eb49b-9b6e-4cde-a9a1-c5f25b3fc2ef",
   "metadata": {},
   "outputs": [
    {
     "data": {
      "text/plain": [
       "array([[106.66018647,   3.02832408,   5.49534818,   2.01262964],\n",
       "       [  5.00060886,   3.39109006,   1.49094417,   0.25014414],\n",
       "       [  5.87015974,   2.7786376 ,   4.32919484,   1.37503987]])"
      ]
     },
     "execution_count": 461,
     "metadata": {},
     "output_type": "execute_result"
    }
   ],
   "source": [
    "new_centroids"
   ]
  },
  {
   "cell_type": "code",
   "execution_count": null,
   "id": "08775f58-aabd-43f4-93fc-799d650f9d06",
   "metadata": {},
   "outputs": [],
   "source": []
  }
 ],
 "metadata": {
  "kernelspec": {
   "display_name": "Python 3 (ipykernel)",
   "language": "python",
   "name": "python3"
  },
  "language_info": {
   "codemirror_mode": {
    "name": "ipython",
    "version": 3
   },
   "file_extension": ".py",
   "mimetype": "text/x-python",
   "name": "python",
   "nbconvert_exporter": "python",
   "pygments_lexer": "ipython3",
   "version": "3.9.7"
  }
 },
 "nbformat": 4,
 "nbformat_minor": 5
}
