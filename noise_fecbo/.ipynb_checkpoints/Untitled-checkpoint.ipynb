{
 "cells": [
  {
   "cell_type": "code",
   "execution_count": 1,
   "id": "22fc8c99-a384-46c7-818b-0f9793a21c2c",
   "metadata": {},
   "outputs": [],
   "source": [
    "import numpy as np\n",
    "x = np.array([[1, 2],\n",
    "              [3, 4]])\n"
   ]
  },
  {
   "cell_type": "code",
   "execution_count": 2,
   "id": "5fcc02a7-3608-4c69-9852-122917972763",
   "metadata": {},
   "outputs": [],
   "source": [
    "s = x**2"
   ]
  },
  {
   "cell_type": "code",
   "execution_count": 3,
   "id": "b8514e04-c1b3-44b4-af83-cf6fd5022335",
   "metadata": {},
   "outputs": [
    {
     "data": {
      "text/plain": [
       "array([[ 1,  4],\n",
       "       [ 9, 16]])"
      ]
     },
     "execution_count": 3,
     "metadata": {},
     "output_type": "execute_result"
    }
   ],
   "source": [
    "s"
   ]
  },
  {
   "cell_type": "code",
   "execution_count": 6,
   "id": "32bcfa3b-ca33-4248-9558-62bcce7462ac",
   "metadata": {},
   "outputs": [
    {
     "data": {
      "text/plain": [
       "array([10, 20])"
      ]
     },
     "execution_count": 6,
     "metadata": {},
     "output_type": "execute_result"
    }
   ],
   "source": [
    "np.sum(s,axis=0)"
   ]
  },
  {
   "cell_type": "code",
   "execution_count": null,
   "id": "ef6ef42d-ae2a-4803-9d7c-40e2580b1d8a",
   "metadata": {},
   "outputs": [],
   "source": []
  }
 ],
 "metadata": {
  "kernelspec": {
   "display_name": "Python 3 (ipykernel)",
   "language": "python",
   "name": "python3"
  },
  "language_info": {
   "codemirror_mode": {
    "name": "ipython",
    "version": 3
   },
   "file_extension": ".py",
   "mimetype": "text/x-python",
   "name": "python",
   "nbconvert_exporter": "python",
   "pygments_lexer": "ipython3",
   "version": "3.9.7"
  }
 },
 "nbformat": 4,
 "nbformat_minor": 5
}
