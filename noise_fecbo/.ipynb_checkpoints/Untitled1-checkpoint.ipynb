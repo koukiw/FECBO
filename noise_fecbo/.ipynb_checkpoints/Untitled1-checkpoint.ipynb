{
 "cells": [
  {
   "cell_type": "code",
   "execution_count": 34,
   "id": "23e6b041-35be-4870-adb9-4d2166afe3a4",
   "metadata": {},
   "outputs": [
    {
     "name": "stdin",
     "output_type": "stream",
     "text": [
      "Once deleted, variables cannot be recovered. Proceed (y/[n])?  y\n"
     ]
    }
   ],
   "source": [
    "%reset"
   ]
  },
  {
   "cell_type": "code",
   "execution_count": 36,
   "id": "93f62100-8889-4f68-9b7b-820b410919b4",
   "metadata": {},
   "outputs": [],
   "source": [
    "import pandas as pd\n",
    "import numpy as np\n",
    "import matplotlib.pyplot as plt\n",
    "import cvxpy as cp\n",
    "#sysはコマンドライン引数\n",
    "import sys\n",
    "import csv\n",
    "np.seterr(divide='ignore', invalid='ignore')\n",
    "#csvファイルの読み込み\n",
    "df = pd.read_csv(\"../../dataset/ransuu.csv\",header=None)\n",
    "#df = iris.drop('species', axis=1)\n",
    "#dfをnumpyで扱えるnp.ndarray変換\n",
    "X = df.values\n",
    "#配列の行数、列数の格納\n",
    "X_size,dimension = X.shape\n",
    "#クラスタ数宣言\n",
    "c = 5\n",
    "#Kはクラスタサイズ \n",
    "K = X_size /c\n",
    "max_iter = 100\n",
    "distances=np.zeros((X_size,c))\n",
    "best_J = 10000"
   ]
  },
  {
   "cell_type": "code",
   "execution_count": 37,
   "id": "19793988-673b-4113-a94e-06e4501cbb1e",
   "metadata": {},
   "outputs": [],
   "source": [
    "d=[]\n",
    "centroids = X[np.random.choice(X_size,c)]\n",
    "for i in range(X_size):\n",
    "    for j in range(c):\n",
    "        d.append(np.sum((X[i]-centroids[j])**2))\n",
    "#uの更新"
   ]
  },
  {
   "cell_type": "code",
   "execution_count": 40,
   "id": "fc152ef6-0bf5-4a0f-9ab4-7fdd731c138f",
   "metadata": {},
   "outputs": [
    {
     "data": {
      "text/plain": [
       "(100, 2)"
      ]
     },
     "execution_count": 40,
     "metadata": {},
     "output_type": "execute_result"
    }
   ],
   "source": [
    "X.shape"
   ]
  },
  {
   "cell_type": "code",
   "execution_count": 42,
   "id": "1c1e6b4c-e59d-4e8f-82ba-45b73a8a8a54",
   "metadata": {},
   "outputs": [
    {
     "data": {
      "text/plain": [
       "500"
      ]
     },
     "execution_count": 42,
     "metadata": {},
     "output_type": "execute_result"
    }
   ],
   "source": [
    "len(d)"
   ]
  },
  {
   "cell_type": "code",
   "execution_count": 62,
   "id": "9e084ca5-b0ad-4d35-9a3d-08423f38c67d",
   "metadata": {
    "tags": []
   },
   "outputs": [
    {
     "name": "stdout",
     "output_type": "stream",
     "text": [
      "===============================================================================\n",
      "                                     CVXPY                                     \n",
      "                                     v1.2.0                                    \n",
      "===============================================================================\n",
      "(CVXPY) Jun 08 07:45:44 PM: Your problem has 500 variables, 605 constraints, and 0 parameters.\n",
      "(CVXPY) Jun 08 07:45:44 PM: It is compliant with the following grammars: DCP, DQCP\n",
      "(CVXPY) Jun 08 07:45:44 PM: (If you need to solve this problem multiple times, but with different data, consider using parameters.)\n",
      "(CVXPY) Jun 08 07:45:44 PM: CVXPY will first compile your problem; then, it will invoke a numerical solver to obtain a solution.\n",
      "-------------------------------------------------------------------------------\n",
      "                                  Compilation                                  \n",
      "-------------------------------------------------------------------------------\n",
      "(CVXPY) Jun 08 07:45:44 PM: Compiling problem (target solver=ECOS).\n",
      "(CVXPY) Jun 08 07:45:44 PM: Reduction chain: Dcp2Cone -> CvxAttr2Constr -> ConeMatrixStuffing -> ECOS\n",
      "(CVXPY) Jun 08 07:45:44 PM: Applying reduction Dcp2Cone\n",
      "(CVXPY) Jun 08 07:45:44 PM: Applying reduction CvxAttr2Constr\n",
      "(CVXPY) Jun 08 07:45:44 PM: Applying reduction ConeMatrixStuffing\n",
      "(CVXPY) Jun 08 07:45:45 PM: Applying reduction ECOS\n",
      "(CVXPY) Jun 08 07:45:46 PM: Finished problem compilation (took 2.090e+00 seconds).\n",
      "-------------------------------------------------------------------------------\n",
      "                                Numerical solver                               \n",
      "-------------------------------------------------------------------------------\n",
      "(CVXPY) Jun 08 07:45:46 PM: Invoking solver ECOS  to obtain a solution.\n",
      "-------------------------------------------------------------------------------\n",
      "                                    Summary                                    \n",
      "-------------------------------------------------------------------------------\n",
      "(CVXPY) Jun 08 07:45:46 PM: Problem status: optimal\n",
      "(CVXPY) Jun 08 07:45:46 PM: Optimal value: 3.412e-04\n",
      "(CVXPY) Jun 08 07:45:46 PM: Compilation took 2.090e+00 seconds\n",
      "(CVXPY) Jun 08 07:45:46 PM: Solver (including time spent in interface) took 3.249e-02 seconds\n",
      "obj:  0.0003411655995443418\n"
     ]
    }
   ],
   "source": [
    "#uの最適化部分関数作成\n",
    "\n",
    "#変数定義\n",
    "u_list = [0] * len(d)\n",
    "for i in range(len(d)):\n",
    "    u_list[i] = cp.Variable()\n",
    "\n",
    "#目的関数定義\n",
    "Objective_function = 0 \n",
    "for i  in range(len(d)):\n",
    "    Objective_function += d[i]*cp.power(u_list[i],8)\n",
    "objective = cp.Minimize(Objective_function)\n",
    "# 制約条件の定義\n",
    "zeroijou = []\n",
    "goukeiiti = []\n",
    "goukeigo = []\n",
    "constraints = []\n",
    "#0以上\n",
    "for i in range (len(d)):\n",
    "    zeroijou.append(u_list[i]>=0)\n",
    "#合計1\n",
    "for i in range (0,len(d),c):\n",
    "    iti = 0\n",
    "    for j in range(c):    \n",
    "        iti += u_list[i+j]\n",
    "    goukeiiti.append(iti==1)\n",
    "\n",
    "#合計がクラスタサイズ\n",
    "#下の式はcの値によって逐次変更しないといけない\n",
    "goukeigo.append(sum(u_list[0:len(d):c])==K)\n",
    "goukeigo.append(sum(u_list[1:len(d):c])==K)\n",
    "goukeigo.append(sum(u_list[2:len(d):c])==K)\n",
    "goukeigo.append(sum(u_list[3:len(d):c])==K)\n",
    "goukeigo.append(sum(u_list[4:len(d):c])==K)\n",
    "constraints.extend(zeroijou)\n",
    "constraints.extend(goukeiiti)\n",
    "constraints.extend(goukeigo)\n",
    "\n",
    "# 問題を定義\n",
    "problem = cp.Problem(objective, constraints)\n",
    "# 最適化 (戻り値は最適化後に得られた値=最小値)\n",
    "# 結果表示\n",
    "problem.solve(verbose=True)\n",
    "print(\"obj: \", problem.value)\n",
    "#print(\"u_list: \")\n",
    "#print(u_list)\n",
    "#print(u_list.value)\n",
    "#result = problem.solve()"
   ]
  },
  {
   "cell_type": "code",
   "execution_count": 60,
   "id": "5c7985c5-5d34-4550-8793-d08c2abb621c",
   "metadata": {},
   "outputs": [],
   "source": [
    "Objective_function = 0\n",
    "u_list = [0] * len(d)\n",
    "for i  in range(len(d)):\n",
    "    Objective_function += d[i]*cp.power(u_list[i],3)\n",
    "objective = cp.Minimize(Objective_function)"
   ]
  },
  {
   "cell_type": "code",
   "execution_count": 51,
   "id": "fff5d558-60da-45ec-a5d1-7d9f14f31adc",
   "metadata": {},
   "outputs": [
    {
     "data": {
      "text/plain": [
       "Expression(CONSTANT, NONNEGATIVE, ())"
      ]
     },
     "execution_count": 51,
     "metadata": {},
     "output_type": "execute_result"
    }
   ],
   "source": [
    "(cp.power(u_list[0],3))"
   ]
  },
  {
   "cell_type": "code",
   "execution_count": 49,
   "id": "85531979-2238-44c2-8b8a-01b223eea5a7",
   "metadata": {},
   "outputs": [
    {
     "data": {
      "text/plain": [
       "Minimize(Expression(CONSTANT, NONNEGATIVE, ()))"
      ]
     },
     "execution_count": 49,
     "metadata": {},
     "output_type": "execute_result"
    }
   ],
   "source": [
    "objective"
   ]
  },
  {
   "cell_type": "code",
   "execution_count": 59,
   "id": "be38c064-46a9-459d-a9a7-1e81d61106f5",
   "metadata": {},
   "outputs": [
    {
     "data": {
      "text/plain": [
       "0"
      ]
     },
     "execution_count": 59,
     "metadata": {},
     "output_type": "execute_result"
    }
   ],
   "source": [
    "**3"
   ]
  },
  {
   "cell_type": "code",
   "execution_count": null,
   "id": "50bb9534-3edb-416f-b7e3-46f1bd33071a",
   "metadata": {},
   "outputs": [],
   "source": []
  },
  {
   "cell_type": "code",
   "execution_count": 29,
   "id": "cbe4b157-708c-4453-b89a-7464926b4120",
   "metadata": {},
   "outputs": [
    {
     "name": "stdout",
     "output_type": "stream",
     "text": [
      "===============================================================================\n",
      "                                     CVXPY                                     \n",
      "                                     v1.2.0                                    \n",
      "===============================================================================\n",
      "(CVXPY) Jun 08 06:30:46 PM: Your problem has 4 variables, 1 constraints, and 0 parameters.\n",
      "(CVXPY) Jun 08 06:30:46 PM: It is compliant with the following grammars: DCP, DQCP\n",
      "(CVXPY) Jun 08 06:30:46 PM: (If you need to solve this problem multiple times, but with different data, consider using parameters.)\n",
      "(CVXPY) Jun 08 06:30:46 PM: CVXPY will first compile your problem; then, it will invoke a numerical solver to obtain a solution.\n",
      "-------------------------------------------------------------------------------\n",
      "                                  Compilation                                  \n",
      "-------------------------------------------------------------------------------\n",
      "(CVXPY) Jun 08 06:30:46 PM: Compiling problem (target solver=SCS).\n",
      "(CVXPY) Jun 08 06:30:46 PM: Reduction chain: Dcp2Cone -> CvxAttr2Constr -> ConeMatrixStuffing -> SCS\n",
      "(CVXPY) Jun 08 06:30:46 PM: Applying reduction Dcp2Cone\n",
      "(CVXPY) Jun 08 06:30:46 PM: Applying reduction CvxAttr2Constr\n",
      "(CVXPY) Jun 08 06:30:46 PM: Applying reduction ConeMatrixStuffing\n",
      "(CVXPY) Jun 08 06:30:46 PM: Applying reduction SCS\n",
      "(CVXPY) Jun 08 06:30:46 PM: Finished problem compilation (took 1.021e-02 seconds).\n",
      "-------------------------------------------------------------------------------\n",
      "                                Numerical solver                               \n",
      "-------------------------------------------------------------------------------\n",
      "(CVXPY) Jun 08 06:30:46 PM: Invoking solver SCS  to obtain a solution.\n",
      "------------------------------------------------------------------\n",
      "\t       SCS v3.2.0 - Splitting Conic Solver\n",
      "\t(c) Brendan O'Donoghue, Stanford University, 2012\n",
      "------------------------------------------------------------------\n",
      "problem:  variables n: 5, constraints m: 11\n",
      "cones: \t  q: soc vars: 8, qsize: 2\n",
      "\t  s: psd vars: 3, ssize: 1\n",
      "settings: eps_abs: 1.0e-05, eps_rel: 1.0e-05, eps_infeas: 1.0e-07\n",
      "\t  alpha: 1.50, scale: 1.00e-01, adaptive_scale: 1\n",
      "\t  max_iters: 100000, normalize: 1, rho_x: 1.00e-06\n",
      "\t  acceleration_lookback: 10, acceleration_interval: 10\n",
      "lin-sys:  sparse-direct\n",
      "\t  nnz(A): 11, nnz(P): 0\n",
      "------------------------------------------------------------------\n",
      " iter | pri res | dua res |   gap   |   obj   |  scale  | time (s)\n",
      "------------------------------------------------------------------\n",
      "     0| 2.10e+01  1.00e+00  2.03e+01 -9.85e+00  1.00e-01  7.59e-04 \n",
      "   175| 2.89e-05  3.16e-07  1.65e-05  5.00e+00  1.00e-01  3.50e-03 \n",
      "------------------------------------------------------------------\n",
      "status:  solved\n",
      "timings: total: 5.40e-03s = setup: 1.88e-03s + solve: 3.51e-03s\n",
      "\t lin-sys: 2.87e-05s, cones: 3.90e-04s, accel: 1.83e-03s\n",
      "------------------------------------------------------------------\n",
      "objective = 4.995797\n",
      "------------------------------------------------------------------\n",
      "-------------------------------------------------------------------------------\n",
      "                                    Summary                                    \n",
      "-------------------------------------------------------------------------------\n",
      "(CVXPY) Jun 08 06:30:46 PM: Problem status: optimal\n",
      "(CVXPY) Jun 08 06:30:46 PM: Optimal value: 4.996e+00\n",
      "(CVXPY) Jun 08 06:30:46 PM: Compilation took 1.021e-02 seconds\n",
      "(CVXPY) Jun 08 06:30:46 PM: Solver (including time spent in interface) took 6.482e-03 seconds\n",
      "obj:  4.995841643888625\n",
      "X: \n",
      "[[ 0.53378786 -0.62607871]\n",
      " [-0.62607871  0.73434552]]\n"
     ]
    }
   ],
   "source": [
    "import cvxpy as cvx\n",
    "# 行列用意\n",
    "n = 2 \n",
    "A = np.random.randn(n, n)\n",
    "A = A + A.T\n",
    "X = cvx.Variable((n,n), symmetric=True)\n",
    "# 問題定義\n",
    "constraints = [X >> 0] # 半正定値制約\n",
    "obj = cvx.Minimize(cvx.norm(A-X, \"fro\")**2)\n",
    "prob = cvx.Problem(obj, constraints)\n",
    "prob.solve(verbose=True)\n",
    "# 結果表示\n",
    "print(\"obj: \", prob.value)\n",
    "print(\"X: \")\n",
    "print(X.value)"
   ]
  },
  {
   "cell_type": "code",
   "execution_count": 30,
   "id": "e8c6f573-da16-41b4-85e7-1f1b02962259",
   "metadata": {},
   "outputs": [
    {
     "data": {
      "text/plain": [
       "Variable((2, 2), symmetric=True)"
      ]
     },
     "execution_count": 30,
     "metadata": {},
     "output_type": "execute_result"
    }
   ],
   "source": [
    "X"
   ]
  },
  {
   "cell_type": "code",
   "execution_count": null,
   "id": "48df2ac7-17ac-4486-9707-a9277c5e8cf1",
   "metadata": {},
   "outputs": [],
   "source": [
    "#グラフ\n",
    "colors = ['red', 'blue', 'green','yellow','fuchsia']\n",
    "markers = [\",\", \"o\", \"v\", \"^\", \"<\", \">\", \"1\", \"2\", \"3\"]\n",
    "fig = plt.figure()\n",
    "ax = fig.add_subplot(111)\n",
    "#clusterはnp.array型じゃないとダメそう(リスト型だとグラフに描画されなかった)\n",
    "ax.set_xlabel(\"X\", size=14)\n",
    "ax.set_ylabel(\"Y\", size=14)\n",
    "ax.legend(['cluster1', 'cluster2','cluster3',\"center\"],fontsize=9,ncol=2,bbox_to_anchor=(0, -0.1), loc='upper left')  # 凡例を表示\n",
    "\n",
    "ax.plot([X[i][0]-epsilon[i][0],X[i][0]+epsilon[i][0]],[X[i][1]-epsilon[i][1],X[i][1]-epsilon[i][1]],color=\"black\",linestyle=\"dashdot\",linewidth = 1, alpha = 0.4)\n",
    "#ax.quiver(X[i][0], X[i][1], epsilon[i][0], epsilon[i][1], angles='xy', scale_units='xy', scale=1,width=0.003,alpha=0.5) # 矢印プロット\n",
    "#______\n",
    "plt.show()"
   ]
  }
 ],
 "metadata": {
  "kernelspec": {
   "display_name": "Python 3 (ipykernel)",
   "language": "python",
   "name": "python3"
  },
  "language_info": {
   "codemirror_mode": {
    "name": "ipython",
    "version": 3
   },
   "file_extension": ".py",
   "mimetype": "text/x-python",
   "name": "python",
   "nbconvert_exporter": "python",
   "pygments_lexer": "ipython3",
   "version": "3.9.7"
  }
 },
 "nbformat": 4,
 "nbformat_minor": 5
}
