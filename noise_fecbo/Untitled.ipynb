{
 "cells": [
  {
   "cell_type": "code",
   "execution_count": 1,
   "id": "22fc8c99-a384-46c7-818b-0f9793a21c2c",
   "metadata": {},
   "outputs": [],
   "source": [
    "import numpy as np\n",
    "x = np.array([[1, 2],\n",
    "              [3, 4]])\n"
   ]
  },
  {
   "cell_type": "code",
   "execution_count": 2,
   "id": "5fcc02a7-3608-4c69-9852-122917972763",
   "metadata": {},
   "outputs": [],
   "source": [
    "s = x**2"
   ]
  },
  {
   "cell_type": "code",
   "execution_count": 3,
   "id": "b8514e04-c1b3-44b4-af83-cf6fd5022335",
   "metadata": {},
   "outputs": [
    {
     "data": {
      "text/plain": [
       "array([[ 1,  4],\n",
       "       [ 9, 16]])"
      ]
     },
     "execution_count": 3,
     "metadata": {},
     "output_type": "execute_result"
    }
   ],
   "source": [
    "s"
   ]
  },
  {
   "cell_type": "code",
   "execution_count": 6,
   "id": "32bcfa3b-ca33-4248-9558-62bcce7462ac",
   "metadata": {},
   "outputs": [
    {
     "data": {
      "text/plain": [
       "array([10, 20])"
      ]
     },
     "execution_count": 6,
     "metadata": {},
     "output_type": "execute_result"
    }
   ],
   "source": [
    "np.sum(s,axis=0)"
   ]
  },
  {
   "cell_type": "code",
   "execution_count": 7,
   "id": "ef6ef42d-ae2a-4803-9d7c-40e2580b1d8a",
   "metadata": {},
   "outputs": [
    {
     "data": {
      "text/plain": [
       "array([[ 1,  8],\n",
       "       [27, 64]])"
      ]
     },
     "execution_count": 7,
     "metadata": {},
     "output_type": "execute_result"
    }
   ],
   "source": [
    "x*s"
   ]
  },
  {
   "cell_type": "code",
   "execution_count": 12,
   "id": "010be62b-a754-4d6b-b1b7-804a8ea278b0",
   "metadata": {},
   "outputs": [],
   "source": [
    "m = np.array([2,1])"
   ]
  },
  {
   "cell_type": "code",
   "execution_count": 16,
   "id": "e0623eca-da1f-43da-bb79-61c95403a6e7",
   "metadata": {},
   "outputs": [
    {
     "data": {
      "text/plain": [
       "array([[ 1,  4],\n",
       "       [ 9, 16]])"
      ]
     },
     "execution_count": 16,
     "metadata": {},
     "output_type": "execute_result"
    }
   ],
   "source": [
    "s"
   ]
  },
  {
   "cell_type": "code",
   "execution_count": 17,
   "id": "7f613010-c14d-47f2-b6aa-0d26ab5a305a",
   "metadata": {},
   "outputs": [
    {
     "data": {
      "text/plain": [
       "array([2, 1])"
      ]
     },
     "execution_count": 17,
     "metadata": {},
     "output_type": "execute_result"
    }
   ],
   "source": [
    "m"
   ]
  },
  {
   "cell_type": "code",
   "execution_count": 18,
   "id": "5b767fb7-c697-4265-b28a-86036faed85b",
   "metadata": {},
   "outputs": [
    {
     "data": {
      "text/plain": [
       "array([[ 2,  4],\n",
       "       [18, 16]])"
      ]
     },
     "execution_count": 18,
     "metadata": {},
     "output_type": "execute_result"
    }
   ],
   "source": [
    "s*m"
   ]
  },
  {
   "cell_type": "code",
   "execution_count": 19,
   "id": "426eb98d-e18c-4aac-b0c9-d15254d4d000",
   "metadata": {},
   "outputs": [
    {
     "data": {
      "text/plain": [
       "array([], dtype=float64)"
      ]
     },
     "execution_count": 19,
     "metadata": {},
     "output_type": "execute_result"
    }
   ],
   "source": [
    "np.empty(0)"
   ]
  },
  {
   "cell_type": "code",
   "execution_count": 20,
   "id": "708e7168-a4af-4beb-a603-5da632fa4bd4",
   "metadata": {},
   "outputs": [],
   "source": [
    "aa = np.empty(0)"
   ]
  },
  {
   "cell_type": "code",
   "execution_count": 22,
   "id": "5465c61f-8ff8-4421-a5ff-ae49b4712f1f",
   "metadata": {},
   "outputs": [],
   "source": [
    "aaa = np.append(aa,55)"
   ]
  },
  {
   "cell_type": "code",
   "execution_count": 23,
   "id": "66a6cf8e-8d34-47bf-83d4-ad06dfc887ac",
   "metadata": {},
   "outputs": [
    {
     "data": {
      "text/plain": [
       "array([55.])"
      ]
     },
     "execution_count": 23,
     "metadata": {},
     "output_type": "execute_result"
    }
   ],
   "source": [
    "aaa"
   ]
  },
  {
   "cell_type": "code",
   "execution_count": null,
   "id": "007f0da3-7da0-4cff-8798-bffe004805e7",
   "metadata": {},
   "outputs": [],
   "source": []
  }
 ],
 "metadata": {
  "kernelspec": {
   "display_name": "Python 3 (ipykernel)",
   "language": "python",
   "name": "python3"
  },
  "language_info": {
   "codemirror_mode": {
    "name": "ipython",
    "version": 3
   },
   "file_extension": ".py",
   "mimetype": "text/x-python",
   "name": "python",
   "nbconvert_exporter": "python",
   "pygments_lexer": "ipython3",
   "version": "3.9.7"
  }
 },
 "nbformat": 4,
 "nbformat_minor": 5
}
