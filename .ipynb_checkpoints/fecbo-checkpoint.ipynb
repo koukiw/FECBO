{
 "cells": [
  {
   "cell_type": "code",
   "execution_count": 284,
   "metadata": {},
   "outputs": [
    {
     "name": "stdin",
     "output_type": "stream",
     "text": [
      "Once deleted, variables cannot be recovered. Proceed (y/[n])?  y\n"
     ]
    }
   ],
   "source": [
    "%reset"
   ]
  },
  {
   "cell_type": "markdown",
   "metadata": {},
   "source": [
    "fecboのm=2の場合を二次計画法で実装、cvxoptのライブラリーにあったけど、データによって成功したり失敗したりする\n",
    "原因としてはAのランク（制約条件だと思う）が低いから、成功しない\n",
    "主双対パス追跡法の実装は出来てない、\n",
    "このコードは途中で諦めてあって、未完成(2021.11.25現在)\n",
    "12/1 これってAとかにクラスタサイズKを入れてないんじゃないか、あと帰属度が1になるって条件も入ってない気がする\\\n",
    "1/11 できた"
   ]
  },
  {
   "cell_type": "code",
   "execution_count": 285,
   "metadata": {},
   "outputs": [],
   "source": [
    "import pandas as pd\n",
    "import numpy as np\n",
    "import matplotlib.pyplot as plt\n",
    "#sysはコマンドライン引数\n",
    "import sys\n",
    "import csv\n",
    "#cvxoptのインポート\n",
    "import numpy as np\n",
    "import cvxopt\n",
    "from cvxopt import matrix\n",
    "np.seterr(divide='ignore', invalid='ignore')\n",
    "#csvファイルの読み込み、一行目はヘッダーじゃない\n",
    "df = pd.read_csv(\"output.csv\",header=None)\n",
    "\n",
    "#クラスタ数宣言\n",
    "c=5\n",
    "#dfをnumpyで扱えるnp.ndarray変換\n",
    "X = df.values\n",
    "#配列の行数、列数の格納\n",
    "\n",
    "X_size,dimension = X.shape\n",
    "#Kはクラスタサイズ(fecboの場合整数に限らない)\n",
    "K=X_size/c\n",
    "#K=2\n",
    "centroids = X[np.random.choice(X_size,c)]\n",
    "distances=np.zeros((X_size,c))"
   ]
  },
  {
   "cell_type": "markdown",
   "metadata": {},
   "source": [
    "二次計画法"
   ]
  },
  {
   "cell_type": "code",
   "execution_count": 286,
   "metadata": {},
   "outputs": [
    {
     "name": "stdout",
     "output_type": "stream",
     "text": [
      "[0.04769473555599996, 1e-10, 0.115661594978, 1e-10, 0.04769473555599996, 0.044534055555999985, 0.00032017111199999967, 0.11002489557800005, 0.00032017111199999967, 0.044534055555999985, 0.07641761555599996, 0.034870411111999976, 0.13465901557800003, 0.034870411111999976, 0.07641761555599996, 0.041001691111999986, 0.0007403055559999994, 0.10412108497800004, 0.0007403055559999994, 0.041001691111999986, 1e-10, 0.04769473555599996, 0.014995290578000024, 0.04769473555599996, 1e-10, 0.08168416388899997, 0.03822570388899998, 0.14067954388900006, 0.03822570388899998, 0.08168416388899997, 0.014995290578000024, 0.115661594978, 1e-10, 0.115661594978, 0.014995290578000024, 0.010834891111999997, 0.014240305555999986, 0.04962768497800004, 0.014240305555999986, 0.010834891111999997, 0.002075713888999991, 0.034195399444999997, 0.024758896689000005, 0.034195399444999997, 0.002075713888999991, 0.16898525111199994, 0.037423585556, 0.28432386497800005, 0.037423585556, 0.16898525111199994]\n"
     ]
    }
   ],
   "source": [
    "#pにはd11,d12,d13,,,,d21,d22,,,dn1,,dncの順でリスト作る\n",
    "p=[]\n",
    "for i in range(X_size):\n",
    "    for j in range(c):\n",
    "        p.append(np.sum((X[i]-centroids[j])**2))\n",
    "#三項演算子でデータ点をクラスタ中心にしている場合、距離dを少しずらす\n",
    "p = [0.0000000001 if i == 0 else i for i in p]\n",
    "print(p)"
   ]
  },
  {
   "cell_type": "code",
   "execution_count": 258,
   "metadata": {},
   "outputs": [
    {
     "data": {
      "text/plain": [
       "50"
      ]
     },
     "execution_count": 258,
     "metadata": {},
     "output_type": "execute_result"
    }
   ],
   "source": [
    "len(p)"
   ]
  },
  {
   "cell_type": "code",
   "execution_count": 287,
   "metadata": {},
   "outputs": [
    {
     "data": {
      "text/plain": [
       "<50x50 matrix, tc='d'>"
      ]
     },
     "execution_count": 287,
     "metadata": {},
     "output_type": "execute_result"
    }
   ],
   "source": [
    "p_1 = 1/2 * np.diag(p)\n",
    "P = matrix(p_1.astype('float'))\n",
    "P"
   ]
  },
  {
   "cell_type": "code",
   "execution_count": 288,
   "metadata": {},
   "outputs": [
    {
     "data": {
      "text/plain": [
       "<50x1 matrix, tc='d'>"
      ]
     },
     "execution_count": 288,
     "metadata": {},
     "output_type": "execute_result"
    }
   ],
   "source": [
    "q = matrix(np.zeros(len(p)).astype('float'))\n",
    "q"
   ]
  },
  {
   "cell_type": "code",
   "execution_count": 302,
   "metadata": {},
   "outputs": [
    {
     "data": {
      "text/plain": [
       "<50x50 matrix, tc='d'>"
      ]
     },
     "execution_count": 302,
     "metadata": {},
     "output_type": "execute_result"
    }
   ],
   "source": [
    "g = [-1 for i in range(len(p))]\n",
    "G = matrix(np.diag(g).astype(\"float\"))\n",
    "G"
   ]
  },
  {
   "cell_type": "code",
   "execution_count": 303,
   "metadata": {},
   "outputs": [
    {
     "data": {
      "text/plain": [
       "<50x1 matrix, tc='d'>"
      ]
     },
     "execution_count": 303,
     "metadata": {},
     "output_type": "execute_result"
    }
   ],
   "source": [
    "h1 = np.zeros(len(p))\n",
    "h = matrix(h1)\n",
    "h"
   ]
  },
  {
   "cell_type": "code",
   "execution_count": 313,
   "metadata": {},
   "outputs": [
    {
     "data": {
      "text/plain": [
       "<14x1 matrix, tc='d'>"
      ]
     },
     "execution_count": 313,
     "metadata": {},
     "output_type": "execute_result"
    }
   ],
   "source": [
    "b1 = np.ones(X_size)\n",
    "b1 = np.append(b1,[K,K,K,K])\n",
    "b = matrix(b1.astype('float'))\n",
    "b"
   ]
  },
  {
   "cell_type": "code",
   "execution_count": 314,
   "metadata": {},
   "outputs": [
    {
     "data": {
      "text/plain": [
       "array([1., 1., 1., 1., 1., 1., 1., 1., 1., 1., 2., 2., 2., 2.])"
      ]
     },
     "execution_count": 314,
     "metadata": {},
     "output_type": "execute_result"
    }
   ],
   "source": [
    "b1"
   ]
  },
  {
   "cell_type": "code",
   "execution_count": 315,
   "metadata": {},
   "outputs": [],
   "source": [
    "#A作成\n",
    "s_pre1=[]\n",
    "s_pre=[]\n",
    "for i in range(X_size):\n",
    "    for j in range(X_size*c):\n",
    "        if j==c*i or j==c*i+1 or j==c*i+2 or j==c*i+3 or j==c*i+4:\n",
    "            s_pre1.append(1)\n",
    "        else:\n",
    "            s_pre1.append(0)\n",
    "    s_pre.append(s_pre1)\n",
    "    s_pre1=[]\n",
    "s = np.array(s_pre).astype('float')\n",
    "#---------ここまででu_ki=1---------\n",
    "a0 = np.zeros(50)\n",
    "a1 = np.zeros(50)\n",
    "a2 = np.zeros(50)\n",
    "a3 = np.zeros(50)\n",
    "#a4 = np.zeros(50)\n",
    "a0[::5]=1\n",
    "a1[1::5]=1\n",
    "a2[2::5]=1\n",
    "a3[3::5]=1\n",
    "# a4[4::5]=1\n",
    "aa = np.stack([a0,a1,a2,a3])\n",
    "# -----ここまでu_ki=Kの作成------\n",
    "a = np.concatenate([s,aa])\n",
    "A = matrix(a.astype('float'))"
   ]
  },
  {
   "cell_type": "code",
   "execution_count": 316,
   "metadata": {},
   "outputs": [
    {
     "data": {
      "text/plain": [
       "array([[1., 1., 1., 1., 1., 0., 0., 0., 0., 0., 0., 0., 0., 0., 0., 0.,\n",
       "        0., 0., 0., 0., 0., 0., 0., 0., 0., 0., 0., 0., 0., 0., 0., 0.,\n",
       "        0., 0., 0., 0., 0., 0., 0., 0., 0., 0., 0., 0., 0., 0., 0., 0.,\n",
       "        0., 0.],\n",
       "       [0., 0., 0., 0., 0., 1., 1., 1., 1., 1., 0., 0., 0., 0., 0., 0.,\n",
       "        0., 0., 0., 0., 0., 0., 0., 0., 0., 0., 0., 0., 0., 0., 0., 0.,\n",
       "        0., 0., 0., 0., 0., 0., 0., 0., 0., 0., 0., 0., 0., 0., 0., 0.,\n",
       "        0., 0.],\n",
       "       [0., 0., 0., 0., 0., 0., 0., 0., 0., 0., 1., 1., 1., 1., 1., 0.,\n",
       "        0., 0., 0., 0., 0., 0., 0., 0., 0., 0., 0., 0., 0., 0., 0., 0.,\n",
       "        0., 0., 0., 0., 0., 0., 0., 0., 0., 0., 0., 0., 0., 0., 0., 0.,\n",
       "        0., 0.],\n",
       "       [0., 0., 0., 0., 0., 0., 0., 0., 0., 0., 0., 0., 0., 0., 0., 1.,\n",
       "        1., 1., 1., 1., 0., 0., 0., 0., 0., 0., 0., 0., 0., 0., 0., 0.,\n",
       "        0., 0., 0., 0., 0., 0., 0., 0., 0., 0., 0., 0., 0., 0., 0., 0.,\n",
       "        0., 0.],\n",
       "       [0., 0., 0., 0., 0., 0., 0., 0., 0., 0., 0., 0., 0., 0., 0., 0.,\n",
       "        0., 0., 0., 0., 1., 1., 1., 1., 1., 0., 0., 0., 0., 0., 0., 0.,\n",
       "        0., 0., 0., 0., 0., 0., 0., 0., 0., 0., 0., 0., 0., 0., 0., 0.,\n",
       "        0., 0.],\n",
       "       [0., 0., 0., 0., 0., 0., 0., 0., 0., 0., 0., 0., 0., 0., 0., 0.,\n",
       "        0., 0., 0., 0., 0., 0., 0., 0., 0., 1., 1., 1., 1., 1., 0., 0.,\n",
       "        0., 0., 0., 0., 0., 0., 0., 0., 0., 0., 0., 0., 0., 0., 0., 0.,\n",
       "        0., 0.],\n",
       "       [0., 0., 0., 0., 0., 0., 0., 0., 0., 0., 0., 0., 0., 0., 0., 0.,\n",
       "        0., 0., 0., 0., 0., 0., 0., 0., 0., 0., 0., 0., 0., 0., 1., 1.,\n",
       "        1., 1., 1., 0., 0., 0., 0., 0., 0., 0., 0., 0., 0., 0., 0., 0.,\n",
       "        0., 0.],\n",
       "       [0., 0., 0., 0., 0., 0., 0., 0., 0., 0., 0., 0., 0., 0., 0., 0.,\n",
       "        0., 0., 0., 0., 0., 0., 0., 0., 0., 0., 0., 0., 0., 0., 0., 0.,\n",
       "        0., 0., 0., 1., 1., 1., 1., 1., 0., 0., 0., 0., 0., 0., 0., 0.,\n",
       "        0., 0.],\n",
       "       [0., 0., 0., 0., 0., 0., 0., 0., 0., 0., 0., 0., 0., 0., 0., 0.,\n",
       "        0., 0., 0., 0., 0., 0., 0., 0., 0., 0., 0., 0., 0., 0., 0., 0.,\n",
       "        0., 0., 0., 0., 0., 0., 0., 0., 1., 1., 1., 1., 1., 0., 0., 0.,\n",
       "        0., 0.],\n",
       "       [0., 0., 0., 0., 0., 0., 0., 0., 0., 0., 0., 0., 0., 0., 0., 0.,\n",
       "        0., 0., 0., 0., 0., 0., 0., 0., 0., 0., 0., 0., 0., 0., 0., 0.,\n",
       "        0., 0., 0., 0., 0., 0., 0., 0., 0., 0., 0., 0., 0., 1., 1., 1.,\n",
       "        1., 1.],\n",
       "       [1., 0., 0., 0., 0., 1., 0., 0., 0., 0., 1., 0., 0., 0., 0., 1.,\n",
       "        0., 0., 0., 0., 1., 0., 0., 0., 0., 1., 0., 0., 0., 0., 1., 0.,\n",
       "        0., 0., 0., 1., 0., 0., 0., 0., 1., 0., 0., 0., 0., 1., 0., 0.,\n",
       "        0., 0.],\n",
       "       [0., 1., 0., 0., 0., 0., 1., 0., 0., 0., 0., 1., 0., 0., 0., 0.,\n",
       "        1., 0., 0., 0., 0., 1., 0., 0., 0., 0., 1., 0., 0., 0., 0., 1.,\n",
       "        0., 0., 0., 0., 1., 0., 0., 0., 0., 1., 0., 0., 0., 0., 1., 0.,\n",
       "        0., 0.],\n",
       "       [0., 0., 1., 0., 0., 0., 0., 1., 0., 0., 0., 0., 1., 0., 0., 0.,\n",
       "        0., 1., 0., 0., 0., 0., 1., 0., 0., 0., 0., 1., 0., 0., 0., 0.,\n",
       "        1., 0., 0., 0., 0., 1., 0., 0., 0., 0., 1., 0., 0., 0., 0., 1.,\n",
       "        0., 0.],\n",
       "       [0., 0., 0., 1., 0., 0., 0., 0., 1., 0., 0., 0., 0., 1., 0., 0.,\n",
       "        0., 0., 1., 0., 0., 0., 0., 1., 0., 0., 0., 0., 1., 0., 0., 0.,\n",
       "        0., 1., 0., 0., 0., 0., 1., 0., 0., 0., 0., 1., 0., 0., 0., 0.,\n",
       "        1., 0.]])"
      ]
     },
     "execution_count": 316,
     "metadata": {},
     "output_type": "execute_result"
    }
   ],
   "source": [
    "a"
   ]
  },
  {
   "cell_type": "code",
   "execution_count": 317,
   "metadata": {},
   "outputs": [
    {
     "name": "stdout",
     "output_type": "stream",
     "text": [
      "     pcost       dcost       gap    pres   dres\n",
      " 0:  2.5355e-02 -1.0069e+01  1e+01  1e-16  9e+00\n",
      " 1:  2.5107e-02 -1.6504e-01  2e-01  3e-16  2e-01\n",
      " 2:  1.9252e-02 -1.6202e-02  4e-02  2e-16  2e-02\n",
      " 3:  1.3760e-02  8.2906e-03  5e-03  9e-16  7e-18\n",
      " 4:  1.2598e-02  1.2253e-02  3e-04  3e-16  5e-18\n",
      " 5:  1.2460e-02  1.2446e-02  1e-05  2e-15  3e-18\n",
      " 6:  1.2455e-02  1.2455e-02  7e-07  3e-14  4e-18\n",
      " 7:  1.2455e-02  1.2455e-02  1e-08  2e-13  4e-18\n",
      "Optimal solution found.\n",
      "{'x': <50x1 matrix, tc='d'>, 'y': <14x1 matrix, tc='d'>, 's': <50x1 matrix, tc='d'>, 'z': <50x1 matrix, tc='d'>, 'status': 'optimal', 'gap': 1.2653558371091542e-08, 'relative gap': 1.0159216552117004e-06, 'primal objective': 0.012455262825834125, 'dual objective': 0.012455250172273136, 'primal infeasibility': 1.6877945653523456e-13, 'dual infeasibility': 3.924889547116102e-18, 'primal slack': 1.2465715631291554e-08, 'dual slack': 9.90231417239862e-12, 'iterations': 7}\n",
      "[ 8.99e-02]\n",
      "[ 3.79e-01]\n",
      "[ 6.16e-02]\n",
      "[ 3.79e-01]\n",
      "[ 8.99e-02]\n",
      "[ 9.89e-02]\n",
      "[ 3.68e-01]\n",
      "[ 6.58e-02]\n",
      "[ 3.68e-01]\n",
      "[ 9.89e-02]\n",
      "[ 1.76e-01]\n",
      "[ 2.63e-01]\n",
      "[ 1.21e-01]\n",
      "[ 2.63e-01]\n",
      "[ 1.76e-01]\n",
      "[ 1.11e-01]\n",
      "[ 3.54e-01]\n",
      "[ 7.09e-02]\n",
      "[ 3.54e-01]\n",
      "[ 1.11e-01]\n",
      "[ 4.06e-01]\n",
      "[ 3.18e-08]\n",
      "[ 1.89e-01]\n",
      "[ 3.18e-08]\n",
      "[ 4.06e-01]\n",
      "[ 1.76e-01]\n",
      "[ 2.63e-01]\n",
      "[ 1.22e-01]\n",
      "[ 2.63e-01]\n",
      "[ 1.76e-01]\n",
      "[ 1.25e-08]\n",
      "[ 1.45e-08]\n",
      "[ 1.00e+00]\n",
      "[ 1.45e-08]\n",
      "[ 1.25e-08]\n",
      "[ 4.13e-01]\n",
      "[ 1.33e-02]\n",
      "[ 1.47e-01]\n",
      "[ 1.33e-02]\n",
      "[ 4.13e-01]\n",
      "[ 4.25e-01]\n",
      "[ 5.05e-08]\n",
      "[ 1.50e-01]\n",
      "[ 5.05e-08]\n",
      "[ 4.25e-01]\n",
      "[ 1.05e-01]\n",
      "[ 3.59e-01]\n",
      "[ 7.23e-02]\n",
      "[ 3.59e-01]\n",
      "[ 1.05e-01]\n",
      "\n",
      "0.012455262825834125\n"
     ]
    }
   ],
   "source": [
    "sol = cvxopt.solvers.qp(P,q,G=G,h=h,A=A,b=b)\n",
    "print(sol)\n",
    "print(sol['x'])\n",
    "print(sol['primal objective'])"
   ]
  },
  {
   "cell_type": "code",
   "execution_count": 318,
   "metadata": {},
   "outputs": [
    {
     "name": "stdout",
     "output_type": "stream",
     "text": [
      "帰属度とクラスタサイズの確認\n",
      "[1. 1. 1. 1. 1. 1. 1. 1. 1. 1.]\n",
      "[2. 2. 2. 2. 2.]\n"
     ]
    }
   ],
   "source": [
    "u = np.array(sol['x'])\n",
    "u_list = u.reshape([X_size,c])\n",
    "print(\"帰属度とクラスタサイズの確認\")\n",
    "print(np.sum(u_list, axis=1))#行ごとの合計値1になるはず\n",
    "print(np.sum(u_list, axis=0))#列ごとの合計値Kになるはず"
   ]
  },
  {
   "cell_type": "code",
   "execution_count": 319,
   "metadata": {},
   "outputs": [
    {
     "data": {
      "text/plain": [
       "array([[8.98735364e-02, 3.79347662e-01, 6.15576032e-02, 3.79347662e-01,\n",
       "        8.98735364e-02],\n",
       "       [9.88992419e-02, 3.68209382e-01, 6.57827514e-02, 3.68209382e-01,\n",
       "        9.88992419e-02],\n",
       "       [1.76220791e-01, 2.63256976e-01, 1.21044465e-01, 2.63256976e-01,\n",
       "        1.76220791e-01],\n",
       "       [1.10929170e-01, 3.53623449e-01, 7.08947624e-02, 3.53623449e-01,\n",
       "        1.10929170e-01],\n",
       "       [4.05525111e-01, 3.17692121e-08, 1.88949714e-01, 3.17692121e-08,\n",
       "        4.05525111e-01],\n",
       "       [1.75672339e-01, 2.63256223e-01, 1.22142875e-01, 2.63256223e-01,\n",
       "        1.75672339e-01],\n",
       "       [1.24657156e-08, 1.45410249e-08, 9.99999946e-01, 1.45410249e-08,\n",
       "        1.24657156e-08],\n",
       "       [4.13045337e-01, 1.33197845e-02, 1.47269756e-01, 1.33197845e-02,\n",
       "        4.13045337e-01],\n",
       "       [4.24967006e-01, 5.05433433e-08, 1.50065887e-01, 5.05433433e-08,\n",
       "        4.24967006e-01],\n",
       "       [1.04867454e-01, 3.58986426e-01, 7.22922397e-02, 3.58986426e-01,\n",
       "        1.04867454e-01]])"
      ]
     },
     "execution_count": 319,
     "metadata": {},
     "output_type": "execute_result"
    }
   ],
   "source": [
    "u_list"
   ]
  },
  {
   "cell_type": "code",
   "execution_count": 321,
   "metadata": {},
   "outputs": [
    {
     "data": {
      "text/plain": [
       "array([3, 1, 1, 1, 4, 1, 2, 0, 0, 1])"
      ]
     },
     "execution_count": 321,
     "metadata": {},
     "output_type": "execute_result"
    }
   ],
   "source": [
    "np_cluster = np.argmax(u_list,axis=1)\n",
    "np_cluster"
   ]
  },
  {
   "cell_type": "code",
   "execution_count": 322,
   "metadata": {},
   "outputs": [
    {
     "data": {
      "image/png": "[encoded data removed]",
      "text/plain": [
       "<Figure size 432x288 with 1 Axes>"
      ]
     },
     "metadata": {
      "needs_background": "light"
     },
     "output_type": "display_data"
    }
   ],
   "source": [
    "#グラフ\n",
    "colors = ['red', 'blue', 'green','yellow','fuchsia']\n",
    "markers = [\",\", \"o\", \"v\", \"^\", \"<\", \">\", \"1\", \"2\", \"3\"]\n",
    "fig = plt.figure()\n",
    "ax = fig.add_subplot(111)\n",
    "#clusterはnp.array型じゃないとダメそう(リスト型だとグラフに描画されなかった)\n",
    "for i in range(c):\n",
    "    ax.scatter(X[:, 0][np_cluster==i], X[:, 1][np_cluster==i], color=colors[i],marker=markers[i])\n",
    "\n",
    "ax.set_title('fecbo', size=16)\n",
    "ax.set_xlabel(\"X\", size=14)\n",
    "ax.set_ylabel(\"Y\", size=14)\n",
    "ax.legend(['cluster1', 'cluster2'])  # 凡例を表示\n",
    "\n",
    "plt.show()\n",
    "\n",
    "fig.savefig(\"img2d.pdf\")"
   ]
  },
  {
   "cell_type": "markdown",
   "metadata": {},
   "source": [
    "ここまでが完成コード"
   ]
  },
  {
   "cell_type": "code",
   "execution_count": 7,
   "metadata": {},
   "outputs": [
    {
     "ename": "ValueError",
     "evalue": "Rank(A) < p or Rank([P; A; G]) < n",
     "output_type": "error",
     "traceback": [
      "\u001b[0;31m---------------------------------------------------------------------------\u001b[0m",
      "\u001b[0;31mArithmeticError\u001b[0m                           Traceback (most recent call last)",
      "\u001b[0;32m~/opt/anaconda3/lib/python3.9/site-packages/cvxopt/coneprog.py\u001b[0m in \u001b[0;36mconeqp\u001b[0;34m(P, q, G, h, dims, A, b, initvals, kktsolver, xnewcopy, xdot, xaxpy, xscal, ynewcopy, ydot, yaxpy, yscal, **kwargs)\u001b[0m\n\u001b[1;32m   2064\u001b[0m         \u001b[0;32mfor\u001b[0m \u001b[0mrti\u001b[0m \u001b[0;32min\u001b[0m \u001b[0mW\u001b[0m\u001b[0;34m[\u001b[0m\u001b[0;34m'rti'\u001b[0m\u001b[0;34m]\u001b[0m\u001b[0;34m:\u001b[0m \u001b[0mrti\u001b[0m\u001b[0;34m[\u001b[0m\u001b[0;34m:\u001b[0m\u001b[0;34m:\u001b[0m\u001b[0mrti\u001b[0m\u001b[0;34m.\u001b[0m\u001b[0msize\u001b[0m\u001b[0;34m[\u001b[0m\u001b[0;36m0\u001b[0m\u001b[0;34m]\u001b[0m\u001b[0;34m+\u001b[0m\u001b[0;36m1\u001b[0m \u001b[0;34m]\u001b[0m \u001b[0;34m=\u001b[0m \u001b[0;36m1.0\u001b[0m\u001b[0;34m\u001b[0m\u001b[0;34m\u001b[0m\u001b[0m\n\u001b[0;32m-> 2065\u001b[0;31m         \u001b[0;32mtry\u001b[0m\u001b[0;34m:\u001b[0m \u001b[0mf\u001b[0m \u001b[0;34m=\u001b[0m \u001b[0mkktsolver\u001b[0m\u001b[0;34m(\u001b[0m\u001b[0mW\u001b[0m\u001b[0;34m)\u001b[0m\u001b[0;34m\u001b[0m\u001b[0;34m\u001b[0m\u001b[0m\n\u001b[0m\u001b[1;32m   2066\u001b[0m         \u001b[0;32mexcept\u001b[0m \u001b[0mArithmeticError\u001b[0m\u001b[0;34m:\u001b[0m\u001b[0;34m\u001b[0m\u001b[0;34m\u001b[0m\u001b[0m\n",
      "\u001b[0;32m~/opt/anaconda3/lib/python3.9/site-packages/cvxopt/coneprog.py\u001b[0m in \u001b[0;36mkktsolver\u001b[0;34m(W)\u001b[0m\n\u001b[1;32m   1980\u001b[0m          \u001b[0;32mdef\u001b[0m \u001b[0mkktsolver\u001b[0m\u001b[0;34m(\u001b[0m\u001b[0mW\u001b[0m\u001b[0;34m)\u001b[0m\u001b[0;34m:\u001b[0m\u001b[0;34m\u001b[0m\u001b[0;34m\u001b[0m\u001b[0m\n\u001b[0;32m-> 1981\u001b[0;31m              \u001b[0;32mreturn\u001b[0m \u001b[0mfactor\u001b[0m\u001b[0;34m(\u001b[0m\u001b[0mW\u001b[0m\u001b[0;34m,\u001b[0m \u001b[0mP\u001b[0m\u001b[0;34m)\u001b[0m\u001b[0;34m\u001b[0m\u001b[0;34m\u001b[0m\u001b[0m\n\u001b[0m\u001b[1;32m   1982\u001b[0m \u001b[0;34m\u001b[0m\u001b[0m\n",
      "\u001b[0;32m~/opt/anaconda3/lib/python3.9/site-packages/cvxopt/misc.py\u001b[0m in \u001b[0;36mfactor\u001b[0;34m(W, H, Df)\u001b[0m\n\u001b[1;32m   1471\u001b[0m             \u001b[0mblas\u001b[0m\u001b[0;34m.\u001b[0m\u001b[0msyrk\u001b[0m\u001b[0;34m(\u001b[0m\u001b[0mAsct\u001b[0m\u001b[0;34m,\u001b[0m \u001b[0mF\u001b[0m\u001b[0;34m[\u001b[0m\u001b[0;34m'K'\u001b[0m\u001b[0;34m]\u001b[0m\u001b[0;34m,\u001b[0m \u001b[0mtrans\u001b[0m \u001b[0;34m=\u001b[0m \u001b[0;34m'T'\u001b[0m\u001b[0;34m)\u001b[0m\u001b[0;34m\u001b[0m\u001b[0;34m\u001b[0m\u001b[0m\n\u001b[0;32m-> 1472\u001b[0;31m             \u001b[0mlapack\u001b[0m\u001b[0;34m.\u001b[0m\u001b[0mpotrf\u001b[0m\u001b[0;34m(\u001b[0m\u001b[0mF\u001b[0m\u001b[0;34m[\u001b[0m\u001b[0;34m'K'\u001b[0m\u001b[0;34m]\u001b[0m\u001b[0;34m)\u001b[0m\u001b[0;34m\u001b[0m\u001b[0;34m\u001b[0m\u001b[0m\n\u001b[0m\u001b[1;32m   1473\u001b[0m \u001b[0;34m\u001b[0m\u001b[0m\n",
      "\u001b[0;31mArithmeticError\u001b[0m: 12",
      "\nDuring handling of the above exception, another exception occurred:\n",
      "\u001b[0;31mValueError\u001b[0m                                Traceback (most recent call last)",
      "\u001b[0;32m/var/folders/c4/bqdz_03n3w1db3krhv3c2ztw0000gn/T/ipykernel_2091/2250974865.py\u001b[0m in \u001b[0;36m<module>\u001b[0;34m\u001b[0m\n\u001b[1;32m      8\u001b[0m \u001b[0mA\u001b[0m \u001b[0;34m=\u001b[0m \u001b[0mmatrix\u001b[0m\u001b[0;34m(\u001b[0m\u001b[0ma\u001b[0m\u001b[0;34m)\u001b[0m\u001b[0;34m\u001b[0m\u001b[0;34m\u001b[0m\u001b[0m\n\u001b[1;32m      9\u001b[0m \u001b[0;34m\u001b[0m\u001b[0m\n\u001b[0;32m---> 10\u001b[0;31m \u001b[0msol\u001b[0m \u001b[0;34m=\u001b[0m \u001b[0mcvxopt\u001b[0m\u001b[0;34m.\u001b[0m\u001b[0msolvers\u001b[0m\u001b[0;34m.\u001b[0m\u001b[0mqp\u001b[0m\u001b[0;34m(\u001b[0m\u001b[0mP\u001b[0m\u001b[0;34m,\u001b[0m\u001b[0mq\u001b[0m\u001b[0;34m,\u001b[0m\u001b[0mG\u001b[0m\u001b[0;34m=\u001b[0m\u001b[0mG\u001b[0m\u001b[0;34m,\u001b[0m\u001b[0mh\u001b[0m\u001b[0;34m=\u001b[0m\u001b[0mh\u001b[0m\u001b[0;34m,\u001b[0m\u001b[0mA\u001b[0m\u001b[0;34m=\u001b[0m\u001b[0mA\u001b[0m\u001b[0;34m,\u001b[0m\u001b[0mb\u001b[0m\u001b[0;34m=\u001b[0m\u001b[0mb\u001b[0m\u001b[0;34m)\u001b[0m\u001b[0;34m\u001b[0m\u001b[0;34m\u001b[0m\u001b[0m\n\u001b[0m\u001b[1;32m     11\u001b[0m \u001b[0mprint\u001b[0m\u001b[0;34m(\u001b[0m\u001b[0msol\u001b[0m\u001b[0;34m)\u001b[0m\u001b[0;34m\u001b[0m\u001b[0;34m\u001b[0m\u001b[0m\n\u001b[1;32m     12\u001b[0m \u001b[0mprint\u001b[0m\u001b[0;34m(\u001b[0m\u001b[0msol\u001b[0m\u001b[0;34m[\u001b[0m\u001b[0;34m'x'\u001b[0m\u001b[0;34m]\u001b[0m\u001b[0;34m)\u001b[0m\u001b[0;34m\u001b[0m\u001b[0;34m\u001b[0m\u001b[0m\n",
      "\u001b[0;32m~/opt/anaconda3/lib/python3.9/site-packages/cvxopt/coneprog.py\u001b[0m in \u001b[0;36mqp\u001b[0;34m(P, q, G, h, A, b, solver, kktsolver, initvals, **kwargs)\u001b[0m\n\u001b[1;32m   4483\u001b[0m             'residual as dual infeasibility certificate': dinfres}\n\u001b[1;32m   4484\u001b[0m \u001b[0;34m\u001b[0m\u001b[0m\n\u001b[0;32m-> 4485\u001b[0;31m     \u001b[0;32mreturn\u001b[0m \u001b[0mconeqp\u001b[0m\u001b[0;34m(\u001b[0m\u001b[0mP\u001b[0m\u001b[0;34m,\u001b[0m \u001b[0mq\u001b[0m\u001b[0;34m,\u001b[0m \u001b[0mG\u001b[0m\u001b[0;34m,\u001b[0m \u001b[0mh\u001b[0m\u001b[0;34m,\u001b[0m \u001b[0;32mNone\u001b[0m\u001b[0;34m,\u001b[0m \u001b[0mA\u001b[0m\u001b[0;34m,\u001b[0m  \u001b[0mb\u001b[0m\u001b[0;34m,\u001b[0m \u001b[0minitvals\u001b[0m\u001b[0;34m,\u001b[0m \u001b[0mkktsolver\u001b[0m \u001b[0;34m=\u001b[0m \u001b[0mkktsolver\u001b[0m\u001b[0;34m,\u001b[0m \u001b[0moptions\u001b[0m \u001b[0;34m=\u001b[0m \u001b[0moptions\u001b[0m\u001b[0;34m)\u001b[0m\u001b[0;34m\u001b[0m\u001b[0;34m\u001b[0m\u001b[0m\n\u001b[0m",
      "\u001b[0;32m~/opt/anaconda3/lib/python3.9/site-packages/cvxopt/coneprog.py\u001b[0m in \u001b[0;36mconeqp\u001b[0;34m(P, q, G, h, dims, A, b, initvals, kktsolver, xnewcopy, xdot, xaxpy, xscal, ynewcopy, ydot, yaxpy, yscal, **kwargs)\u001b[0m\n\u001b[1;32m   2065\u001b[0m         \u001b[0;32mtry\u001b[0m\u001b[0;34m:\u001b[0m \u001b[0mf\u001b[0m \u001b[0;34m=\u001b[0m \u001b[0mkktsolver\u001b[0m\u001b[0;34m(\u001b[0m\u001b[0mW\u001b[0m\u001b[0;34m)\u001b[0m\u001b[0;34m\u001b[0m\u001b[0;34m\u001b[0m\u001b[0m\n\u001b[1;32m   2066\u001b[0m         \u001b[0;32mexcept\u001b[0m \u001b[0mArithmeticError\u001b[0m\u001b[0;34m:\u001b[0m\u001b[0;34m\u001b[0m\u001b[0;34m\u001b[0m\u001b[0m\n\u001b[0;32m-> 2067\u001b[0;31m             \u001b[0;32mraise\u001b[0m \u001b[0mValueError\u001b[0m\u001b[0;34m(\u001b[0m\u001b[0;34m\"Rank(A) < p or Rank([P; A; G]) < n\"\u001b[0m\u001b[0;34m)\u001b[0m\u001b[0;34m\u001b[0m\u001b[0;34m\u001b[0m\u001b[0m\n\u001b[0m\u001b[1;32m   2068\u001b[0m \u001b[0;34m\u001b[0m\u001b[0m\n\u001b[1;32m   2069\u001b[0m \u001b[0;34m\u001b[0m\u001b[0m\n",
      "\u001b[0;31mValueError\u001b[0m: Rank(A) < p or Rank([P; A; G]) < n"
     ]
    }
   ],
   "source": [
    "b = matrix(np.array([1,1,1,1,1,1,1,1,1,1,5,5]).astype('float'))\n",
    "a = np.zeros((12,20))\n",
    "np.put(a, [0, 1,22,23,44,45,66,67,88,89,110,111,132,133,154,155,176,177,198,199], 1)\n",
    "a[10:11:1,::2]=1\n",
    "a[11:12:1,1::2]=1\n",
    "A = matrix(a)\n",
    "\n",
    "sol = cvxopt.solvers.qp(P,q,G=G,h=h,A=A,b=b)\n",
    "print(sol)\n",
    "print(sol['x'])\n",
    "print(sol['primal objective'])"
   ]
  },
  {
   "cell_type": "code",
   "execution_count": 8,
   "metadata": {},
   "outputs": [
    {
     "data": {
      "text/plain": [
       "11"
      ]
     },
     "execution_count": 8,
     "metadata": {},
     "output_type": "execute_result"
    }
   ],
   "source": [
    "#Aのランクがない\n",
    "np.linalg.matrix_rank(A)"
   ]
  },
  {
   "cell_type": "code",
   "execution_count": 10,
   "metadata": {},
   "outputs": [
    {
     "name": "stdout",
     "output_type": "stream",
     "text": [
      "[ 1.00e+00  1.00e+00  0.00e+00  0.00e+00  0.00e+00  0.00e+00  0.00e+00 ... ]\n",
      "[ 0.00e+00  0.00e+00  1.00e+00  1.00e+00  0.00e+00  0.00e+00  0.00e+00 ... ]\n",
      "[ 0.00e+00  0.00e+00  0.00e+00  0.00e+00  1.00e+00  1.00e+00  0.00e+00 ... ]\n",
      "[ 0.00e+00  0.00e+00  0.00e+00  0.00e+00  0.00e+00  0.00e+00  1.00e+00 ... ]\n",
      "[ 0.00e+00  0.00e+00  0.00e+00  0.00e+00  0.00e+00  0.00e+00  0.00e+00 ... ]\n",
      "[ 0.00e+00  0.00e+00  0.00e+00  0.00e+00  0.00e+00  0.00e+00  0.00e+00 ... ]\n",
      "[ 0.00e+00  0.00e+00  0.00e+00  0.00e+00  0.00e+00  0.00e+00  0.00e+00 ... ]\n",
      "[ 0.00e+00  0.00e+00  0.00e+00  0.00e+00  0.00e+00  0.00e+00  0.00e+00 ... ]\n",
      "[ 0.00e+00  0.00e+00  0.00e+00  0.00e+00  0.00e+00  0.00e+00  0.00e+00 ... ]\n",
      "[ 0.00e+00  0.00e+00  0.00e+00  0.00e+00  0.00e+00  0.00e+00  0.00e+00 ... ]\n",
      "[ 1.00e+00  0.00e+00  1.00e+00  0.00e+00  1.00e+00  0.00e+00  1.00e+00 ... ]\n",
      "[ 0.00e+00  1.00e+00  0.00e+00  1.00e+00  0.00e+00  1.00e+00  0.00e+00 ... ]\n",
      "\n"
     ]
    }
   ],
   "source": [
    "print(A)"
   ]
  },
  {
   "cell_type": "code",
   "execution_count": 45,
   "metadata": {},
   "outputs": [
    {
     "name": "stdout",
     "output_type": "stream",
     "text": [
      "[[8.71829410e-01]\n",
      " [1.28170590e-01]\n",
      " [8.69000775e-01]\n",
      " [1.30999225e-01]\n",
      " [6.69562970e-01]\n",
      " [3.30437030e-01]\n",
      " [8.55440805e-01]\n",
      " [1.44559195e-01]\n",
      " [1.80685139e-06]\n",
      " [9.99998193e-01]\n",
      " [6.66413497e-01]\n",
      " [3.33586503e-01]\n",
      " [7.32805528e-02]\n",
      " [9.26719447e-01]\n",
      " [2.19563060e-01]\n",
      " [7.80436940e-01]\n",
      " [5.23693055e-06]\n",
      " [9.99994763e-01]\n",
      " [7.74901887e-01]\n",
      " [2.25098113e-01]]\n",
      "[1.]\n",
      "[1.]\n",
      "[1.]\n",
      "[1.]\n",
      "[1.]\n",
      "[1.]\n",
      "[1.]\n",
      "[1.]\n",
      "[1.]\n",
      "[1.]\n"
     ]
    }
   ],
   "source": [
    "u = np.array(sol['x'])\n",
    "print(u)\n",
    "for i in range(0,20,2):\n",
    "    print(u[i]+u[i+1])"
   ]
  },
  {
   "cell_type": "markdown",
   "metadata": {},
   "source": [
    "vの更新"
   ]
  },
  {
   "cell_type": "code",
   "execution_count": 69,
   "metadata": {},
   "outputs": [
    {
     "ename": "IndexError",
     "evalue": "index 2 is out of bounds for axis 0 with size 2",
     "output_type": "error",
     "traceback": [
      "\u001b[0;31m---------------------------------------------------------------------------\u001b[0m",
      "\u001b[0;31mIndexError\u001b[0m                                Traceback (most recent call last)",
      "\u001b[0;32m/var/folders/c4/bqdz_03n3w1db3krhv3c2ztw0000gn/T/ipykernel_740/1637280688.py\u001b[0m in \u001b[0;36m<module>\u001b[0;34m\u001b[0m\n\u001b[1;32m      5\u001b[0m \u001b[0mv1_denominator\u001b[0m\u001b[0;34m=\u001b[0m\u001b[0;36m0\u001b[0m\u001b[0;34m\u001b[0m\u001b[0;34m\u001b[0m\u001b[0m\n\u001b[1;32m      6\u001b[0m \u001b[0;32mfor\u001b[0m \u001b[0mi\u001b[0m \u001b[0;32min\u001b[0m \u001b[0mrange\u001b[0m\u001b[0;34m(\u001b[0m\u001b[0;36m0\u001b[0m\u001b[0;34m,\u001b[0m\u001b[0;36m20\u001b[0m\u001b[0;34m,\u001b[0m\u001b[0;36m2\u001b[0m\u001b[0;34m)\u001b[0m\u001b[0;34m:\u001b[0m\u001b[0;34m\u001b[0m\u001b[0;34m\u001b[0m\u001b[0m\n\u001b[0;32m----> 7\u001b[0;31m     \u001b[0mv0_denominator\u001b[0m \u001b[0;34m+=\u001b[0m \u001b[0mu2\u001b[0m\u001b[0;34m[\u001b[0m\u001b[0mi\u001b[0m\u001b[0;34m]\u001b[0m\u001b[0;34m\u001b[0m\u001b[0;34m\u001b[0m\u001b[0m\n\u001b[0m\u001b[1;32m      8\u001b[0m \u001b[0;32mfor\u001b[0m \u001b[0mi\u001b[0m \u001b[0;32min\u001b[0m \u001b[0mrange\u001b[0m\u001b[0;34m(\u001b[0m\u001b[0;36m1\u001b[0m\u001b[0;34m,\u001b[0m\u001b[0;36m20\u001b[0m\u001b[0;34m,\u001b[0m\u001b[0;36m2\u001b[0m\u001b[0;34m)\u001b[0m\u001b[0;34m:\u001b[0m\u001b[0;34m\u001b[0m\u001b[0;34m\u001b[0m\u001b[0m\n\u001b[1;32m      9\u001b[0m     \u001b[0mv1_denominator\u001b[0m \u001b[0;34m+=\u001b[0m \u001b[0mu2\u001b[0m\u001b[0;34m[\u001b[0m\u001b[0mi\u001b[0m\u001b[0;34m]\u001b[0m\u001b[0;34m\u001b[0m\u001b[0;34m\u001b[0m\u001b[0m\n",
      "\u001b[0;31mIndexError\u001b[0m: index 2 is out of bounds for axis 0 with size 2"
     ]
    }
   ],
   "source": [
    "u2=np.power(u,2)\n",
    "u2_list = u2.tolist()\n",
    "#分母計算\n",
    "v0_denominator=0\n",
    "v1_denominator=0\n",
    "for i in range(0,20,2):\n",
    "    v0_denominator += u2[i]\n",
    "for i in range(1,20,2):\n",
    "    v1_denominator += u2[i]\n",
    "#print(v0_denominator,v1_denominator)\n",
    "#分子計算\n",
    "v0_numerator = 0\n",
    "v1_numerator = 0\n",
    "for i in range(10):\n",
    "    v0_numerator += u2_list[i*2]*X[i]\n",
    "    v1_numerator += u2_list[1+i*2]*X[i]\n",
    "#print(v0_numerator,v1_numerator)\n",
    "v=[0 for i in range(2)]\n",
    "v[0] = v0_numerator / v0_denominator\n",
    "v[1] = v1_numerator / v1_denominator\n",
    "print(\"クラスター中心はcluster1:{},cluster2:{}\".format(v[0],v[1]))"
   ]
  },
  {
   "cell_type": "code",
   "execution_count": 44,
   "metadata": {},
   "outputs": [],
   "source": [
    "cluster = [0 for i in range(10)]\n",
    "u_list = u.tolist()\n",
    "for i in range (10):\n",
    "    if u[i*2]>u[1+i*2]:\n",
    "        cluster[i] = 0\n",
    "    else:\n",
    "        cluster[i] = 1\n",
    "np_cluster =np.array(cluster)"
   ]
  },
  {
   "cell_type": "code",
   "execution_count": 46,
   "metadata": {},
   "outputs": [
    {
     "data": {
      "text/plain": [
       "[1, 1, 1, 1, 0, 1, 0, 0, 0, 1]"
      ]
     },
     "execution_count": 46,
     "metadata": {},
     "output_type": "execute_result"
    }
   ],
   "source": [
    "cluster"
   ]
  },
  {
   "cell_type": "code",
   "execution_count": 47,
   "metadata": {},
   "outputs": [],
   "source": [
    "a = np.zeros((11,20))"
   ]
  },
  {
   "cell_type": "code",
   "execution_count": 48,
   "metadata": {},
   "outputs": [
    {
     "data": {
      "text/plain": [
       "array([5.])"
      ]
     },
     "execution_count": 48,
     "metadata": {},
     "output_type": "execute_result"
    }
   ],
   "source": [
    "v0000"
   ]
  },
  {
   "cell_type": "code",
   "execution_count": 49,
   "metadata": {},
   "outputs": [
    {
     "data": {
      "text/plain": [
       "array([5.])"
      ]
     },
     "execution_count": 49,
     "metadata": {},
     "output_type": "execute_result"
    }
   ],
   "source": [
    "v1111"
   ]
  },
  {
   "cell_type": "code",
   "execution_count": 50,
   "metadata": {},
   "outputs": [
    {
     "data": {
      "text/plain": [
       "<20x20 matrix, tc='d'>"
      ]
     },
     "execution_count": 50,
     "metadata": {},
     "output_type": "execute_result"
    }
   ],
   "source": [
    "P"
   ]
  },
  {
   "cell_type": "code",
   "execution_count": 51,
   "metadata": {},
   "outputs": [
    {
     "data": {
      "text/plain": [
       "<20x1 matrix, tc='d'>"
      ]
     },
     "execution_count": 51,
     "metadata": {},
     "output_type": "execute_result"
    }
   ],
   "source": [
    "q"
   ]
  },
  {
   "cell_type": "code",
   "execution_count": 52,
   "metadata": {},
   "outputs": [
    {
     "data": {
      "text/plain": [
       "<20x20 matrix, tc='d'>"
      ]
     },
     "execution_count": 52,
     "metadata": {},
     "output_type": "execute_result"
    }
   ],
   "source": [
    "G"
   ]
  },
  {
   "cell_type": "code",
   "execution_count": 53,
   "metadata": {},
   "outputs": [
    {
     "data": {
      "text/plain": [
       "<20x1 matrix, tc='d'>"
      ]
     },
     "execution_count": 53,
     "metadata": {},
     "output_type": "execute_result"
    }
   ],
   "source": [
    "h"
   ]
  },
  {
   "cell_type": "code",
   "execution_count": 54,
   "metadata": {},
   "outputs": [
    {
     "data": {
      "text/plain": [
       "<12x20 matrix, tc='d'>"
      ]
     },
     "execution_count": 54,
     "metadata": {},
     "output_type": "execute_result"
    }
   ],
   "source": [
    "A"
   ]
  },
  {
   "cell_type": "code",
   "execution_count": 55,
   "metadata": {},
   "outputs": [
    {
     "data": {
      "text/plain": [
       "<12x1 matrix, tc='d'>"
      ]
     },
     "execution_count": 55,
     "metadata": {},
     "output_type": "execute_result"
    }
   ],
   "source": [
    "b"
   ]
  },
  {
   "cell_type": "code",
   "execution_count": 56,
   "metadata": {},
   "outputs": [
    {
     "name": "stdout",
     "output_type": "stream",
     "text": [
      "     pcost       dcost       gap    pres   dres\n",
      " 0:  1.8889e+00  7.7778e-01  1e+00  2e-16  2e+00\n",
      " 1:  1.8769e+00  1.8320e+00  4e-02  1e-16  6e-02\n",
      " 2:  1.8750e+00  1.8739e+00  1e-03  1e-16  5e-04\n",
      " 3:  1.8750e+00  1.8750e+00  1e-05  0e+00  5e-06\n",
      " 4:  1.8750e+00  1.8750e+00  1e-07  2e-16  5e-08\n",
      "Optimal solution found.\n",
      "{'x': <2x1 matrix, tc='d'>, 'y': <1x1 matrix, tc='d'>, 's': <2x1 matrix, tc='d'>, 'z': <2x1 matrix, tc='d'>, 'status': 'optimal', 'gap': 1.0527028380515324e-07, 'relative gap': 5.6144154514913756e-08, 'primal objective': 1.8750000000000182, 'dual objective': 1.8749998947297344, 'primal infeasibility': 2.2887833992611187e-16, 'dual infeasibility': 5.314759333739872e-08, 'primal slack': 0.2500000952702476, 'dual slack': 1.0000000000000035e-08, 'iterations': 4}\n",
      "[ 2.50e-01]\n",
      "[ 7.50e-01]\n",
      "\n",
      "1.8750000000000182\n"
     ]
    }
   ],
   "source": [
    "# 2次最適化問題\n",
    "#\n",
    "P = 2*matrix([ [2, .5], [.5, 1] ])\n",
    "q = matrix([1.0, 1.0])\n",
    "G = matrix([[-1.0,0.0],[0.0,-1.0]])\n",
    "h = matrix([0.0,0.0])\n",
    "A = matrix([1.0, 1.0], (1,2))\n",
    "b = matrix(1.0)\n",
    "sol = cvxopt.solvers.qp(P,q,G,h,A,b)\n",
    "print(sol)\n",
    "print(sol['x'])\n",
    "print(sol['primal objective'])"
   ]
  },
  {
   "cell_type": "code",
   "execution_count": 57,
   "metadata": {},
   "outputs": [],
   "source": [
    "m = np.array([[1,1,0,0,0,0,0,0,0,0,0,0,0,0,0,0,0,0,0,0],[0,0,1,1,0,0,0,0,0,0,0,0,0,0,0,0,0,0,0,0],\n",
    "              [0,0,0,0,1,1,0,0,0,0,0,0,0,0,0,0,0,0,0,0],[0,0,0,0,0,0,1,1,0,0,0,0,0,0,0,0,0,0,0,0],\n",
    "              [0,0,0,0,0,0,0,0,1,1,0,0,0,0,0,0,0,0,0,0],[0,0,0,0,0,0,0,0,0,0,1,1,0,0,0,0,0,0,0,0],\n",
    "              [0,0,0,0,0,0,0,0,0,0,0,0,1,1,0,0,0,0,0,0],[0,0,0,0,0,0,0,0,0,0,0,0,0,0,1,1,0,0,0,0],\n",
    "              [0,0,0,0,0,0,0,0,0,0,0,0,0,0,0,0,1,1,0,0],[0,0,0,0,0,0,0,0,0,0,0,0,0,0,0,0,0,0,1,1],\n",
    "              [1,0,1,0,1,0,1,0,1,0,1,0,1,0,1,0,1,0,1,0],[0,1,0,1,0,1,0,1,0,1,0,1,0,1,0,1,0,1,0,1]]).astype('float')"
   ]
  },
  {
   "cell_type": "code",
   "execution_count": 58,
   "metadata": {},
   "outputs": [
    {
     "name": "stdout",
     "output_type": "stream",
     "text": [
      "True\n"
     ]
    }
   ],
   "source": [
    "print(np.all(a == m))"
   ]
  },
  {
   "cell_type": "code",
   "execution_count": 59,
   "metadata": {},
   "outputs": [
    {
     "name": "stdout",
     "output_type": "stream",
     "text": [
      "a\n",
      "a\n"
     ]
    }
   ],
   "source": [
    "print(\"a\\na\")"
   ]
  },
  {
   "cell_type": "code",
   "execution_count": null,
   "metadata": {},
   "outputs": [],
   "source": []
  }
 ],
 "metadata": {
  "kernelspec": {
   "display_name": "Python 3 (ipykernel)",
   "language": "python",
   "name": "python3"
  },
  "language_info": {
   "codemirror_mode": {
    "name": "ipython",
    "version": 3
   },
   "file_extension": ".py",
   "mimetype": "text/x-python",
   "name": "python",
   "nbconvert_exporter": "python",
   "pygments_lexer": "ipython3",
   "version": "3.9.7"
  }
 },
 "nbformat": 4,
 "nbformat_minor": 4
}
