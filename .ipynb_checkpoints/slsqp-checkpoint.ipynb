{
 "cells": [
  {
   "cell_type": "markdown",
   "metadata": {},
   "source": [
    "逐次二次計画法を使って解いた"
   ]
  },
  {
   "cell_type": "code",
   "execution_count": 117,
   "metadata": {},
   "outputs": [],
   "source": [
    "import pandas as pd\n",
    "import numpy as np\n",
    "import matplotlib.pyplot as plt\n",
    "#sysはコマンドライン引数\n",
    "import sys\n",
    "import csv\n",
    "np.seterr(divide='ignore', invalid='ignore')\n",
    "#csvファイルの読み込み、一行目はヘッダーじゃない\n",
    "df = pd.read_csv(\"output.csv\",header=None)\n",
    "#クラスタ数宣言\n",
    "c=2\n",
    "#Kはクラスタサイズ\n",
    "K=5\n",
    "#dfをnumpyで扱えるnp.ndarray変換\n",
    "X = df.values\n",
    "#配列の行数、列数の格納\n",
    "\n",
    "X_size,dimension = X.shape\n",
    "\n",
    "centroids = X[np.random.choice(X_size,c)]\n",
    "distances=np.zeros((X_size,c))"
   ]
  },
  {
   "cell_type": "code",
   "execution_count": 118,
   "metadata": {},
   "outputs": [
    {
     "name": "stdout",
     "output_type": "stream",
     "text": [
      "[0.03742358555600002, 1e-10, 0.041559295556000006, 0.0003201711120000014, 0.08647597555599999, 0.034870411112, 0.04570000000000001, 0.0007403055560000017, 0.16898525111200008, 0.04769473555600001, 0.088578324445, 0.038225703889, 0.28432386497800005, 0.115661594978, 0.09770000000000001, 0.014240305555999989, 0.14312894444500004, 0.034195399444999997, 1e-10, 0.03742358555600002]\n"
     ]
    }
   ],
   "source": [
    "#pにはd11,d12,d13,d14,d21,d22,,,dn1,,dncの順でリスト作る\n",
    "p=[]\n",
    "for i in range(X_size):\n",
    "    for j in range(c):\n",
    "        p.append(np.sum((X[i]-centroids[j])**2))\n",
    "p = [0.0000000001 if i == 0 else i for i in p]\n",
    "print(p)"
   ]
  },
  {
   "cell_type": "code",
   "execution_count": 119,
   "metadata": {},
   "outputs": [
    {
     "data": {
      "text/plain": [
       "array([[0.310833, 0.479167],\n",
       "       [0.503333, 0.498333]])"
      ]
     },
     "execution_count": 119,
     "metadata": {},
     "output_type": "execute_result"
    }
   ],
   "source": [
    "centroids"
   ]
  },
  {
   "cell_type": "code",
   "execution_count": 120,
   "metadata": {},
   "outputs": [],
   "source": [
    "%matplotlib inline\n",
    "import seaborn as sns\n",
    "sns.set(context=\"paper\" , style =\"whitegrid\",rc={\"figure.facecolor\":\"white\"})\n",
    "\n",
    "from scipy.optimize import minimize\n",
    "import scipy as sp\n",
    "import matplotlib.patches as mpatches\n",
    "from mpl_toolkits.mplot3d import Axes3D\n",
    "from matplotlib import cm"
   ]
  },
  {
   "cell_type": "code",
   "execution_count": 121,
   "metadata": {},
   "outputs": [],
   "source": [
    "#逐次二次計画法の関数定義（scipy optimize）\n",
    "def f(x,args ):\n",
    "    v = args[0]*(x[0]**3)+args[1]*(x[1]**3)+args[2]*(x[2]**3)+args[3]*(x[3]**3)+args[4]*(x[4]**3)+\\\n",
    "        args[5]*(x[5]**3)+args[6]*(x[6]**3)+args[7]*(x[7]**3)+args[8]*(x[8]**3)+args[9]*(x[9]**3)+\\\n",
    "        args[10]*(x[10]**3)+args[11]*(x[11]**3)+args[12]*(x[12]**3)+args[13]*(x[13]**3)+args[14]*(x[14]**3)+\\\n",
    "        args[15]*(x[15]**3)+args[16]*(x[16]**3)+args[17]*(x[17]**3)+args[18]*(x[18]**3)+args[19]*(x[19]**3)\n",
    "    return(v)\n",
    "\n",
    "def grad(x,args):\n",
    "    delx0  = 3*args[0]*x[0]**2\n",
    "    delx1  = 3*args[1]*x[1]**2\n",
    "    delx2  = 3*args[2]*x[2]**2\n",
    "    delx3  = 3*args[3]*x[3]**2\n",
    "    delx4  = 3*args[4]*x[4]**2\n",
    "    delx5  = 3*args[5]*x[5]**2\n",
    "    delx6  = 3*args[6]*x[6]**2\n",
    "    delx7  = 3*args[7]*x[7]**2\n",
    "    delx8  = 3*args[8]*x[8]**2\n",
    "    delx9  = 3*args[9]*x[9]**2\n",
    "    delx10 = 3*args[10]*x[10]**2\n",
    "    delx11 = 3*args[11]*x[11]**2\n",
    "    delx12 = 3*args[12]*x[12]**2\n",
    "    delx13 = 3*args[13]*x[13]**2\n",
    "    delx14 = 3*args[14]*x[14]**2\n",
    "    delx15 = 3*args[15]*x[15]**2\n",
    "    delx16 = 3*args[16]*x[16]**2\n",
    "    delx17 = 3*args[17]*x[17]**2\n",
    "    delx18 = 3*args[18]*x[18]**2\n",
    "    delx19 = 3*args[19]*x[19]**2\n",
    "    g = np.array([delx0,delx1,delx2,delx3,delx4,delx5,delx6,delx7,delx8,\\\n",
    "                 delx9,delx10,delx11,delx12,delx13,delx14,delx15,delx16,delx17,\\\n",
    "                 delx18,delx19])\n",
    "    return(g)\n",
    "\n",
    "def hess(x,args):\n",
    "    delxx0 = 6*args[0]*x[0]\n",
    "    delxx1 = 6*args[1]*x[1]\n",
    "    delxx2 = 6*args[2]*x[2]\n",
    "    delxx3 = 6*args[3]*x[3]\n",
    "    delxx4 = 6*args[4]*x[4]\n",
    "    delxx5 = 6*args[5]*x[5]\n",
    "    delxx6 = 6*args[6]*x[6]\n",
    "    delxx7 = 6*args[7]*x[7]\n",
    "    delxx8 = 6*args[8]*x[8]\n",
    "    delxx9 = 6*args[9]*x[9]\n",
    "    delxx10 = 6*args[10]*x[10]\n",
    "    delxx11 = 6*args[11]*x[11]\n",
    "    delxx12 = 6*args[12]*x[12]\n",
    "    delxx13 = 6*args[13]*x[13]\n",
    "    delxx14 = 6*args[14]*x[14]\n",
    "    delxx15 = 6*args[15]*x[15]\n",
    "    delxx16 = 6*args[16]*x[16]\n",
    "    delxx17 = 6*args[17]*x[17]\n",
    "    delxx18 = 6*args[18]*x[18]\n",
    "    delxx19 = 6*args[19]*x[19]\n",
    "    h_diag = np.array([delxx0,delxx1,delxx2,delxx3,delxx4,delxx5,delxx6,delxx7,delxx8,\\\n",
    "                 delxx9,delxx10,delxx11,delxx12,delxx13,delxx14,delxx15,delxx16,delxx17,\\\n",
    "                 delxx18,delxx19])\n",
    "    \n",
    "    h = np.diag(h_diag)\n",
    "    return(h)\n",
    "\n",
    "args = p#argsにクラスタ中心とデータ間の距離d_ki\n",
    "x0 = [0.5 for i in range(20)]"
   ]
  },
  {
   "cell_type": "code",
   "execution_count": 122,
   "metadata": {},
   "outputs": [
    {
     "ename": "IndexError",
     "evalue": "list index out of range",
     "output_type": "error",
     "traceback": [
      "\u001b[0;31m---------------------------------------------------------------------------\u001b[0m",
      "\u001b[0;31mIndexError\u001b[0m                                Traceback (most recent call last)",
      "\u001b[0;32m<ipython-input-122-60e3e591f3e7>\u001b[0m in \u001b[0;36m<module>\u001b[0;34m\u001b[0m\n\u001b[1;32m      2\u001b[0m \u001b[0my\u001b[0m \u001b[0;34m=\u001b[0m \u001b[0mnp\u001b[0m\u001b[0;34m.\u001b[0m\u001b[0mlinspace\u001b[0m\u001b[0;34m(\u001b[0m\u001b[0;34m-\u001b[0m\u001b[0;36m2\u001b[0m\u001b[0;34m,\u001b[0m\u001b[0;36m2\u001b[0m\u001b[0;34m,\u001b[0m\u001b[0;36m100\u001b[0m\u001b[0;34m)\u001b[0m\u001b[0;34m\u001b[0m\u001b[0;34m\u001b[0m\u001b[0m\n\u001b[1;32m      3\u001b[0m \u001b[0mxx\u001b[0m\u001b[0;34m,\u001b[0m\u001b[0myy\u001b[0m \u001b[0;34m=\u001b[0m \u001b[0mnp\u001b[0m\u001b[0;34m.\u001b[0m\u001b[0mmeshgrid\u001b[0m\u001b[0;34m(\u001b[0m\u001b[0mx\u001b[0m\u001b[0;34m,\u001b[0m\u001b[0my\u001b[0m\u001b[0;34m)\u001b[0m\u001b[0;34m\u001b[0m\u001b[0;34m\u001b[0m\u001b[0m\n\u001b[0;32m----> 4\u001b[0;31m \u001b[0mzz\u001b[0m \u001b[0;34m=\u001b[0m \u001b[0mf\u001b[0m\u001b[0;34m(\u001b[0m\u001b[0;34m[\u001b[0m\u001b[0mxx\u001b[0m\u001b[0;34m,\u001b[0m\u001b[0myy\u001b[0m\u001b[0;34m]\u001b[0m\u001b[0;34m,\u001b[0m\u001b[0margs\u001b[0m\u001b[0;34m)\u001b[0m\u001b[0;34m\u001b[0m\u001b[0;34m\u001b[0m\u001b[0m\n\u001b[0m\u001b[1;32m      5\u001b[0m \u001b[0mfig\u001b[0m \u001b[0;34m=\u001b[0m \u001b[0mplt\u001b[0m\u001b[0;34m.\u001b[0m\u001b[0mfigure\u001b[0m\u001b[0;34m(\u001b[0m\u001b[0mfigsize\u001b[0m\u001b[0;34m=\u001b[0m\u001b[0;34m(\u001b[0m\u001b[0;36m6\u001b[0m\u001b[0;34m,\u001b[0m\u001b[0;36m4\u001b[0m\u001b[0;34m)\u001b[0m\u001b[0;34m,\u001b[0m\u001b[0mdpi\u001b[0m\u001b[0;34m=\u001b[0m\u001b[0;36m150\u001b[0m\u001b[0;34m)\u001b[0m\u001b[0;34m\u001b[0m\u001b[0;34m\u001b[0m\u001b[0m\n\u001b[1;32m      6\u001b[0m \u001b[0max\u001b[0m \u001b[0;34m=\u001b[0m \u001b[0mfig\u001b[0m\u001b[0;34m.\u001b[0m\u001b[0madd_subplot\u001b[0m\u001b[0;34m(\u001b[0m\u001b[0;36m111\u001b[0m\u001b[0;34m,\u001b[0m \u001b[0mprojection\u001b[0m\u001b[0;34m=\u001b[0m\u001b[0;34m'3d'\u001b[0m\u001b[0;34m)\u001b[0m\u001b[0;34m\u001b[0m\u001b[0;34m\u001b[0m\u001b[0m\n",
      "\u001b[0;32m<ipython-input-121-53d41f963aa4>\u001b[0m in \u001b[0;36mf\u001b[0;34m(x, args)\u001b[0m\n\u001b[1;32m      1\u001b[0m \u001b[0;32mdef\u001b[0m \u001b[0mf\u001b[0m\u001b[0;34m(\u001b[0m\u001b[0mx\u001b[0m\u001b[0;34m,\u001b[0m\u001b[0margs\u001b[0m \u001b[0;34m)\u001b[0m\u001b[0;34m:\u001b[0m\u001b[0;34m\u001b[0m\u001b[0;34m\u001b[0m\u001b[0m\n\u001b[0;32m----> 2\u001b[0;31m     \u001b[0mv\u001b[0m \u001b[0;34m=\u001b[0m \u001b[0margs\u001b[0m\u001b[0;34m[\u001b[0m\u001b[0;36m0\u001b[0m\u001b[0;34m]\u001b[0m\u001b[0;34m*\u001b[0m\u001b[0;34m(\u001b[0m\u001b[0mx\u001b[0m\u001b[0;34m[\u001b[0m\u001b[0;36m0\u001b[0m\u001b[0;34m]\u001b[0m\u001b[0;34m**\u001b[0m\u001b[0;36m3\u001b[0m\u001b[0;34m)\u001b[0m\u001b[0;34m+\u001b[0m\u001b[0margs\u001b[0m\u001b[0;34m[\u001b[0m\u001b[0;36m1\u001b[0m\u001b[0;34m]\u001b[0m\u001b[0;34m*\u001b[0m\u001b[0;34m(\u001b[0m\u001b[0mx\u001b[0m\u001b[0;34m[\u001b[0m\u001b[0;36m1\u001b[0m\u001b[0;34m]\u001b[0m\u001b[0;34m**\u001b[0m\u001b[0;36m3\u001b[0m\u001b[0;34m)\u001b[0m\u001b[0;34m+\u001b[0m\u001b[0margs\u001b[0m\u001b[0;34m[\u001b[0m\u001b[0;36m2\u001b[0m\u001b[0;34m]\u001b[0m\u001b[0;34m*\u001b[0m\u001b[0;34m(\u001b[0m\u001b[0mx\u001b[0m\u001b[0;34m[\u001b[0m\u001b[0;36m2\u001b[0m\u001b[0;34m]\u001b[0m\u001b[0;34m**\u001b[0m\u001b[0;36m3\u001b[0m\u001b[0;34m)\u001b[0m\u001b[0;34m+\u001b[0m\u001b[0margs\u001b[0m\u001b[0;34m[\u001b[0m\u001b[0;36m3\u001b[0m\u001b[0;34m]\u001b[0m\u001b[0;34m*\u001b[0m\u001b[0;34m(\u001b[0m\u001b[0mx\u001b[0m\u001b[0;34m[\u001b[0m\u001b[0;36m3\u001b[0m\u001b[0;34m]\u001b[0m\u001b[0;34m**\u001b[0m\u001b[0;36m3\u001b[0m\u001b[0;34m)\u001b[0m\u001b[0;34m+\u001b[0m\u001b[0margs\u001b[0m\u001b[0;34m[\u001b[0m\u001b[0;36m4\u001b[0m\u001b[0;34m]\u001b[0m\u001b[0;34m*\u001b[0m\u001b[0;34m(\u001b[0m\u001b[0mx\u001b[0m\u001b[0;34m[\u001b[0m\u001b[0;36m4\u001b[0m\u001b[0;34m]\u001b[0m\u001b[0;34m**\u001b[0m\u001b[0;36m3\u001b[0m\u001b[0;34m)\u001b[0m\u001b[0;34m+\u001b[0m\u001b[0;31m\\\u001b[0m\u001b[0;34m\u001b[0m\u001b[0;34m\u001b[0m\u001b[0m\n\u001b[0m\u001b[1;32m      3\u001b[0m         \u001b[0margs\u001b[0m\u001b[0;34m[\u001b[0m\u001b[0;36m5\u001b[0m\u001b[0;34m]\u001b[0m\u001b[0;34m*\u001b[0m\u001b[0;34m(\u001b[0m\u001b[0mx\u001b[0m\u001b[0;34m[\u001b[0m\u001b[0;36m5\u001b[0m\u001b[0;34m]\u001b[0m\u001b[0;34m**\u001b[0m\u001b[0;36m3\u001b[0m\u001b[0;34m)\u001b[0m\u001b[0;34m+\u001b[0m\u001b[0margs\u001b[0m\u001b[0;34m[\u001b[0m\u001b[0;36m6\u001b[0m\u001b[0;34m]\u001b[0m\u001b[0;34m*\u001b[0m\u001b[0;34m(\u001b[0m\u001b[0mx\u001b[0m\u001b[0;34m[\u001b[0m\u001b[0;36m6\u001b[0m\u001b[0;34m]\u001b[0m\u001b[0;34m**\u001b[0m\u001b[0;36m3\u001b[0m\u001b[0;34m)\u001b[0m\u001b[0;34m+\u001b[0m\u001b[0margs\u001b[0m\u001b[0;34m[\u001b[0m\u001b[0;36m7\u001b[0m\u001b[0;34m]\u001b[0m\u001b[0;34m*\u001b[0m\u001b[0;34m(\u001b[0m\u001b[0mx\u001b[0m\u001b[0;34m[\u001b[0m\u001b[0;36m7\u001b[0m\u001b[0;34m]\u001b[0m\u001b[0;34m**\u001b[0m\u001b[0;36m3\u001b[0m\u001b[0;34m)\u001b[0m\u001b[0;34m+\u001b[0m\u001b[0margs\u001b[0m\u001b[0;34m[\u001b[0m\u001b[0;36m8\u001b[0m\u001b[0;34m]\u001b[0m\u001b[0;34m*\u001b[0m\u001b[0;34m(\u001b[0m\u001b[0mx\u001b[0m\u001b[0;34m[\u001b[0m\u001b[0;36m8\u001b[0m\u001b[0;34m]\u001b[0m\u001b[0;34m**\u001b[0m\u001b[0;36m3\u001b[0m\u001b[0;34m)\u001b[0m\u001b[0;34m+\u001b[0m\u001b[0margs\u001b[0m\u001b[0;34m[\u001b[0m\u001b[0;36m9\u001b[0m\u001b[0;34m]\u001b[0m\u001b[0;34m*\u001b[0m\u001b[0;34m(\u001b[0m\u001b[0mx\u001b[0m\u001b[0;34m[\u001b[0m\u001b[0;36m9\u001b[0m\u001b[0;34m]\u001b[0m\u001b[0;34m**\u001b[0m\u001b[0;36m3\u001b[0m\u001b[0;34m)\u001b[0m\u001b[0;34m+\u001b[0m\u001b[0;31m\\\u001b[0m\u001b[0;34m\u001b[0m\u001b[0;34m\u001b[0m\u001b[0m\n\u001b[1;32m      4\u001b[0m         \u001b[0margs\u001b[0m\u001b[0;34m[\u001b[0m\u001b[0;36m10\u001b[0m\u001b[0;34m]\u001b[0m\u001b[0;34m*\u001b[0m\u001b[0;34m(\u001b[0m\u001b[0mx\u001b[0m\u001b[0;34m[\u001b[0m\u001b[0;36m10\u001b[0m\u001b[0;34m]\u001b[0m\u001b[0;34m**\u001b[0m\u001b[0;36m3\u001b[0m\u001b[0;34m)\u001b[0m\u001b[0;34m+\u001b[0m\u001b[0margs\u001b[0m\u001b[0;34m[\u001b[0m\u001b[0;36m11\u001b[0m\u001b[0;34m]\u001b[0m\u001b[0;34m*\u001b[0m\u001b[0;34m(\u001b[0m\u001b[0mx\u001b[0m\u001b[0;34m[\u001b[0m\u001b[0;36m11\u001b[0m\u001b[0;34m]\u001b[0m\u001b[0;34m**\u001b[0m\u001b[0;36m3\u001b[0m\u001b[0;34m)\u001b[0m\u001b[0;34m+\u001b[0m\u001b[0margs\u001b[0m\u001b[0;34m[\u001b[0m\u001b[0;36m12\u001b[0m\u001b[0;34m]\u001b[0m\u001b[0;34m*\u001b[0m\u001b[0;34m(\u001b[0m\u001b[0mx\u001b[0m\u001b[0;34m[\u001b[0m\u001b[0;36m12\u001b[0m\u001b[0;34m]\u001b[0m\u001b[0;34m**\u001b[0m\u001b[0;36m3\u001b[0m\u001b[0;34m)\u001b[0m\u001b[0;34m+\u001b[0m\u001b[0margs\u001b[0m\u001b[0;34m[\u001b[0m\u001b[0;36m13\u001b[0m\u001b[0;34m]\u001b[0m\u001b[0;34m*\u001b[0m\u001b[0;34m(\u001b[0m\u001b[0mx\u001b[0m\u001b[0;34m[\u001b[0m\u001b[0;36m13\u001b[0m\u001b[0;34m]\u001b[0m\u001b[0;34m**\u001b[0m\u001b[0;36m3\u001b[0m\u001b[0;34m)\u001b[0m\u001b[0;34m+\u001b[0m\u001b[0margs\u001b[0m\u001b[0;34m[\u001b[0m\u001b[0;36m14\u001b[0m\u001b[0;34m]\u001b[0m\u001b[0;34m*\u001b[0m\u001b[0;34m(\u001b[0m\u001b[0mx\u001b[0m\u001b[0;34m[\u001b[0m\u001b[0;36m14\u001b[0m\u001b[0;34m]\u001b[0m\u001b[0;34m**\u001b[0m\u001b[0;36m3\u001b[0m\u001b[0;34m)\u001b[0m\u001b[0;34m+\u001b[0m\u001b[0;31m\\\u001b[0m\u001b[0;34m\u001b[0m\u001b[0;34m\u001b[0m\u001b[0m\n\u001b[1;32m      5\u001b[0m         \u001b[0margs\u001b[0m\u001b[0;34m[\u001b[0m\u001b[0;36m15\u001b[0m\u001b[0;34m]\u001b[0m\u001b[0;34m*\u001b[0m\u001b[0;34m(\u001b[0m\u001b[0mx\u001b[0m\u001b[0;34m[\u001b[0m\u001b[0;36m15\u001b[0m\u001b[0;34m]\u001b[0m\u001b[0;34m**\u001b[0m\u001b[0;36m3\u001b[0m\u001b[0;34m)\u001b[0m\u001b[0;34m+\u001b[0m\u001b[0margs\u001b[0m\u001b[0;34m[\u001b[0m\u001b[0;36m16\u001b[0m\u001b[0;34m]\u001b[0m\u001b[0;34m*\u001b[0m\u001b[0;34m(\u001b[0m\u001b[0mx\u001b[0m\u001b[0;34m[\u001b[0m\u001b[0;36m16\u001b[0m\u001b[0;34m]\u001b[0m\u001b[0;34m**\u001b[0m\u001b[0;36m3\u001b[0m\u001b[0;34m)\u001b[0m\u001b[0;34m+\u001b[0m\u001b[0margs\u001b[0m\u001b[0;34m[\u001b[0m\u001b[0;36m17\u001b[0m\u001b[0;34m]\u001b[0m\u001b[0;34m*\u001b[0m\u001b[0;34m(\u001b[0m\u001b[0mx\u001b[0m\u001b[0;34m[\u001b[0m\u001b[0;36m17\u001b[0m\u001b[0;34m]\u001b[0m\u001b[0;34m**\u001b[0m\u001b[0;36m3\u001b[0m\u001b[0;34m)\u001b[0m\u001b[0;34m+\u001b[0m\u001b[0margs\u001b[0m\u001b[0;34m[\u001b[0m\u001b[0;36m18\u001b[0m\u001b[0;34m]\u001b[0m\u001b[0;34m*\u001b[0m\u001b[0;34m(\u001b[0m\u001b[0mx\u001b[0m\u001b[0;34m[\u001b[0m\u001b[0;36m18\u001b[0m\u001b[0;34m]\u001b[0m\u001b[0;34m**\u001b[0m\u001b[0;36m3\u001b[0m\u001b[0;34m)\u001b[0m\u001b[0;34m+\u001b[0m\u001b[0margs\u001b[0m\u001b[0;34m[\u001b[0m\u001b[0;36m19\u001b[0m\u001b[0;34m]\u001b[0m\u001b[0;34m*\u001b[0m\u001b[0;34m(\u001b[0m\u001b[0mx\u001b[0m\u001b[0;34m[\u001b[0m\u001b[0;36m19\u001b[0m\u001b[0;34m]\u001b[0m\u001b[0;34m**\u001b[0m\u001b[0;36m3\u001b[0m\u001b[0;34m)\u001b[0m\u001b[0;34m\u001b[0m\u001b[0;34m\u001b[0m\u001b[0m\n",
      "\u001b[0;31mIndexError\u001b[0m: list index out of range"
     ]
    }
   ],
   "source": [
    "x = np.linspace(-2,2,100)\n",
    "y = np.linspace(-2,2,100)\n",
    "xx,yy = np.meshgrid(x,y)\n",
    "zz = f([xx,yy],args)\n",
    "fig = plt.figure(figsize=(6,4),dpi=150)\n",
    "ax = fig.add_subplot(111, projection='3d')\n",
    "ax.plot_surface(xx,yy,zz,cmap=cm.coolwarm,linewidth=0, antialiased=False)\n",
    "plt.tight_layout()"
   ]
  },
  {
   "cell_type": "code",
   "execution_count": 123,
   "metadata": {},
   "outputs": [
    {
     "name": "stdout",
     "output_type": "stream",
     "text": [
      "     fun: 0.1370393388867378\n",
      "     jac: array([4.83084306e-02, 3.55088125e-11, 3.08689918e-02, 2.42454431e-04,\n",
      "       4.42832054e-02, 3.60269706e-02, 3.31421956e-02, 5.73888110e-04,\n",
      "       6.52386987e-02, 5.88401318e-02, 6.15745269e-02, 3.08458883e-02,\n",
      "       1.48525003e-01, 1.17821139e-01, 3.54964373e-02, 1.81605991e-02,\n",
      "       4.85475799e-02, 4.51960941e-02, 3.00000000e-10, 2.16225612e-35])\n",
      " message: 'Optimization terminated successfully'\n",
      "    nfev: 18\n",
      "     nit: 7\n",
      "    njev: 7\n",
      "  status: 0\n",
      " success: True\n",
      "       x: array([6.55961182e-01, 3.44038818e-01, 4.97584114e-01, 5.02415886e-01,\n",
      "       4.13153239e-01, 5.86846761e-01, 4.91667963e-01, 5.08332037e-01,\n",
      "       3.58729933e-01, 6.41270067e-01, 4.81366856e-01, 5.18633144e-01,\n",
      "       4.17284738e-01, 5.82715262e-01, 3.48004191e-01, 6.51995809e-01,\n",
      "       3.36247784e-01, 6.63752216e-01, 1.00000000e+00, 1.38777878e-17])\n"
     ]
    }
   ],
   "source": [
    "#制約条件、等式の場合はeq\n",
    "cons = ({\"type\":\"eq\",\"fun\": lambda x: x[0]+x[1]-1},\n",
    "        {\"type\":\"eq\",\"fun\": lambda x: x[2]+x[3]-1},\n",
    "        {\"type\":\"eq\",\"fun\": lambda x: x[4]+x[5]-1},\n",
    "        {\"type\":\"eq\",\"fun\": lambda x: x[6]+x[7]-1},\n",
    "        {\"type\":\"eq\",\"fun\": lambda x: x[8]+x[9]-1},\n",
    "        {\"type\":\"eq\",\"fun\": lambda x: x[10]+x[11]-1},\n",
    "        {\"type\":\"eq\",\"fun\": lambda x: x[12]+x[13]-1},\n",
    "        {\"type\":\"eq\",\"fun\": lambda x: x[14]+x[15]-1},\n",
    "        {\"type\":\"eq\",\"fun\": lambda x: x[16]+x[17]-1},\n",
    "        {\"type\":\"eq\",\"fun\": lambda x: x[18]+x[19]-1},\n",
    "        {\"type\":\"eq\",\"fun\":lambda x:x[0]+x[2]+x[4]+x[6]+x[8]+x[10]+x[12]+x[14]+x[16]+x[18]-5},\n",
    "        {\"type\":\"eq\",\"fun\":lambda x:x[1]+x[3]+x[5]+x[7]+x[9]+x[11]+x[13]+x[15]+x[17]+x[19]-5},\n",
    "       )\n",
    "#boundsは解の範囲\n",
    "result = minimize(fun = f,\n",
    "                  x0=x0, \n",
    "                  args = (args,),\n",
    "                  jac= grad,\n",
    "                  bounds = ((0,1),) *20,\n",
    "                  constraints= cons,\n",
    "                  method=\"SLSQP\")\n",
    "print(result)"
   ]
  },
  {
   "cell_type": "code",
   "execution_count": 136,
   "metadata": {},
   "outputs": [
    {
     "name": "stdout",
     "output_type": "stream",
     "text": [
      "[6.55961182e-01 3.44038818e-01 4.97584114e-01 5.02415886e-01\n",
      " 4.13153239e-01 5.86846761e-01 4.91667963e-01 5.08332037e-01\n",
      " 3.58729933e-01 6.41270067e-01 4.81366856e-01 5.18633144e-01\n",
      " 4.17284738e-01 5.82715262e-01 3.48004191e-01 6.51995809e-01\n",
      " 3.36247784e-01 6.63752216e-01 1.00000000e+00 1.38777878e-17]\n",
      "[[6.55961182e-01 3.44038818e-01]\n",
      " [4.97584114e-01 5.02415886e-01]\n",
      " [4.13153239e-01 5.86846761e-01]\n",
      " [4.91667963e-01 5.08332037e-01]\n",
      " [3.58729933e-01 6.41270067e-01]\n",
      " [4.81366856e-01 5.18633144e-01]\n",
      " [4.17284738e-01 5.82715262e-01]\n",
      " [3.48004191e-01 6.51995809e-01]\n",
      " [3.36247784e-01 6.63752216e-01]\n",
      " [1.00000000e+00 1.38777878e-17]]\n"
     ]
    }
   ],
   "source": [
    "u = np.array(result.x)\n",
    "print(u)\n",
    "u_list = u.reshape([10,2])\n",
    "print(u_list)"
   ]
  },
  {
   "cell_type": "code",
   "execution_count": 135,
   "metadata": {},
   "outputs": [
    {
     "name": "stdout",
     "output_type": "stream",
     "text": [
      "1.0\n",
      "1.0\n",
      "0.9999999999999999\n",
      "1.0\n",
      "1.0\n",
      "0.9999999999999999\n",
      "1.0\n",
      "1.0\n",
      "1.0\n",
      "1.0\n",
      "5.000000000000001\n",
      "5.0\n"
     ]
    }
   ],
   "source": [
    "for i in range(0,20,2):\n",
    "    print(u[i]+u[i+1])\n",
    "print(u[0]+u[2]+u[4]+u[6]+u[8]+u[10]+u[12]+u[14]+u[16]+u[18])\n",
    "print(u[1]+u[3]+u[5]+u[7]+u[9]+u[11]+u[13]+u[15]+u[17]+u[19])"
   ]
  },
  {
   "cell_type": "code",
   "execution_count": 127,
   "metadata": {},
   "outputs": [
    {
     "name": "stdout",
     "output_type": "stream",
     "text": [
      "クラスター中心はcluster1:[0.53480649 0.53573473],cluster2:[0.61685351 0.55043207]\n"
     ]
    }
   ],
   "source": [
    "#分母計算(クラスタサイズになるはず)\n",
    "v0_denominator=0\n",
    "v1_denominator=0\n",
    "for i in range(0,20,2):\n",
    "    v0_denominator += u[i]\n",
    "for i in range(1,20,2):\n",
    "    v1_denominator += u[i]\n",
    "#print(v0_denominator,v1_denominator)\n",
    "#分子計算\n",
    "v0_numerator = 0\n",
    "v1_numerator = 0\n",
    "for i in range(10):\n",
    "    v0_numerator += u[i*2]*X[i]\n",
    "    v1_numerator += u[1+i*2]*X[i]\n",
    "#print(v0_numerator,v1_numerator)\n",
    "v=[0 for i in range(2)]\n",
    "v[0] = v0_numerator / v0_denominator\n",
    "v[1] = v1_numerator / v1_denominator\n",
    "print(\"クラスター中心はcluster1:{},cluster2:{}\".format(v[0],v[1]))"
   ]
  },
  {
   "cell_type": "code",
   "execution_count": 128,
   "metadata": {},
   "outputs": [],
   "source": [
    "cluster = [0 for i in range(10)]\n",
    "for i in range (10):\n",
    "    if u[i*2]>u[1+i*2]:\n",
    "        cluster[i] = 0\n",
    "    else:\n",
    "        cluster[i] = 1\n",
    "np_cluster =np.array(cluster)"
   ]
  },
  {
   "cell_type": "code",
   "execution_count": 129,
   "metadata": {},
   "outputs": [
    {
     "data": {
      "text/plain": [
       "array([0, 1, 1, 1, 1, 1, 1, 1, 1, 0])"
      ]
     },
     "execution_count": 129,
     "metadata": {},
     "output_type": "execute_result"
    }
   ],
   "source": [
    "np_cluster"
   ]
  },
  {
   "cell_type": "code",
   "execution_count": 139,
   "metadata": {},
   "outputs": [
    {
     "data": {
      "image/png": "[encoded data removed]",
      "text/plain": [
       "<Figure size 432x288 with 1 Axes>"
      ]
     },
     "metadata": {},
     "output_type": "display_data"
    }
   ],
   "source": [
    "#グラフ\n",
    "colors = ['red', 'blue', 'green','yellow','fuchsia']\n",
    "markers = [\",\", \"o\", \"v\", \"^\", \"<\", \">\", \"1\", \"2\", \"3\"]\n",
    "fig = plt.figure()\n",
    "ax = fig.add_subplot(111)\n",
    "#clusterはnp.array型じゃないとダメそう(リスト型だとグラフに描画されなかった)\n",
    "for i in range(c):\n",
    "    ax.scatter(X[:, 0][np_cluster==i], X[:, 1][np_cluster==i], color=colors[i],marker=markers[i])\n",
    "\n",
    "#ax.set_title('fecbo', size=16)\n",
    "ax.set_xlabel(\"X\", size=14)\n",
    "ax.set_ylabel(\"Y\", size=14)\n",
    "ax.legend(['cluster1', 'cluster2'])  # 凡例を表示\n",
    "\n",
    "plt.show()\n",
    "\n",
    "fig.savefig(\"img2d.pdf\")"
   ]
  },
  {
   "cell_type": "code",
   "execution_count": 138,
   "metadata": {},
   "outputs": [
    {
     "name": "stdout",
     "output_type": "stream",
     "text": [
      "クラスター中心はcluster1:[0.53480649 0.53573473],cluster2:[0.61685351 0.55043207]\n",
      "[[6.55961182e-01 3.44038818e-01]\n",
      " [4.97584114e-01 5.02415886e-01]\n",
      " [4.13153239e-01 5.86846761e-01]\n",
      " [4.91667963e-01 5.08332037e-01]\n",
      " [3.58729933e-01 6.41270067e-01]\n",
      " [4.81366856e-01 5.18633144e-01]\n",
      " [4.17284738e-01 5.82715262e-01]\n",
      " [3.48004191e-01 6.51995809e-01]\n",
      " [3.36247784e-01 6.63752216e-01]\n",
      " [1.00000000e+00 1.38777878e-17]]\n"
     ]
    }
   ],
   "source": [
    "print(\"クラスター中心はcluster1:{},cluster2:{}\".format(v[0],v[1]))\n",
    "print(u_list)"
   ]
  },
  {
   "cell_type": "code",
   "execution_count": null,
   "metadata": {},
   "outputs": [],
   "source": []
  }
 ],
 "metadata": {
  "kernelspec": {
   "display_name": "Python 3",
   "language": "python",
   "name": "python3"
  },
  "language_info": {
   "codemirror_mode": {
    "name": "ipython",
    "version": 3
   },
   "file_extension": ".py",
   "mimetype": "text/x-python",
   "name": "python",
   "nbconvert_exporter": "python",
   "pygments_lexer": "ipython3",
   "version": "3.8.5"
  }
 },
 "nbformat": 4,
 "nbformat_minor": 4
}
