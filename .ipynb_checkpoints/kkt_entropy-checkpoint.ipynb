{
 "cells": [
  {
   "cell_type": "code",
   "execution_count": 244,
   "id": "8018697a-2a37-47e1-87dd-00f95fdeb67c",
   "metadata": {},
   "outputs": [
    {
     "name": "stdin",
     "output_type": "stream",
     "text": [
      "Once deleted, variables cannot be recovered. Proceed (y/[n])?  y\n"
     ]
    }
   ],
   "source": [
    "%reset"
   ]
  },
  {
   "cell_type": "code",
   "execution_count": 6,
   "id": "f8e3c0ea-b166-4ba4-bfcf-4decff310b84",
   "metadata": {},
   "outputs": [],
   "source": [
    "import pandas as pd\n",
    "import numpy as np\n",
    "import matplotlib.pyplot as plt\n",
    "import cvxpy as cp\n",
    "#sysはコマンドライン引数\n",
    "import sys\n",
    "import csv\n",
    "np.seterr(divide='ignore', invalid='ignore')\n",
    "#csvファイルの読み込み、一行目はヘッダーじゃない\n",
    "df = pd.read_csv(\"ransuu.csv\",header=None)\n",
    "#dfをnumpyで扱えるnp.ndarray変換\n",
    "X = df.values\n",
    "#配列の行数、列数の格納\n",
    "X_size,dimension = X.shape\n",
    "#クラスタ数宣言\n",
    "c = 5\n",
    "#Kはクラスタサイズ \n",
    "K = X_size /c\n",
    "max_iter = 100\n",
    "distances=np.zeros((X_size,c))\n",
    "best_J = 10000"
   ]
  },
  {
   "cell_type": "code",
   "execution_count": 7,
   "id": "b3bd1935-abaa-4b9f-9c7e-7d4cdd26e048",
   "metadata": {
    "tags": []
   },
   "outputs": [
    {
     "name": "stdout",
     "output_type": "stream",
     "text": [
      "0\n",
      "回目のクラスタリング結果↓\n",
      "11.334958052348949\n",
      "[[0.42474398 0.56116776]\n",
      " [0.7345256  0.19894039]\n",
      " [0.20679837 0.28459827]\n",
      " [0.25687807 0.8198041 ]\n",
      " [0.84608411 0.7322227 ]]\n",
      "終了\n",
      "[4 1 4 1 3 4 0 1 2 4 4 4 0 3 3 2 0 2 0 0 2 3 4 3 2 2 3 3 4 4 3 0 1 4 1 1 0\n",
      " 1 4 4 3 1 3 2 3 2 4 3 3 0 2 1 3 2 0 3 1 1 0 0 0 3 2 2 3 3 0 4 4 4 1 1 0 1\n",
      " 0 3 0 1 2 2 1 2 4 1 2 0 1 0 2 4 0 4 2 0 1 1 2 4 0 4]\n",
      "11.334958052348949\n",
      "[[0.42474398 0.56116776]\n",
      " [0.7345256  0.19894039]\n",
      " [0.20679837 0.28459827]\n",
      " [0.25687807 0.8198041 ]\n",
      " [0.84608411 0.7322227 ]]\n"
     ]
    }
   ],
   "source": [
    "#uの最適化部分関数作成\n",
    "def u_optimize(d):\n",
    "    #変数定義\n",
    "    u = [0] * len(d)\n",
    "    for i in  range (len(d)):\n",
    "        u[i] = cp.Variable()\n",
    "\n",
    "    #目的関数定義\n",
    "    Objective_function = 0 \n",
    "    for i  in range(len(d)):\n",
    "        Objective_function += u[i]*d[i]-0.01*(cp.entr(u[i]))\n",
    "    objective = cp.Minimize(Objective_function)\n",
    "    # 制約条件の定義\n",
    "    zeroijou = []\n",
    "    goukeiiti = []\n",
    "    goukeigo = []\n",
    "    constraints = []\n",
    "    #0以上\n",
    "    for i in range (len(d)):\n",
    "        zeroijou.append(u[i]>=0)\n",
    "    #合計1\n",
    "    for i in range (0,len(d),c):\n",
    "        #下の式はcの値によって逐次変更しないといけない\n",
    "        goukeiiti.append(u[i]+u[i+1]+u[i+2]+u[i+3]+u[i+4]==1)\n",
    "    #合計がクラスタサイズ\n",
    "    #下の式はcの値によって逐次変更しないといけない\n",
    "    goukeigo.append(sum(u[0:len(d):c])==K)\n",
    "    goukeigo.append(sum(u[1:len(d):c])==K)\n",
    "    goukeigo.append(sum(u[2:len(d):c])==K)\n",
    "    goukeigo.append(sum(u[3:len(d):c])==K)\n",
    "    goukeigo.append(sum(u[4:len(d):c])==K)\n",
    "    constraints.extend(zeroijou)\n",
    "    constraints.extend(goukeiiti)\n",
    "    constraints.extend(goukeigo)\n",
    "    \n",
    "    # 問題を定義\n",
    "    problem = cp.Problem(objective, constraints)\n",
    "    # 最適化 (戻り値は最適化後に得られた値=最小値)\n",
    "    result = problem.solve()\n",
    "    #帰属度uと目的関数Jの値を抽出(ndarray型)\n",
    "    u_value = np.empty(0)#空のndarrayを作成\n",
    "    for i in range (len(d)):\n",
    "        u_value = np.append(u_value,u[i].value)\n",
    "    u = u_value\n",
    "    return u,result\n",
    "#クラスタ中心計算部分関数作成\n",
    "def v_calculation(u_value):\n",
    "    u_list = u_value.reshape([X_size,c])\n",
    "    #分母計算(クラスタサイズになるはず)\n",
    "    v0_denominator=0\n",
    "    v1_denominator=0\n",
    "    v2_denominator=0\n",
    "    v3_denominator=0\n",
    "    v4_denominator=0\n",
    "    for i in range(0,len(d),c):\n",
    "        v0_denominator += u_value[i]\n",
    "    for i in range(1,len(d),c):\n",
    "        v1_denominator += u_value[i]\n",
    "    for i in range(2,len(d),c):\n",
    "        v2_denominator += u_value[i]\n",
    "    for i in range(3,len(d),c):\n",
    "        v3_denominator += u_value[i]\n",
    "    for i in range(4,len(d),c):\n",
    "        v4_denominator += u_value[i]\n",
    "    #分子計算\n",
    "    v0_numerator = 0\n",
    "    v1_numerator = 0\n",
    "    v2_numerator = 0\n",
    "    v3_numerator = 0\n",
    "    v4_numerator = 0\n",
    "    for i in range(X_size):\n",
    "        v0_numerator += u_list[i][0]*X[i]\n",
    "    for i in range(X_size):\n",
    "        v1_numerator += u_list[i][1]*X[i]\n",
    "    for i in range(X_size):\n",
    "        v2_numerator += u_list[i][2]*X[i]\n",
    "    for i in range(X_size):\n",
    "        v3_numerator += u_list[i][3]*X[i]\n",
    "    for i in range(X_size):\n",
    "        v4_numerator += u_list[i][4]*X[i]\n",
    "    v=[0 for i in range(5)]\n",
    "    v[0] = v0_numerator / v0_denominator\n",
    "    v[1] = v1_numerator / v1_denominator\n",
    "    v[2] = v2_numerator / v2_denominator\n",
    "    v[3] = v3_numerator / v3_denominator\n",
    "    v[4] = v4_numerator / v4_denominator\n",
    "    return v\n",
    "\n",
    "for s in range (max_iter):\n",
    "    centroids = X[np.random.choice(X_size,c)]\n",
    "    for epoch in range(max_iter):\n",
    "        #dにはd11,d12,d13,d14,d21,d22,,,dn1,,dncの順でリスト作る\n",
    "        d=[]\n",
    "        for i in range(X_size):\n",
    "            for j in range(c):\n",
    "                d.append(np.sum((X[i]-centroids[j])**2))\n",
    "        #uの更新\n",
    "        optimize_result = u_optimize(d)\n",
    "        u = optimize_result[0]\n",
    "        J = optimize_result[1]\n",
    "        #vの更新\n",
    "        v = v_calculation(u)\n",
    "        new_centroids = np.array(v)\n",
    "        new_centroids_kai = new_centroids[::-1,]\n",
    "        # もしも重心が変わっていなかったら終了\n",
    "        if (np.array_equal(new_centroids, centroids)):\n",
    "            print(\"中心が変わらないのでbreakします！\")\n",
    "            break\n",
    "        #繰り返し準備\n",
    "        centroids =  np.copy(new_centroids)\n",
    "    #目的関数が小さくなっている時、cluster,best_J,best_centoridsの更新を行う\n",
    "    if best_J > J:\n",
    "        u_list = u.reshape([X_size,c])\n",
    "        np_cluster = np.argmax(u_list,axis=1)\n",
    "        #最適な目的関数の更新\n",
    "        best_J = J\n",
    "        #目的関数が小さくなるときの重心を格納\n",
    "        best_centroids = np.copy(new_centroids)\n",
    "    print(s)\n",
    "    print(\"回目のクラスタリング結果↓\")\n",
    "    print(best_J)\n",
    "    print(best_centroids)\n",
    "    print(\"終了\")\n",
    "print(np_cluster)\n",
    "print(best_J)\n",
    "print(best_centroids)"
   ]
  },
  {
   "cell_type": "code",
   "execution_count": 5,
   "id": "37983fcb-ab7e-449e-b8f9-b3ea29fbde92",
   "metadata": {},
   "outputs": [
    {
     "name": "stdout",
     "output_type": "stream",
     "text": [
      "帰属度とクラスタサイズの確認\n",
      "[1. 1. 1. 1. 1. 1. 1. 1. 1. 1. 1. 1. 1. 1. 1. 1. 1. 1. 1. 1. 1. 1. 1. 1.\n",
      " 1. 1. 1. 1. 1. 1. 1. 1. 1. 1. 1. 1. 1. 1. 1. 1. 1. 1. 1. 1. 1. 1. 1. 1.\n",
      " 1. 1. 1. 1. 1. 1. 1. 1. 1. 1. 1. 1. 1. 1. 1. 1. 1. 1. 1. 1. 1. 1. 1. 1.\n",
      " 1. 1. 1. 1. 1. 1. 1. 1. 1. 1. 1. 1. 1. 1. 1. 1. 1. 1. 1. 1. 1. 1. 1. 1.\n",
      " 1. 1. 1.]\n",
      "[19.8 19.8 19.8 19.8 19.8]\n"
     ]
    }
   ],
   "source": [
    "print(\"帰属度とクラスタサイズの確認\")\n",
    "print(np.sum(u_list, axis=1))#行ごとの合計値1になるはず\n",
    "print(np.sum(u_list, axis=0))#列ごとの合計値Kになるはず"
   ]
  },
  {
   "cell_type": "code",
   "execution_count": 260,
   "id": "7e053eba-b5da-42ae-ac6f-c6cb707e7880",
   "metadata": {},
   "outputs": [
    {
     "data": {
      "image/png": "[encoded data removed]",
      "text/plain": [
       "<Figure size 432x288 with 1 Axes>"
      ]
     },
     "metadata": {
      "needs_background": "light"
     },
     "output_type": "display_data"
    }
   ],
   "source": [
    "#グラフ\n",
    "colors = ['red', 'blue', 'green','yellow','fuchsia']\n",
    "markers = [\",\", \"o\", \"v\", \"^\", \"<\", \">\", \"1\", \"2\", \"3\"]\n",
    "fig = plt.figure()\n",
    "ax = fig.add_subplot(111)\n",
    "#clusterはnp.array型じゃないとダメそう(リスト型だとグラフに描画されなかった)\n",
    "for i in range(c):\n",
    "    ax.scatter(X[:, 0][np_cluster==i], X[:, 1][np_cluster==i], color=colors[i],marker=markers[i])\n",
    "ax.scatter(best_centroids[:,0],best_centroids[:,1],color=\"black\",marker=\"x\")\n",
    "#ax.set_title('fecbo', size=16)\n",
    "ax.set_xlabel(\"X\", size=14)\n",
    "ax.set_ylabel(\"Y\", size=14)\n",
    "ax.legend(['cluster1', 'cluster2','cluster3','cluster4','cluster5',\"center\"],fontsize=9)  # 凡例を表示\n",
    "\n",
    "plt.show()\n",
    "\n",
    "fig.savefig(\"kkt_entropy.pdf\")"
   ]
  },
  {
   "cell_type": "markdown",
   "id": "3c5a8cb5-0be2-4937-81cf-b682d78cffe9",
   "metadata": {},
   "source": [
    "4を0\\\n",
    "0を4\n",
    "に入れ替え"
   ]
  },
  {
   "cell_type": "code",
   "execution_count": 267,
   "id": "9e449758-49fe-4ba0-9425-7c5cf5bf07ed",
   "metadata": {},
   "outputs": [
    {
     "data": {
      "image/png": "[encoded data removed]",
      "text/plain": [
       "<Figure size 432x288 with 1 Axes>"
      ]
     },
     "metadata": {
      "needs_background": "light"
     },
     "output_type": "display_data"
    }
   ],
   "source": [
    "np_cluster_kai = np.where(np_cluster==0, 100, np_cluster)\n",
    "np_cluster_kai1 = np.where(np_cluster_kai==4, 0, np_cluster_kai)\n",
    "np_cluster_kai2 = np.where(np_cluster_kai1==100, 4, np_cluster_kai1)\n",
    "#グラフ\n",
    "colors = ['red', 'blue', 'green','yellow','fuchsia']\n",
    "markers = [\",\", \"o\", \"v\", \"^\", \"<\", \">\", \"1\", \"2\", \"3\"]\n",
    "fig = plt.figure()\n",
    "ax = fig.add_subplot(111)\n",
    "#clusterはnp.array型じゃないとダメそう(リスト型だとグラフに描画されなかった)\n",
    "for i in range(c):\n",
    "    ax.scatter(X[:, 0][np_cluster_kai2==i], X[:, 1][np_cluster_kai2==i], color=colors[i],marker=markers[i])\n",
    "ax.scatter(best_centroids[:,0],best_centroids[:,1],color=\"black\",marker=\"x\")\n",
    "#ax.set_title('fecbo', size=16)\n",
    "ax.set_xlabel(\"X\", size=14)\n",
    "ax.set_ylabel(\"Y\", size=14)\n",
    "ax.legend(['cluster1', 'cluster2','cluster3','cluster4','cluster5',\"center\"],fontsize=9)  # 凡例を表示\n",
    "\n",
    "plt.show()\n",
    "\n",
    "fig.savefig(\"kkt_entropy.pdf\")"
   ]
  },
  {
   "cell_type": "markdown",
   "id": "30583ae0-30d7-433a-b00e-72e9ffebe930",
   "metadata": {},
   "source": [
    "## ここまでが完成コード"
   ]
  },
  {
   "cell_type": "code",
   "execution_count": 262,
   "id": "b8568504-b0b9-4257-8e98-b03cb439d9da",
   "metadata": {},
   "outputs": [
    {
     "data": {
      "text/plain": [
       "array([1, 2, 3, 0, 4, 1, 1, 1, 1, 1, 1, 1, 1, 1, 1, 1, 1, 1, 1, 1, 1, 1,\n",
       "       1, 1, 1, 2, 2, 2, 2, 2, 2, 2, 2, 2, 2, 2, 2, 2, 2, 2, 2, 2, 2, 2,\n",
       "       2, 3, 3, 3, 3, 3, 3, 3, 3, 3, 3, 3, 3, 3, 3, 3, 3, 3, 3, 3, 3, 0,\n",
       "       0, 0, 0, 0, 0, 0, 0, 0, 0, 0, 0, 0, 0, 0, 0, 0, 0, 0, 0, 4, 4, 4,\n",
       "       4, 4, 4, 4, 4, 4, 4, 4, 4, 4, 4])"
      ]
     },
     "execution_count": 262,
     "metadata": {},
     "output_type": "execute_result"
    }
   ],
   "source": [
    "np_cluster"
   ]
  },
  {
   "cell_type": "code",
   "execution_count": 235,
   "id": "9b0d7a3f-4bfe-4584-b86c-82513e78ec8f",
   "metadata": {
    "jupyter": {
     "source_hidden": true
    },
    "tags": []
   },
   "outputs": [
    {
     "ename": "ValueError",
     "evalue": "cannot reshape array of size 375 into shape (99,5)",
     "output_type": "error",
     "traceback": [
      "\u001b[0;31m---------------------------------------------------------------------------\u001b[0m",
      "\u001b[0;31mValueError\u001b[0m                                Traceback (most recent call last)",
      "\u001b[0;32m/var/folders/c4/bqdz_03n3w1db3krhv3c2ztw0000gn/T/ipykernel_74097/4248163595.py\u001b[0m in \u001b[0;36m<module>\u001b[0;34m\u001b[0m\n\u001b[1;32m     58\u001b[0m \u001b[0moptimize_result\u001b[0m \u001b[0;34m=\u001b[0m \u001b[0mu_optimize\u001b[0m\u001b[0;34m(\u001b[0m\u001b[0md\u001b[0m\u001b[0;34m,\u001b[0m\u001b[0mJ\u001b[0m\u001b[0;34m)\u001b[0m\u001b[0;34m\u001b[0m\u001b[0;34m\u001b[0m\u001b[0m\n\u001b[1;32m     59\u001b[0m \u001b[0mu_value\u001b[0m \u001b[0;34m=\u001b[0m \u001b[0moptimize_result\u001b[0m\u001b[0;34m[\u001b[0m\u001b[0;36m0\u001b[0m\u001b[0;34m]\u001b[0m\u001b[0;34m\u001b[0m\u001b[0;34m\u001b[0m\u001b[0m\n\u001b[0;32m---> 60\u001b[0;31m \u001b[0mu_list\u001b[0m \u001b[0;34m=\u001b[0m \u001b[0mu_value\u001b[0m\u001b[0;34m.\u001b[0m\u001b[0mreshape\u001b[0m\u001b[0;34m(\u001b[0m\u001b[0;34m[\u001b[0m\u001b[0;36m99\u001b[0m\u001b[0;34m,\u001b[0m\u001b[0;36m5\u001b[0m\u001b[0;34m]\u001b[0m\u001b[0;34m)\u001b[0m\u001b[0;34m\u001b[0m\u001b[0;34m\u001b[0m\u001b[0m\n\u001b[0m\u001b[1;32m     61\u001b[0m \u001b[0mprint\u001b[0m\u001b[0;34m(\u001b[0m\u001b[0moptimize_result\u001b[0m\u001b[0;34m[\u001b[0m\u001b[0;36m0\u001b[0m\u001b[0;34m]\u001b[0m\u001b[0;34m)\u001b[0m\u001b[0;34m\u001b[0m\u001b[0;34m\u001b[0m\u001b[0m\n\u001b[1;32m     62\u001b[0m \u001b[0mprint\u001b[0m\u001b[0;34m(\u001b[0m\u001b[0moptimize_result\u001b[0m\u001b[0;34m[\u001b[0m\u001b[0;36m1\u001b[0m\u001b[0;34m]\u001b[0m\u001b[0;34m)\u001b[0m\u001b[0;34m\u001b[0m\u001b[0;34m\u001b[0m\u001b[0m\n",
      "\u001b[0;31mValueError\u001b[0m: cannot reshape array of size 375 into shape (99,5)"
     ]
    }
   ],
   "source": [
    "#テスト用セル\n",
    "#uの最適化部分関数作成\n",
    "def u_optimize(d,J):\n",
    "    #変数定義\n",
    "    u = [0] * len(d)\n",
    "    for i in  range (len(d)):\n",
    "        u[i] = cp.Variable()\n",
    "    #uの最適化\n",
    "    # 最小化したい関数 (目的関数)\n",
    "    Objective_function = 0\n",
    "    for i  in range(len(d)):\n",
    "        #Objective_function += d[i]*cp.power(u[i],8)\n",
    "        Objective_function += u[i]*d[i]-cp.entr(u[i])\n",
    "    objective = cp.Minimize(Objective_function)\n",
    "    \n",
    "    # 制約条件の定義\n",
    "    zeroijou = []\n",
    "    goukeiiti = []\n",
    "    goukeigo = []\n",
    "    constraints = []\n",
    "    #0以上\n",
    "    for i in range (len(d)):\n",
    "        zeroijou.append(u[i]>=0)\n",
    "    #合計1\n",
    "    for i in range (0,len(d),c):\n",
    "        #下の式はcの値によって逐次変更しないといけない\n",
    "        goukeiiti.append(u[i]+u[i+1]+u[i+2]+u[i+3]+u[i+4]==1)\n",
    "    #合計がクラスタサイズ\n",
    "    #下の式はcの値によって逐次変更しないといけない\n",
    "    goukeigo.append(sum(u[0:len(d):c])==K)\n",
    "    goukeigo.append(sum(u[1:len(d):c])==K)\n",
    "    goukeigo.append(sum(u[2:len(d):c])==K)\n",
    "    goukeigo.append(sum(u[3:len(d):c])==K)\n",
    "    goukeigo.append(sum(u[4:len(d):c])==K)\n",
    "    constraints.extend(zeroijou)\n",
    "    constraints.extend(goukeiiti)\n",
    "    constraints.extend(goukeigo)\n",
    "    \n",
    "    # 問題を定義\n",
    "    problem = cp.Problem(objective, constraints)\n",
    "    # 最適化 (戻り値は最適化後に得られた値=最小値)\n",
    "    result = problem.solve()\n",
    "    #帰属度uと目的関数Jの値を抽出(ndarray型)\n",
    "    u_value = np.empty(0)#空のndarrayを作成\n",
    "    for i in range (len(d)):\n",
    "        u_value = np.append(u_value,u[i].value)\n",
    "    u = u_value\n",
    "    J = np.append(J,result)\n",
    "    return u,J\n",
    "centroids = X[np.random.choice(X_size,c)]\n",
    "J = np.empty(0)\n",
    "#dにはd11,d12,d13,d14,d21,d22,,,dn1,,dncの順でリスト作る\n",
    "d=[]\n",
    "for i in range(X_size):\n",
    "    for j in range(c):\n",
    "        d.append(np.sum((X[i]-centroids[j])**2))\n",
    "#uの更新\n",
    "optimize_result = u_optimize(d,J)\n",
    "u_value = optimize_result[0]\n",
    "u_list = u_value.reshape([99,5])\n",
    "print(optimize_result[0])\n",
    "print(optimize_result[1])"
   ]
  },
  {
   "cell_type": "code",
   "execution_count": 222,
   "id": "5213d5ed-7485-46e1-b648-fd78c3b742d5",
   "metadata": {},
   "outputs": [
    {
     "name": "stdout",
     "output_type": "stream",
     "text": [
      "帰属度とクラスタサイズの確認\n",
      "[1. 1. 1. 1. 1. 1. 1. 1. 1. 1. 1. 1. 1. 1. 1. 1. 1. 1. 1. 1. 1. 1. 1. 1.\n",
      " 1. 1. 1. 1. 1. 1. 1. 1. 1. 1. 1. 1. 1. 1. 1. 1. 1. 1. 1. 1. 1. 1. 1. 1.\n",
      " 1. 1. 1. 1. 1. 1. 1. 1. 1. 1. 1. 1. 1. 1. 1. 1. 1. 1. 1. 1. 1. 1. 1. 1.\n",
      " 1. 1. 1. 1. 1. 1. 1. 1. 1. 1. 1. 1. 1. 1. 1. 1. 1. 1. 1. 1. 1. 1. 1. 1.\n",
      " 1. 1. 1.]\n",
      "[19.8 19.8 19.8 19.8 19.8]\n"
     ]
    }
   ],
   "source": [
    "print(\"帰属度とクラスタサイズの確認\")\n",
    "print(np.sum(u_list, axis=1))#行ごとの合計値1になるはず\n",
    "print(np.sum(u_list, axis=0))#列ごとの合計値Kになるはず"
   ]
  },
  {
   "cell_type": "code",
   "execution_count": 265,
   "id": "feeae8c1-8364-4f6a-b586-a3b6106909c0",
   "metadata": {},
   "outputs": [
    {
     "name": "stdout",
     "output_type": "stream",
     "text": [
      "21\n",
      "21\n",
      "21\n",
      "21\n",
      "15\n"
     ]
    }
   ],
   "source": [
    "print(np.count_nonzero(np_cluster==0))\n",
    "print(np.count_nonzero(np_cluster==1))\n",
    "print(np.count_nonzero(np_cluster==2))\n",
    "print(np.count_nonzero(np_cluster==3))\n",
    "print(np.count_nonzero(np_cluster==4))"
   ]
  },
  {
   "cell_type": "code",
   "execution_count": 272,
   "id": "2ef6948b-8aab-48c1-afca-ede1abf0b66c",
   "metadata": {},
   "outputs": [
    {
     "data": {
      "text/plain": [
       "array([[0.35337731, 0.50077248],\n",
       "       [0.5162733 , 0.50885754],\n",
       "       [0.505059  , 0.69441529],\n",
       "       [0.49944437, 0.30542704],\n",
       "       [0.70362389, 0.50555305]])"
      ]
     },
     "execution_count": 272,
     "metadata": {},
     "output_type": "execute_result"
    }
   ],
   "source": [
    "row_swap = best_centroids[[4,1,2,3,0]]\n",
    "row_swap"
   ]
  },
  {
   "cell_type": "code",
   "execution_count": 273,
   "id": "56e3c42f-9b2b-44f0-bb96-37fedb98ab85",
   "metadata": {},
   "outputs": [
    {
     "data": {
      "text/plain": [
       "array([[0.70362389, 0.50555305],\n",
       "       [0.5162733 , 0.50885754],\n",
       "       [0.505059  , 0.69441529],\n",
       "       [0.49944437, 0.30542704],\n",
       "       [0.35337731, 0.50077248]])"
      ]
     },
     "execution_count": 273,
     "metadata": {},
     "output_type": "execute_result"
    }
   ],
   "source": [
    "best_centroids"
   ]
  },
  {
   "cell_type": "code",
   "execution_count": 247,
   "id": "9410ddbc-1683-4435-bad2-dab038b936e6",
   "metadata": {
    "collapsed": true,
    "jupyter": {
     "outputs_hidden": true,
     "source_hidden": true
    },
    "tags": []
   },
   "outputs": [
    {
     "name": "stdout",
     "output_type": "stream",
     "text": [
      "帰属度とクラスタサイズの確認\n",
      "[1. 1. 1. 1. 1. 1. 1. 1. 1. 1. 1. 1. 1. 1. 1. 1. 1. 1. 1. 1. 1. 1. 1. 1.\n",
      " 1. 1. 1. 1. 1. 1. 1. 1. 1. 1. 1. 1. 1. 1. 1. 1. 1. 1. 1. 1. 1. 1. 1. 1.\n",
      " 1. 1. 1. 1. 1. 1. 1. 1. 1. 1. 1. 1. 1. 1. 1. 1. 1. 1. 1. 1. 1. 1. 1. 1.\n",
      " 1. 1. 1. 1. 1. 1. 1. 1. 1. 1. 1. 1. 1. 1. 1. 1. 1. 1. 1. 1. 1. 1. 1. 1.\n",
      " 1. 1. 1.]\n",
      "[19.8 19.8 19.8 19.8 19.8]\n"
     ]
    }
   ],
   "source": [
    "#作業用セル(使用中)(制約条件変更中)（12/13）\n",
    "centroids = X[np.random.choice(X_size,c)]\n",
    "#dにはd11,d12,d13,d14,d21,d22,,,dn1,,dncの順でリスト作る\n",
    "d=[]\n",
    "for i in range(X_size):\n",
    "    for j in range(c):\n",
    "        d.append(np.sum((X[i]-centroids[j])**2))\n",
    "#uの最適化\n",
    "u = [0] * len(d)\n",
    "#変数定義\n",
    "for i in  range (len(d)):\n",
    "    u[i] = cp.Variable()\n",
    "#目的関数定義\n",
    "Objective_function = 0 \n",
    "for i  in range(len(d)):\n",
    "    Objective_function += d[i]*cp.power(u[i],3)\n",
    "objective = cp.Minimize(Objective_function)\n",
    "# 制約条件の定義\n",
    "zeroijou = []\n",
    "goukeiiti = []\n",
    "goukeigo = []\n",
    "constraints = []\n",
    "#0以上\n",
    "for i in range (len(d)):\n",
    "    zeroijou.append(u[i]>=0)\n",
    "#合計1\n",
    "for i in range (0,len(d),c):\n",
    "    #下の式はcの値によって逐次変更しないといけない\n",
    "    goukeiiti.append(u[i]+u[i+1]+u[i+2]+u[i+3]+u[i+4]==1)\n",
    "#合計がクラスタサイズ\n",
    "#下の式はcの値によって逐次変更しないといけない\n",
    "goukeigo.append(sum(u[0:len(d):c])==K)\n",
    "goukeigo.append(sum(u[1:len(d):c])==K)\n",
    "goukeigo.append(sum(u[2:len(d):c])==K)\n",
    "goukeigo.append(sum(u[3:len(d):c])==K)\n",
    "goukeigo.append(sum(u[4:len(d):c])==K)\n",
    "constraints.extend(zeroijou)\n",
    "constraints.extend(goukeiiti)\n",
    "constraints.extend(goukeigo)\n",
    "\n",
    "# 問題を定義\n",
    "problem = cp.Problem(objective, constraints)\n",
    "# 最適化 (戻り値は最適化後に得られた値=最小値)\n",
    "result = problem.solve()\n",
    "\n",
    "#帰属度uと目的関数Jの値を抽出(ndarray型)\n",
    "u_value = np.empty(0)#空のndarrayを作成\n",
    "for i in range (len(d)):\n",
    "    u_value = np.append(u_value,u[i].value)\n",
    "\n",
    "u_list = u_value.reshape([99,5])\n",
    "\n",
    "print(\"帰属度とクラスタサイズの確認\")\n",
    "print(np.sum(u_list, axis=1))#行ごとの合計値1になるはず\n",
    "print(np.sum(u_list, axis=0))#列ごとの合計値Kになるはず"
   ]
  },
  {
   "cell_type": "code",
   "execution_count": 250,
   "id": "cab80961-e098-46ac-9707-ff8e7ae81be3",
   "metadata": {
    "jupyter": {
     "source_hidden": true
    },
    "tags": []
   },
   "outputs": [],
   "source": [
    "#uの最適化部分関数作成\n",
    "def u_optimize(d,J):\n",
    "    #変数定義\n",
    "    u = [0] * len(d)\n",
    "    for i in  range (len(d)):\n",
    "        u[i] = cp.Variable()\n",
    "\n",
    "    #目的関数定義\n",
    "    Objective_function = 0 \n",
    "    for i  in range(len(d)):\n",
    "        Objective_function += d[i]*cp.power(u[i],3)\n",
    "    objective = cp.Minimize(Objective_function)\n",
    "    # 制約条件の定義\n",
    "    zeroijou = []\n",
    "    goukeiiti = []\n",
    "    goukeigo = []\n",
    "    constraints = []\n",
    "    #0以上\n",
    "    for i in range (len(d)):\n",
    "        zeroijou.append(u[i]>=0)\n",
    "    #合計1\n",
    "    for i in range (0,len(d),c):\n",
    "        #下の式はcの値によって逐次変更しないといけない\n",
    "        goukeiiti.append(u[i]+u[i+1]+u[i+2]+u[i+3]+u[i+4]==1)\n",
    "    #合計がクラスタサイズ\n",
    "    #下の式はcの値によって逐次変更しないといけない\n",
    "    goukeigo.append(sum(u[0:len(d):c])==K)\n",
    "    goukeigo.append(sum(u[1:len(d):c])==K)\n",
    "    goukeigo.append(sum(u[2:len(d):c])==K)\n",
    "    goukeigo.append(sum(u[3:len(d):c])==K)\n",
    "    goukeigo.append(sum(u[4:len(d):c])==K)\n",
    "    constraints.extend(zeroijou)\n",
    "    constraints.extend(goukeiiti)\n",
    "    constraints.extend(goukeigo)\n",
    "    \n",
    "    # 問題を定義\n",
    "    problem = cp.Problem(objective, constraints)\n",
    "    # 最適化 (戻り値は最適化後に得られた値=最小値)\n",
    "    result = problem.solve()\n",
    "    #帰属度uと目的関数Jの値を抽出(ndarray型)\n",
    "    u_value = np.empty(0)#空のndarrayを作成\n",
    "    for i in range (len(d)):\n",
    "        u_value = np.append(u_value,u[i].value)\n",
    "    u = u_value\n",
    "    J = np.append(J,result)\n",
    "    return u,J\n",
    "#クラスタ中心計算部分関数作成\n",
    "#クラスタ中心計算部分関数作成\n",
    "def v_calculation(u_value):\n",
    "    u_list = u_value.reshape([99,5])\n",
    "    #分母計算(クラスタサイズになるはず)\n",
    "    v0_denominator=0\n",
    "    v1_denominator=0\n",
    "    v2_denominator=0\n",
    "    v3_denominator=0\n",
    "    v4_denominator=0\n",
    "    for i in range(0,len(d),c):\n",
    "        v0_denominator += u_value[i]**3\n",
    "    for i in range(1,len(d),c):\n",
    "        v1_denominator += u_value[i]**3\n",
    "    for i in range(2,len(d),c):\n",
    "        v2_denominator += u_value[i]**3\n",
    "    for i in range(3,len(d),c):\n",
    "        v3_denominator += u_value[i]**3\n",
    "    for i in range(4,len(d),c):\n",
    "        v4_denominator += u_value[i]**3\n",
    "    #分子計算\n",
    "    v0_numerator = 0\n",
    "    v1_numerator = 0\n",
    "    v2_numerator = 0\n",
    "    v3_numerator = 0\n",
    "    v4_numerator = 0\n",
    "    for i in range(X_size):\n",
    "        v0_numerator += u_list[i][0]**3*X[i]\n",
    "    for i in range(X_size):\n",
    "        v1_numerator += u_list[i][1]**3*X[i]\n",
    "    for i in range(X_size):\n",
    "        v2_numerator += u_list[i][2]**3*X[i]\n",
    "    for i in range(X_size):\n",
    "        v3_numerator += u_list[i][3]**3*X[i]\n",
    "    for i in range(X_size):\n",
    "        v4_numerator += u_list[i][4]**3*X[i]\n",
    "    v=[0 for i in range(5)]\n",
    "    v[0] = v0_numerator / v0_denominator\n",
    "    v[1] = v1_numerator / v1_denominator\n",
    "    v[2] = v2_numerator / v2_denominator\n",
    "    v[3] = v3_numerator / v3_denominator\n",
    "    v[4] = v4_numerator / v4_denominator\n",
    "    return v"
   ]
  },
  {
   "cell_type": "code",
   "execution_count": 269,
   "id": "e89eabf5-a8f7-4fb1-afd2-bd82b6297463",
   "metadata": {},
   "outputs": [
    {
     "data": {
      "text/plain": [
       "array([[5.73688804e-03, 7.64896875e-01, 9.17422819e-03, 6.20765489e-03,\n",
       "        2.13984354e-01],\n",
       "       [3.08902944e-04, 4.70057913e-02, 9.43168621e-01, 1.11571774e-07,\n",
       "        9.51657330e-03],\n",
       "       [2.93697931e-04, 3.43103032e-02, 2.46001180e-07, 9.52132392e-01,\n",
       "        1.32633610e-02],\n",
       "       [9.30150496e-01, 6.90067948e-02, 5.28480759e-04, 2.85661520e-04,\n",
       "        2.85664281e-05],\n",
       "       [2.19418975e-08, 5.26059951e-03, 9.88169136e-05, 8.36998720e-05,\n",
       "        9.94556862e-01],\n",
       "       [1.32468128e-02, 8.44969345e-01, 1.91339295e-02, 3.04081359e-03,\n",
       "        1.19609099e-01],\n",
       "       [1.08571681e-02, 8.30652016e-01, 1.39619841e-02, 4.26696456e-03,\n",
       "        1.40261868e-01],\n",
       "       [2.56428399e-03, 6.54333159e-01, 5.63170091e-03, 8.46063448e-03,\n",
       "        3.29010222e-01],\n",
       "       [7.43184007e-03, 7.89796374e-01, 5.87939491e-03, 1.04516474e-02,\n",
       "        1.86440743e-01],\n",
       "       [1.36933887e-02, 8.47080142e-01, 1.97477731e-02, 2.93845526e-03,\n",
       "        1.16540241e-01],\n",
       "       [5.51154026e-03, 7.61497317e-01, 1.17192794e-02, 4.72505203e-03,\n",
       "        2.16546811e-01],\n",
       "       [2.35982030e-03, 6.48070714e-01, 1.03923780e-02, 4.27722105e-03,\n",
       "        3.34899867e-01],\n",
       "       [7.80643251e-03, 7.98487913e-01, 2.30906977e-02, 2.36376733e-03,\n",
       "        1.68251189e-01],\n",
       "       [9.71562128e-03, 8.20366835e-01, 1.83168864e-02, 3.13212808e-03,\n",
       "        1.48468530e-01],\n",
       "       [7.15546078e-03, 7.88432195e-01, 7.76736091e-03, 7.71131796e-03,\n",
       "        1.88933665e-01],\n",
       "       [2.16926335e-03, 6.37614445e-01, 1.39823299e-02, 3.01502487e-03,\n",
       "        3.43218937e-01],\n",
       "       [6.64664570e-03, 7.81291109e-01, 8.74309242e-03, 6.70997277e-03,\n",
       "        1.96609181e-01],\n",
       "       [4.53247229e-03, 7.38527463e-01, 1.88170339e-02, 2.70150414e-03,\n",
       "        2.35421527e-01],\n",
       "       [6.89708258e-03, 7.84921059e-01, 8.24165089e-03, 7.19370267e-03,\n",
       "        1.92746504e-01],\n",
       "       [1.17071426e-02, 8.36364179e-01, 9.96670790e-03, 6.20350285e-03,\n",
       "        1.35758468e-01],\n",
       "       [7.11315796e-03, 7.90272508e-01, 1.23809214e-02, 4.64803488e-03,\n",
       "        1.85585377e-01],\n",
       "       [9.40964053e-03, 8.17917104e-01, 1.61675854e-02, 3.58634160e-03,\n",
       "        1.52919328e-01],\n",
       "       [1.43177651e-02, 8.51860682e-01, 1.28560799e-02, 4.73692879e-03,\n",
       "        1.16228545e-01],\n",
       "       [5.14681616e-03, 7.43716187e-01, 4.27033672e-03, 1.37335016e-02,\n",
       "        2.33133158e-01],\n",
       "       [2.43286528e-03, 6.55107602e-01, 2.00745805e-02, 2.11549654e-03,\n",
       "        3.20269456e-01],\n",
       "       [2.00060212e-04, 2.55357188e-02, 9.69994047e-01, 2.92365618e-08,\n",
       "        4.27014447e-03],\n",
       "       [2.73271676e-04, 4.29731147e-02, 9.47850106e-01, 9.23938561e-08,\n",
       "        8.90341502e-03],\n",
       "       [6.98091811e-04, 5.50185090e-02, 9.37950837e-01, 1.41000663e-07,\n",
       "        6.33242142e-03],\n",
       "       [5.25907587e-04, 3.57506584e-02, 9.60202852e-01, 5.43279412e-08,\n",
       "        3.52052732e-03],\n",
       "       [1.94041769e-04, 2.47811621e-02, 9.70886381e-01, 2.74260279e-08,\n",
       "        4.13838772e-03],\n",
       "       [7.30687238e-04, 9.38666313e-02, 8.88265523e-01, 4.95679863e-07,\n",
       "        1.71366628e-02],\n",
       "       [2.48917206e-04, 2.06110171e-02, 9.76808552e-01, 1.72886067e-08,\n",
       "        2.33149633e-03],\n",
       "       [5.22047068e-04, 7.86563478e-02, 9.04505898e-01, 3.43692478e-07,\n",
       "        1.63153633e-02],\n",
       "       [3.50953184e-04, 6.20863543e-02, 9.22969757e-01, 2.09761211e-07,\n",
       "        1.45927262e-02],\n",
       "       [1.27410934e-03, 8.51934020e-02, 9.04796669e-01, 3.58003559e-07,\n",
       "        8.73546187e-03],\n",
       "       [2.81408530e-04, 5.64988317e-02, 9.28476683e-01, 1.74368834e-07,\n",
       "        1.47429024e-02],\n",
       "       [7.85330408e-04, 6.17577952e-02, 9.30310182e-01, 1.81264029e-07,\n",
       "        7.14651115e-03],\n",
       "       [3.08902944e-04, 4.70057913e-02, 9.43168621e-01, 1.11571774e-07,\n",
       "        9.51657330e-03],\n",
       "       [1.60772737e-04, 5.16183965e-02, 9.28035081e-01, 1.55263899e-07,\n",
       "        2.01855941e-02],\n",
       "       [5.14938175e-04, 4.33901934e-02, 9.50878539e-01, 8.52619386e-08,\n",
       "        5.21624394e-03],\n",
       "       [5.24394988e-04, 3.67591451e-02, 9.58991841e-01, 5.79512958e-08,\n",
       "        3.72456092e-03],\n",
       "       [1.52735670e-03, 1.11539864e-01, 8.74356327e-01, 6.63468520e-07,\n",
       "        1.25757895e-02],\n",
       "       [1.25859531e-03, 1.07503958e-01, 8.77372355e-01, 6.26859092e-07,\n",
       "        1.38644653e-02],\n",
       "       [2.65344070e-04, 8.96902254e-02, 8.72001108e-01, 5.34463661e-07,\n",
       "        3.80427885e-02],\n",
       "       [1.44091613e-04, 5.40209200e-02, 9.21572725e-01, 1.76341853e-07,\n",
       "        2.42620868e-02],\n",
       "       [3.39040242e-04, 7.27181974e-02, 1.20720590e-06, 8.81476385e-01,\n",
       "        4.54651706e-02],\n",
       "       [3.45322509e-04, 2.43170740e-02, 1.16753778e-07, 9.69150015e-01,\n",
       "        6.18747156e-03],\n",
       "       [1.48398391e-04, 4.17639860e-02, 4.16791537e-07, 9.23975409e-01,\n",
       "        3.41117894e-02],\n",
       "       [3.66293977e-04, 4.29563729e-02, 3.82426516e-07, 9.40227158e-01,\n",
       "        1.64497923e-02],\n",
       "       [3.22094300e-04, 3.89061885e-02, 3.16270829e-07, 9.45400713e-01,\n",
       "        1.53706880e-02],\n",
       "       [4.12489023e-04, 3.64022399e-02, 2.64703423e-07, 9.52178383e-01,\n",
       "        1.10066232e-02],\n",
       "       [2.19683983e-04, 5.14329613e-02, 6.11042264e-07, 9.12939880e-01,\n",
       "        3.54068639e-02],\n",
       "       [7.13452437e-04, 5.42177568e-02, 5.66082617e-07, 9.30985527e-01,\n",
       "        1.40826972e-02],\n",
       "       [6.29819911e-04, 4.77569175e-02, 4.40613267e-07, 9.39141251e-01,\n",
       "        1.24715715e-02],\n",
       "       [6.06756004e-04, 6.52587989e-02, 8.63640814e-07, 9.11498033e-01,\n",
       "        2.26355489e-02],\n",
       "       [3.77956621e-04, 4.43485223e-02, 4.07230972e-07, 9.38313097e-01,\n",
       "        1.69600174e-02],\n",
       "       [3.43187653e-04, 5.52693669e-02, 6.62213328e-07, 9.16954959e-01,\n",
       "        2.74318240e-02],\n",
       "       [5.77115572e-04, 5.63649921e-02, 6.35490579e-07, 9.24914011e-01,\n",
       "        1.81432459e-02],\n",
       "       [2.63359635e-04, 4.94987057e-02, 5.45600319e-07, 9.21983459e-01,\n",
       "        2.82539299e-02],\n",
       "       [1.63523588e-04, 2.14779671e-02, 1.00628566e-07, 9.68927051e-01,\n",
       "        9.43135792e-03],\n",
       "       [3.83475335e-04, 5.27738818e-02, 5.88875547e-07, 9.23911522e-01,\n",
       "        2.29305321e-02],\n",
       "       [4.09502603e-04, 2.46679898e-02, 1.17336758e-07, 9.69442442e-01,\n",
       "        5.47994826e-03],\n",
       "       [2.70945742e-04, 2.52984698e-02, 1.31409382e-07, 9.66233668e-01,\n",
       "        8.19678556e-03],\n",
       "       [9.43978472e-04, 6.98388013e-02, 9.32126232e-07, 9.11751111e-01,\n",
       "        1.74651771e-02],\n",
       "       [6.01318513e-05, 1.25124210e-02, 3.79085563e-08, 9.79002524e-01,\n",
       "        8.42488482e-03],\n",
       "       [9.61434509e-01, 3.81346464e-02, 2.56405634e-04, 1.65230324e-04,\n",
       "        9.20910013e-06],\n",
       "       [9.30991292e-01, 6.80497344e-02, 2.26111811e-04, 7.03648023e-04,\n",
       "        2.92140070e-05],\n",
       "       [9.40782959e-01, 5.83513698e-02, 7.02723700e-04, 1.42833502e-04,\n",
       "        2.01136886e-05],\n",
       "       [9.55639357e-01, 4.38006581e-02, 1.55272312e-04, 3.92249617e-04,\n",
       "        1.24631125e-05],\n",
       "       [8.91063366e-01, 1.06944921e-01, 1.71551962e-03, 2.11698091e-04,\n",
       "        6.44952269e-05],\n",
       "       [8.67685657e-01, 1.30491353e-01, 5.44925067e-04, 1.17430483e-03,\n",
       "        1.03760101e-04],\n",
       "       [9.43229940e-01, 5.61150738e-02, 3.74813754e-04, 2.60859016e-04,\n",
       "        1.93131340e-05],\n",
       "       [9.50768929e-01, 4.86273058e-02, 4.25047135e-04, 1.64282786e-04,\n",
       "        1.44353544e-05],\n",
       "       [9.46360813e-01, 5.30088445e-02, 3.99189918e-04, 2.13965893e-04,\n",
       "        1.71867785e-05],\n",
       "       [8.87590068e-01, 1.10147840e-01, 2.00328216e-03, 1.90922548e-04,\n",
       "        6.78873686e-05],\n",
       "       [9.54165727e-01, 4.49788681e-02, 7.71986193e-04, 7.14704482e-05,\n",
       "        1.19483742e-05],\n",
       "       [9.68595202e-01, 3.10295074e-02, 2.72007387e-04, 9.71616906e-05,\n",
       "        6.12173077e-06],\n",
       "       [9.48375024e-01, 5.06526912e-02, 8.75891608e-04, 8.13940686e-05,\n",
       "        1.49989754e-05],\n",
       "       [8.83174484e-01, 1.15259100e-01, 1.06557929e-03, 4.23577281e-04,\n",
       "        7.72589951e-05],\n",
       "       [9.64805424e-01, 3.48079906e-02, 2.18768000e-04, 1.60047864e-04,\n",
       "        7.76916771e-06],\n",
       "       [9.67907539e-01, 3.17448446e-02, 1.80821179e-04, 1.60237413e-04,\n",
       "        6.55770408e-06],\n",
       "       [9.35072101e-01, 6.38682548e-02, 9.02848715e-04, 1.33072658e-04,\n",
       "        2.37231356e-05],\n",
       "       [8.74598908e-01, 1.22910046e-01, 2.18361247e-03, 2.22874933e-04,\n",
       "        8.45587096e-05],\n",
       "       [9.52779250e-01, 4.63374743e-02, 7.96791757e-04, 7.38359792e-05,\n",
       "        1.26479111e-05],\n",
       "       [9.69087740e-01, 3.03910371e-02, 4.63981018e-04, 5.15468281e-05,\n",
       "        5.69541021e-06],\n",
       "       [9.43923139e-08, 1.03989840e-02, 2.24429174e-04, 1.25857054e-04,\n",
       "        9.89250635e-01],\n",
       "       [2.32581216e-08, 5.40451317e-03, 1.01330727e-04, 8.57488753e-05,\n",
       "        9.94408384e-01],\n",
       "       [4.84409722e-09, 2.68579865e-03, 1.07869261e-04, 2.10746626e-05,\n",
       "        9.97185253e-01],\n",
       "       [2.21331557e-08, 5.33864812e-03, 1.40920811e-04, 5.84981819e-05,\n",
       "        9.94461911e-01],\n",
       "       [8.82351246e-08, 9.96282416e-03, 1.48630786e-04, 1.81628587e-04,\n",
       "        9.89706828e-01],\n",
       "       [4.17304330e-08, 7.10660761e-03, 1.43490039e-04, 9.90323279e-05,\n",
       "        9.92650828e-01],\n",
       "       [4.01790277e-08, 7.16143395e-03, 3.23732715e-04, 4.14460946e-05,\n",
       "        9.92473347e-01],\n",
       "       [9.41716417e-08, 1.03575466e-02, 2.03728555e-04, 1.38777126e-04,\n",
       "        9.89299854e-01],\n",
       "       [1.10267834e-07, 1.09160765e-02, 1.11525068e-04, 2.95592523e-04,\n",
       "        9.88676696e-01],\n",
       "       [4.53426652e-09, 2.58964706e-03, 8.39165556e-05, 2.58363212e-05,\n",
       "        9.97300596e-01],\n",
       "       [5.53332762e-08, 8.01234535e-03, 1.14054647e-04, 1.59868479e-04,\n",
       "        9.91713676e-01],\n",
       "       [5.03642524e-09, 2.66489838e-03, 4.78054889e-05, 5.03499196e-05,\n",
       "        9.97236941e-01],\n",
       "       [4.58525831e-08, 7.22377207e-03, 6.11271705e-05, 2.58661211e-04,\n",
       "        9.92456394e-01],\n",
       "       [1.04622109e-07, 1.07269854e-02, 1.36335078e-04, 2.29749551e-04,\n",
       "        9.88906825e-01]])"
      ]
     },
     "execution_count": 269,
     "metadata": {},
     "output_type": "execute_result"
    }
   ],
   "source": [
    "u_list"
   ]
  },
  {
   "cell_type": "code",
   "execution_count": 153,
   "id": "a8757134-d56b-42e3-895e-b50f295b8467",
   "metadata": {},
   "outputs": [],
   "source": [
    "np_cluster_kai1 = np.where(np_cluster==2, 1, np_cluster_kai)"
   ]
  },
  {
   "cell_type": "code",
   "execution_count": 154,
   "id": "d43fc338-3dfa-42cb-be44-ce325dbc6186",
   "metadata": {},
   "outputs": [
    {
     "data": {
      "text/plain": [
       "array([0, 1, 0, 3, 0, 1, 1, 0, 0, 1, 1, 1, 1, 1, 0, 1, 0, 1, 0, 0, 1, 1,\n",
       "       1, 0, 1, 1, 1, 1, 1, 1, 1, 1, 1, 1, 1, 1, 1, 1, 1, 1, 1, 1, 1, 1,\n",
       "       1, 0, 0, 0, 0, 0, 0, 0, 0, 0, 0, 0, 0, 0, 0, 0, 0, 0, 0, 0, 0, 3,\n",
       "       3, 1, 3, 1, 3, 3, 1, 3, 1, 1, 1, 1, 1, 3, 3, 1, 1, 1, 1, 0, 0, 1,\n",
       "       0, 0, 0, 1, 0, 0, 1, 0, 0, 0, 0])"
      ]
     },
     "execution_count": 154,
     "metadata": {},
     "output_type": "execute_result"
    }
   ],
   "source": [
    "np_cluster_kai1 "
   ]
  },
  {
   "cell_type": "code",
   "execution_count": 155,
   "id": "9df5b9b4-f9cf-48b7-8ba4-ddfc32e1da52",
   "metadata": {},
   "outputs": [],
   "source": [
    "np_cluster_kai2 = np.where(np_cluster==3, 2, np_cluster_kai1)"
   ]
  },
  {
   "cell_type": "code",
   "execution_count": 156,
   "id": "8d11e9d3-a28a-4001-ac76-ad18691c8a4c",
   "metadata": {},
   "outputs": [
    {
     "data": {
      "text/plain": [
       "array([0, 1, 0, 2, 0, 1, 1, 0, 0, 1, 1, 1, 1, 1, 0, 1, 0, 1, 0, 0, 1, 1,\n",
       "       1, 0, 1, 1, 1, 1, 1, 1, 1, 1, 1, 1, 1, 1, 1, 1, 1, 1, 1, 1, 1, 1,\n",
       "       1, 0, 0, 0, 0, 0, 0, 0, 0, 0, 0, 0, 0, 0, 0, 0, 0, 0, 0, 0, 0, 2,\n",
       "       2, 1, 2, 1, 2, 2, 1, 2, 1, 1, 1, 1, 1, 2, 2, 1, 1, 1, 1, 0, 0, 1,\n",
       "       0, 0, 0, 1, 0, 0, 1, 0, 0, 0, 0])"
      ]
     },
     "execution_count": 156,
     "metadata": {},
     "output_type": "execute_result"
    }
   ],
   "source": [
    "np_cluster_kai2"
   ]
  },
  {
   "cell_type": "code",
   "execution_count": 157,
   "id": "66b6a76c-ce04-4198-8c20-0ec0a8f7ae7c",
   "metadata": {},
   "outputs": [
    {
     "name": "stdout",
     "output_type": "stream",
     "text": [
      "41\n",
      "49\n",
      "9\n",
      "0\n",
      "0\n"
     ]
    }
   ],
   "source": [
    "print(np.count_nonzero(np_cluster_kai2==0))\n",
    "print(np.count_nonzero(np_cluster_kai2==1))\n",
    "print(np.count_nonzero(np_cluster_kai2==2))\n",
    "print(np.count_nonzero(np_cluster_kai2==3))\n",
    "print(np.count_nonzero(np_cluster_kai2==4))"
   ]
  },
  {
   "cell_type": "code",
   "execution_count": null,
   "id": "0571f2e6-9528-4792-b73e-21343826957e",
   "metadata": {},
   "outputs": [],
   "source": []
  }
 ],
 "metadata": {
  "kernelspec": {
   "display_name": "Python 3 (ipykernel)",
   "language": "python",
   "name": "python3"
  },
  "language_info": {
   "codemirror_mode": {
    "name": "ipython",
    "version": 3
   },
   "file_extension": ".py",
   "mimetype": "text/x-python",
   "name": "python",
   "nbconvert_exporter": "python",
   "pygments_lexer": "ipython3",
   "version": "3.9.7"
  }
 },
 "nbformat": 4,
 "nbformat_minor": 5
}
