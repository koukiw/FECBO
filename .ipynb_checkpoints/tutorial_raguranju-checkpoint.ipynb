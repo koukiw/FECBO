{
 "cells": [
  {
   "cell_type": "markdown",
   "id": "48cfa55d-7035-4994-932e-f74587741503",
   "metadata": {},
   "source": [
    "ラグランジュの未定乗数法の試し"
   ]
  },
  {
   "cell_type": "code",
   "execution_count": 2,
   "id": "fbdf64a3-ef9e-4860-bbd4-144d45301536",
   "metadata": {},
   "outputs": [],
   "source": [
    "from sympy import diff, symbols, solve\n",
    "\n",
    "# 変数を定義\n",
    "x, y, z, l = symbols(\"x y z l\")\n",
    "\n",
    "# 関数ｆを定義\n",
    "f = x * y**2 * z**3\n",
    "\n",
    "# 制約条件ｇを定義\n",
    "g = x + y + z - 1"
   ]
  },
  {
   "cell_type": "code",
   "execution_count": 3,
   "id": "7d14cc87-3bdf-4689-b15e-0affdb702ba6",
   "metadata": {},
   "outputs": [],
   "source": [
    "# 定理式に代入\n",
    "theor = f - l * g\n",
    "\n",
    "# 各変数で偏微分する\n",
    "diffx = diff(theor, x)\n",
    "diffy = diff(theor, y)\n",
    "diffz = diff(theor, z)\n",
    "diffl = diff(theor, l)\n",
    "\n",
    "res = solve([diffx, diffy, diffz, diffl])"
   ]
  },
  {
   "cell_type": "code",
   "execution_count": 4,
   "id": "b0ec68fa-99fa-4337-ac79-afad8e1ddc99",
   "metadata": {},
   "outputs": [
    {
     "name": "stdout",
     "output_type": "stream",
     "text": [
      "[{l: 0, x: 1 - y, z: 0}, {l: 0, x: 1 - z, y: 0}, {l: 0, x: 0, y: 0, z: 1}, {l: 0, x: 1/3, y: 2/3, z: 0}, {l: 1/72, x: 1/6, y: 1/3, z: 1/2}]\n"
     ]
    }
   ],
   "source": [
    "print(res)"
   ]
  },
  {
   "cell_type": "code",
   "execution_count": 5,
   "id": "85e44a1f-4b9c-4fb2-869f-65c6171d6555",
   "metadata": {},
   "outputs": [],
   "source": [
    "from sympy import diff, symbols, solve\n",
    "\n",
    "# 変数を定義\n",
    "x, y, z, l = symbols(\"x y z l\")\n",
    "\n",
    "# 関数ｆを定義\n",
    "f = x * y**2 * z**3\n",
    "\n",
    "# 制約条件ｇを定義\n",
    "g = x + y + z - 1\n",
    "\n",
    "# 定理式に代入\n",
    "theor = f - l * g\n",
    "\n",
    "# 各変数で偏微分する\n",
    "diffx = diff(theor, x)\n",
    "diffy = diff(theor, y)\n",
    "diffz = diff(theor, z)\n",
    "diffl = diff(theor, l)\n",
    "\n",
    "# 連立方程式を解く\n",
    "res = solve([diffx, diffy, diffz, diffl])"
   ]
  },
  {
   "cell_type": "code",
   "execution_count": 6,
   "id": "5adf2944-5fde-4072-ba63-26d2fd49adc0",
   "metadata": {},
   "outputs": [
    {
     "name": "stdout",
     "output_type": "stream",
     "text": [
      "[{l: 0, x: 1 - y, z: 0}, {l: 0, x: 1 - z, y: 0}, {l: 0, x: 0, y: 0, z: 1}, {l: 0, x: 1/3, y: 2/3, z: 0}, {l: 1/72, x: 1/6, y: 1/3, z: 1/2}]\n"
     ]
    }
   ],
   "source": [
    "print(res)"
   ]
  },
  {
   "cell_type": "code",
   "execution_count": 10,
   "id": "301b3005-d337-4827-b424-cc07a7ae032b",
   "metadata": {},
   "outputs": [
    {
     "data": {
      "text/plain": [
       "{l: 1/72, x: 1/6, y: 1/3, z: 1/2}"
      ]
     },
     "execution_count": 10,
     "metadata": {},
     "output_type": "execute_result"
    }
   ],
   "source": [
    "res[-1]#これが答え"
   ]
  },
  {
   "cell_type": "code",
   "execution_count": null,
   "id": "a56f236e-2766-4a9c-8f77-65235ada3db6",
   "metadata": {},
   "outputs": [],
   "source": []
  }
 ],
 "metadata": {
  "kernelspec": {
   "display_name": "Python 3 (ipykernel)",
   "language": "python",
   "name": "python3"
  },
  "language_info": {
   "codemirror_mode": {
    "name": "ipython",
    "version": 3
   },
   "file_extension": ".py",
   "mimetype": "text/x-python",
   "name": "python",
   "nbconvert_exporter": "python",
   "pygments_lexer": "ipython3",
   "version": "3.9.7"
  }
 },
 "nbformat": 4,
 "nbformat_minor": 5
}
