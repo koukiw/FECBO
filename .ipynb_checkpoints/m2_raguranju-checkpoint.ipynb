{
 "cells": [
  {
   "cell_type": "markdown",
   "metadata": {},
   "source": [
    "ラグランジュの未定乗数法だと帰属度がマイナスの値取ってしまう1/10"
   ]
  },
  {
   "cell_type": "code",
   "execution_count": 20,
   "metadata": {},
   "outputs": [
    {
     "name": "stdin",
     "output_type": "stream",
     "text": [
      "Once deleted, variables cannot be recovered. Proceed (y/[n])?  y\n"
     ]
    }
   ],
   "source": [
    "%reset"
   ]
  },
  {
   "cell_type": "code",
   "execution_count": 21,
   "metadata": {},
   "outputs": [],
   "source": [
    "import pandas as pd\n",
    "import numpy as np\n",
    "import matplotlib.pyplot as plt\n",
    "#sysはコマンドライン引数\n",
    "import sys\n",
    "import csv\n",
    "np.seterr(divide='ignore', invalid='ignore')\n",
    "#csvファイルの読み込み、一行目はヘッダーじゃない\n",
    "df = pd.read_csv(\"output.csv\",header=None)\n",
    "#クラスタ数宣言\n",
    "c=2\n",
    "#Kはクラスタサイズ\n",
    "K=5\n",
    "#dfをnumpyで扱えるnp.ndarray変換\n",
    "X = df.values\n",
    "#配列の行数、列数の格納\n",
    "\n",
    "X_size,dimension = X.shape\n",
    "\n",
    "\n",
    "centroids = X[np.random.choice(X_size,c)]\n",
    "distances=np.zeros((X_size,c))"
   ]
  },
  {
   "cell_type": "code",
   "execution_count": 22,
   "metadata": {},
   "outputs": [],
   "source": [
    "#dにはd11,d12,d13,d14,d21,d22,,,dn1,,dncの順でリスト作る\n",
    "d=[]\n",
    "for i in range(X_size):\n",
    "    for j in range(c):\n",
    "        d.append(np.sum((X[i]-centroids[j])**2))\n",
    "d = [0.0000000001 if i == 0 else i for i in d]"
   ]
  },
  {
   "cell_type": "code",
   "execution_count": 3,
   "metadata": {},
   "outputs": [
    {
     "data": {
      "text/plain": [
       "[0.037423585556,\n",
       " 0.03822570388899998,\n",
       " 0.041559295555999985,\n",
       " 0.032134479444999975,\n",
       " 0.08647597555599998,\n",
       " 0.00010137944500000041,\n",
       " 0.04569999999999999,\n",
       " 0.030344904444999977,\n",
       " 0.16898525111199994,\n",
       " 0.08168416388899997,\n",
       " 0.08857832444499997,\n",
       " 1e-10,\n",
       " 0.28432386497800005,\n",
       " 0.14067954388900006,\n",
       " 0.09769999999999997,\n",
       " 0.04101150444499998,\n",
       " 0.143128944445,\n",
       " 0.05780138777800003,\n",
       " 1e-10,\n",
       " 0.08857832444499997]"
      ]
     },
     "execution_count": 3,
     "metadata": {},
     "output_type": "execute_result"
    }
   ],
   "source": [
    "d"
   ]
  },
  {
   "cell_type": "code",
   "execution_count": 47,
   "metadata": {},
   "outputs": [],
   "source": [
    "#dを小数第3位で四捨五入\n",
    "#d = [round(d[n], 2) for n in range(len(d))] "
   ]
  },
  {
   "cell_type": "code",
   "execution_count": 48,
   "metadata": {},
   "outputs": [
    {
     "data": {
      "text/plain": [
       "[0.034870411111999976,\n",
       " 0.034195399444999997,\n",
       " 0.028999999999999974,\n",
       " 0.030694438889000017,\n",
       " 1e-10,\n",
       " 0.053361218889000014,\n",
       " 0.027225695555999976,\n",
       " 0.02751202444500001,\n",
       " 0.07641761555599996,\n",
       " 0.002075713888999991,\n",
       " 0.00010137944500000041,\n",
       " 0.05780138777800003,\n",
       " 0.13465901557800003,\n",
       " 0.024758896689000005,\n",
       " 0.03705889555599997,\n",
       " 0.004345224445000007,\n",
       " 0.053361218889000014,\n",
       " 1e-10,\n",
       " 0.08647597555599998,\n",
       " 0.143128944445]"
      ]
     },
     "execution_count": 48,
     "metadata": {},
     "output_type": "execute_result"
    }
   ],
   "source": [
    "d"
   ]
  },
  {
   "cell_type": "code",
   "execution_count": 23,
   "metadata": {},
   "outputs": [],
   "source": [
    "from sympy import diff,symbols,solve\n",
    "#距離dの定数定義\n",
    "#d0,d1,d2,d3,d4,d5,d6,d7,d8,d9,d10,d11,d12,d13,d14,d15,d16,d17,d18,d19\\\n",
    "#= symbols(\"d0 d1 d2 d3 d4 d5 d6 d7 d8 d9 d10 \\\n",
    "#d11 d12 d13 d14 d15 d16 d17 d18 d19\")\n",
    "#帰属度uの変数定義\n",
    "u0,u1,u2,u3,u4,u5,u6,u7,u8,u9,u10,u11,u12,u13,u14,u15,u16,u17,u18,u19\\\n",
    "= symbols(\"u0 u1 u2 u3 u4 u5 u6 u7 u8 u9 u10 \\\n",
    "u11 u12 u13 u14 u15 u16 u17 u18 u19\")\n",
    "#条件式の変数定義\n",
    "g0,g1,g2,g3,g4,g5,g6,g7,g8,g9,g10,g11\\\n",
    "= symbols(\"g0 g1 g2 g3 g4 g5 g6 g7 g8 g9 g10 g11\")\n",
    "#ラムダ変数の定義\n",
    "l0,l1,l2,l3,l4,l5,l6,l7,l8,l9,l10,l11\\\n",
    "= symbols(\"l0 l1 l2 l3 l4 l5 l6 l7 l8 l9 l10 l11\")"
   ]
  },
  {
   "cell_type": "code",
   "execution_count": 24,
   "metadata": {},
   "outputs": [
    {
     "data": {
      "text/latex": [
       "$\\displaystyle 0.037423585556 u_{0}^{2} + 1.0 \\cdot 10^{-10} u_{1}^{2} + 0.088578324445 u_{10}^{2} + 0.038225703889 u_{11}^{2} + 0.284323864978 u_{12}^{2} + 0.115661594978 u_{13}^{2} + 0.0977 u_{14}^{2} + 0.014240305556 u_{15}^{2} + 0.143128944445 u_{16}^{2} + 0.034195399445 u_{17}^{2} + 1.0 \\cdot 10^{-10} u_{18}^{2} + 0.037423585556 u_{19}^{2} + 0.041559295556 u_{2}^{2} + 0.000320171112 u_{3}^{2} + 0.086475975556 u_{4}^{2} + 0.034870411112 u_{5}^{2} + 0.0457 u_{6}^{2} + 0.000740305555999999 u_{7}^{2} + 0.168985251112 u_{8}^{2} + 0.047694735556 u_{9}^{2}$"
      ],
      "text/plain": [
       "0.037423585556*u0**2 + 1.0e-10*u1**2 + 0.088578324445*u10**2 + 0.038225703889*u11**2 + 0.284323864978*u12**2 + 0.115661594978*u13**2 + 0.0977*u14**2 + 0.014240305556*u15**2 + 0.143128944445*u16**2 + 0.034195399445*u17**2 + 1.0e-10*u18**2 + 0.037423585556*u19**2 + 0.041559295556*u2**2 + 0.000320171112*u3**2 + 0.086475975556*u4**2 + 0.034870411112*u5**2 + 0.0457*u6**2 + 0.000740305555999999*u7**2 + 0.168985251112*u8**2 + 0.047694735556*u9**2"
      ]
     },
     "execution_count": 24,
     "metadata": {},
     "output_type": "execute_result"
    }
   ],
   "source": [
    "f = u0**2*d[0] + u1**2*d[1] + u2**2*d[2] + u3**2*d[3] + u4**2*d[4] + u5**2*d[5] +\\\n",
    "u6**2*d[6] + u7**2*d[7] + u8**2*d[8] + u9**2*d[9] + u10**2*d[10] + u11**2*d[11] +\\\n",
    "u12**2*d[12] + u13**2*d[13] + u14**2*d[14] + u15**2*d[15] + u16**2*d[16] + u17**2*d[17] +\\\n",
    "u18**2*d[18]+ u19**2*d[19]\n",
    "f"
   ]
  },
  {
   "cell_type": "code",
   "execution_count": 25,
   "metadata": {},
   "outputs": [],
   "source": [
    "#帰属度が1になる制約式\n",
    "g0 = u0 + u1 -1\n",
    "g1 = u2 + u3 -1\n",
    "g2 = u4 + u5 -1\n",
    "g3 = u6 + u7 -1\n",
    "g4 = u8 + u9 -1\n",
    "g5 = u10 + u11 -1\n",
    "g6 = u12 + u13 -1\n",
    "g7 = u14 + u15 -1\n",
    "g8 = u16 + u17 -1\n",
    "g9 = u18 + u19 -1\n",
    "#クラスタサイズがcになる制約式\n",
    "g10 = u0+u2+u4+u6+u8+u10+u12+u14+u16+u18-5\n",
    "#g11 = u1+u3+u5+u7+u9+u11+u13+u15+u17+u19-5"
   ]
  },
  {
   "cell_type": "code",
   "execution_count": 26,
   "metadata": {},
   "outputs": [],
   "source": [
    "# 定理式に代入\n",
    "theor = f-l0*g0-l1*g1-l2*g2-l3*g3-l4*g4-l5*g5-l6*g6-l7*g7-l8*g8-l9*g9-l10*g10\n",
    "# 各変数で偏微分する\n",
    "diff_u0 = diff(theor, u0)\n",
    "diff_u1 = diff(theor, u1)\n",
    "diff_u2 = diff(theor, u2)\n",
    "diff_u3 = diff(theor, u3)\n",
    "diff_u4 = diff(theor, u4)\n",
    "diff_u5 = diff(theor, u5)\n",
    "diff_u6 = diff(theor, u6)\n",
    "diff_u7 = diff(theor, u7)\n",
    "diff_u8 = diff(theor, u8)\n",
    "diff_u9 = diff(theor, u9)\n",
    "diff_u10 = diff(theor, u10)\n",
    "diff_u11 = diff(theor, u11)\n",
    "diff_u12 = diff(theor, u12)\n",
    "diff_u13 = diff(theor, u13)\n",
    "diff_u14 = diff(theor, u14)\n",
    "diff_u15 = diff(theor, u15)\n",
    "diff_u16 = diff(theor, u16)\n",
    "diff_u17 = diff(theor, u17)\n",
    "diff_u18 = diff(theor, u18)\n",
    "diff_u19 = diff(theor, u19)\n",
    "\n",
    "diff_l0 = diff(theor, l0)\n",
    "diff_l1 = diff(theor, l1)\n",
    "diff_l2 = diff(theor, l2)\n",
    "diff_l3 = diff(theor, l3)\n",
    "diff_l4 = diff(theor, l4)\n",
    "diff_l5 = diff(theor, l5)\n",
    "diff_l6 = diff(theor, l6)\n",
    "diff_l7 = diff(theor, l7)\n",
    "diff_l8 = diff(theor, l8)\n",
    "diff_l9 = diff(theor, l9)\n",
    "diff_l10 = diff(theor, l10)\n",
    "#diff_l11 = diff(theor, l11)"
   ]
  },
  {
   "cell_type": "code",
   "execution_count": 8,
   "metadata": {},
   "outputs": [
    {
     "data": {
      "text/latex": [
       "$\\displaystyle - u_{18} - u_{19} + 1$"
      ],
      "text/plain": [
       "-u18 - u19 + 1"
      ]
     },
     "execution_count": 8,
     "metadata": {},
     "output_type": "execute_result"
    }
   ],
   "source": [
    "diff_l9"
   ]
  },
  {
   "cell_type": "code",
   "execution_count": 10,
   "metadata": {},
   "outputs": [
    {
     "name": "stdout",
     "output_type": "stream",
     "text": [
      "[-l0 - l10 + 0.000640342223999999*u0, -l0 - l11 + 0.0953894711119999*u1, -l1 - l10 + 2.0e-10*u2, -l1 - l11 + 0.089068111112*u3, -l10 - l2 + 0.0579999999999999*u4, -l11 - l2 + 0.152835231112*u5, -l10 - l3 + 0.000218031112*u6, -l11 - l3 + 0.082003382224*u7, -l10 - l4 + 0.089068111112*u8, -l11 - l4 + 2.0e-10*u9, -l10 - l5 + 0.0642689588899999*u10, -l11 - l5 + 0.163368327778*u11, -l10 - l6 + 0.220049791156*u12, -l11 - l6 + 0.029990581156*u13, -l10 - l7 + 0.023884431112*u14, -l11 - l7 + 0.021669782224*u15, -l10 - l8 + 0.061388877778*u16, -l11 - l8 + 0.00415142777799998*u17, -l10 - l9 + 0.083118591112*u18, -l11 - l9 + 0.337970502224*u19, -u0 - u1 + 1, -u2 - u3 + 1, -u4 - u5 + 1, -u6 - u7 + 1, -u8 - u9 + 1, -u10 - u11 + 1, -u12 - u13 + 1, -u14 - u15 + 1, -u16 - u17 + 1, -u18 - u19 + 1, -u0 - u10 - u12 - u14 - u16 - u18 - u2 - u4 - u6 - u8 + 5, -u1 - u11 - u13 - u15 - u17 - u19 - u3 - u5 - u7 - u9 + 5]\n"
     ]
    }
   ],
   "source": [
    "print([diff_u0, diff_u1, diff_u2, diff_u3, diff_u4, diff_u5, diff_u6, diff_u7, diff_u8, diff_u9, diff_u10, diff_u11,\\\n",
    "             diff_u12, diff_u13, diff_u14, diff_u15, diff_u16, diff_u17, diff_u18, diff_u19, diff_l0, diff_l1, diff_l2,\\\n",
    "             diff_l3, diff_l4, diff_l5, diff_l6, diff_l7, diff_l8, diff_l9, diff_l10, diff_l11])"
   ]
  },
  {
   "cell_type": "code",
   "execution_count": 27,
   "metadata": {},
   "outputs": [],
   "source": [
    "res = solve([diff_u0, diff_u1, diff_u2, diff_u3, diff_u4, diff_u5, diff_u6, diff_u7, diff_u8, diff_u9, diff_u10, diff_u11,\\\n",
    "             diff_u12, diff_u13, diff_u14, diff_u15, diff_u16, diff_u17, diff_u18, diff_u19, diff_l0, diff_l1, diff_l2,\\\n",
    "             diff_l3, diff_l4, diff_l5, diff_l6, diff_l7, diff_l8,diff_l9, diff_l10])"
   ]
  },
  {
   "cell_type": "code",
   "execution_count": 28,
   "metadata": {},
   "outputs": [
    {
     "data": {
      "text/plain": [
       "{l0: 9.99627262597830e-11,\n",
       " l1: 0.000349234501202513,\n",
       " l10: 0.0374375346260973,\n",
       " l2: 0.0389417727566531,\n",
       " l3: 0.000860216410152290,\n",
       " l4: 0.0661521197036272,\n",
       " l5: 0.0421190206624788,\n",
       " l6: 0.153607129787143,\n",
       " l7: 0.0200949404428607,\n",
       " l8: 0.0479827598255695,\n",
       " l9: -0.0374375343260600,\n",
       " u0: 0.500186368701085,\n",
       " u1: 0.499813631298915,\n",
       " u10: 0.449074622866536,\n",
       " u11: 0.550925377133464,\n",
       " u12: 0.335963118023918,\n",
       " u13: 0.664036881976082,\n",
       " u14: 0.294434365757206,\n",
       " u15: 0.705565634242794,\n",
       " u16: 0.298403285173710,\n",
       " u17: 0.701596714826290,\n",
       " u18: 1.50018636335686,\n",
       " u19: -0.500186363356862,\n",
       " u2: 0.454612724082188,\n",
       " u3: 0.545387275917812,\n",
       " u4: 0.441621542235674,\n",
       " u5: 0.558378457764326,\n",
       " u6: 0.419012593394416,\n",
       " u7: 0.580987406605584,\n",
       " u8: 0.306505016408406,\n",
       " u9: 0.693494983591594}"
      ]
     },
     "execution_count": 28,
     "metadata": {},
     "output_type": "execute_result"
    }
   ],
   "source": [
    "res"
   ]
  },
  {
   "cell_type": "code",
   "execution_count": 13,
   "metadata": {},
   "outputs": [],
   "source": [
    "l_list=[]\n",
    "l_list.extend([res[l0],res[l1],res[l2],res[l3],res[l4],res[l5],res[l6],res[l7],res[l8],res[l10],res[l11]])"
   ]
  },
  {
   "cell_type": "code",
   "execution_count": 14,
   "metadata": {},
   "outputs": [
    {
     "data": {
      "text/plain": [
       "[l9 + 0.0529743009787368,\n",
       " l9 + 0.0535193469951948,\n",
       " l9 + 0.0307992705762155,\n",
       " l9 + 0.0548811912744114,\n",
       " l9 + 0.130783002320601,\n",
       " l9 + 0.030632619139942,\n",
       " l9 + 0.208719944408068,\n",
       " l9 + 0.0793478152859887,\n",
       " l9 + 0.104168033838034,\n",
       " 2.34582522492334e-10 - l9,\n",
       " -l9 - 0.0306326189745245]"
      ]
     },
     "execution_count": 14,
     "metadata": {},
     "output_type": "execute_result"
    }
   ],
   "source": [
    "l_list"
   ]
  },
  {
   "cell_type": "code",
   "execution_count": 15,
   "metadata": {},
   "outputs": [],
   "source": [
    "u_list=[]\n",
    "u_list.extend([res[u0],res[u1],res[u2],res[u3],res[u4],res[u5],res[u6],res[u7],res[u8],res[u9],res[u10],res[u11],\\\n",
    "        res[u12],res[u13],res[u14],res[u15],res[u16],res[u17],res[u18],res[u19]])"
   ]
  },
  {
   "cell_type": "code",
   "execution_count": 16,
   "metadata": {},
   "outputs": [
    {
     "data": {
      "text/plain": [
       "[0.898003579248763,\n",
       " 0.101996420751237,\n",
       " 0.897220732686087,\n",
       " 0.102779267313913,\n",
       " 0.681484187118577,\n",
       " 0.318515812881423,\n",
       " 0.886010398588250,\n",
       " 0.113989601411750,\n",
       " -0.102779262822968,\n",
       " 1.10277926282297,\n",
       " 0.677454801072347,\n",
       " 0.322545198927653,\n",
       " 0.0833314474044983,\n",
       " 0.916668552595502,\n",
       " 0.274736984480600,\n",
       " 0.725263015519400,\n",
       " -0.0763335965745040,\n",
       " 1.07633359657450,\n",
       " 0.780870728798350,\n",
       " 0.219129271201650]"
      ]
     },
     "execution_count": 16,
     "metadata": {},
     "output_type": "execute_result"
    }
   ],
   "source": [
    "u_list"
   ]
  },
  {
   "cell_type": "code",
   "execution_count": 17,
   "metadata": {},
   "outputs": [],
   "source": [
    "u = np.array(u_list)"
   ]
  },
  {
   "cell_type": "code",
   "execution_count": 36,
   "metadata": {},
   "outputs": [
    {
     "data": {
      "text/plain": [
       "array([0.707766244552510, 0.292233755447490, 0.643891414829945,\n",
       "       0.356108585170055, 0.178079926897460, 0.821920073102540,\n",
       "       0.600450672964923, 0.399549327035077, 0.386965731312560,\n",
       "       0.613034268687440, 0.172912614719558, 0.827087385280442,\n",
       "       0.367046123016794, 0.632953876983206, 0.406078892121654,\n",
       "       0.593921107878346, 0.363895767122929, 0.636104232877071,\n",
       "       1.17291261246167, -0.172912612461669], dtype=object)"
      ]
     },
     "execution_count": 36,
     "metadata": {},
     "output_type": "execute_result"
    }
   ],
   "source": [
    "u"
   ]
  },
  {
   "cell_type": "code",
   "execution_count": 18,
   "metadata": {},
   "outputs": [
    {
     "name": "stdout",
     "output_type": "stream",
     "text": [
      "[[0.898003579248763 0.101996420751237]\n",
      " [0.897220732686087 0.102779267313913]\n",
      " [0.681484187118577 0.318515812881423]\n",
      " [0.886010398588250 0.113989601411750]\n",
      " [-0.102779262822968 1.10277926282297]\n",
      " [0.677454801072347 0.322545198927653]\n",
      " [0.0833314474044983 0.916668552595502]\n",
      " [0.274736984480600 0.725263015519400]\n",
      " [-0.0763335965745040 1.07633359657450]\n",
      " [0.780870728798350 0.219129271201650]]\n"
     ]
    }
   ],
   "source": [
    "u_list = u.reshape([10,2])\n",
    "print(u_list)"
   ]
  },
  {
   "cell_type": "code",
   "execution_count": 38,
   "metadata": {},
   "outputs": [
    {
     "data": {
      "text/plain": [
       "numpy.ndarray"
      ]
     },
     "execution_count": 38,
     "metadata": {},
     "output_type": "execute_result"
    }
   ],
   "source": [
    "type(u_list)"
   ]
  },
  {
   "cell_type": "code",
   "execution_count": 39,
   "metadata": {},
   "outputs": [
    {
     "data": {
      "text/plain": [
       "array([1.00000000000000, 1.00000000000000, 1.00000000000000,\n",
       "       1.00000000000000, 1.00000000000000, 1.00000000000000,\n",
       "       1.00000000000000, 1.00000000000000, 1.00000000000000,\n",
       "       1.00000000000000], dtype=object)"
      ]
     },
     "execution_count": 39,
     "metadata": {},
     "output_type": "execute_result"
    }
   ],
   "source": [
    "np.sum(u_list,axis=1)"
   ]
  },
  {
   "cell_type": "code",
   "execution_count": 40,
   "metadata": {
    "tags": []
   },
   "outputs": [
    {
     "name": "stdout",
     "output_type": "stream",
     "text": [
      "1.00000000000000\n",
      "1.00000000000000\n",
      "1.00000000000000\n",
      "1.00000000000000\n",
      "1.00000000000000\n",
      "1.00000000000000\n",
      "1.00000000000000\n",
      "1.00000000000000\n",
      "1.00000000000000\n",
      "1.00000000000000\n",
      "5.00000000000000\n",
      "5.00000000000000\n"
     ]
    }
   ],
   "source": [
    "for i in range(0,20,2):\n",
    "    print(u[i]+u[i+1])\n",
    "print(u[0]+u[2]+u[4]+u[6]+u[8]+u[10]+u[12]+u[14]+u[16]+u[18])\n",
    "print(u[1]+u[3]+u[5]+u[7]+u[9]+u[11]+u[13]+u[15]+u[17]+u[19])"
   ]
  },
  {
   "cell_type": "code",
   "execution_count": 41,
   "metadata": {},
   "outputs": [
    {
     "name": "stdout",
     "output_type": "stream",
     "text": [
      "クラスター中心はcluster1:[0.527233610399947 0.515477157530712],cluster2:[0.624426389600053 0.570689642469288]\n"
     ]
    }
   ],
   "source": [
    "#分母計算(クラスタサイズになるはず)\n",
    "v0_denominator=0\n",
    "v1_denominator=0\n",
    "for i in range(0,20,2):\n",
    "    v0_denominator += u[i]\n",
    "for i in range(1,20,2):\n",
    "    v1_denominator += u[i]\n",
    "#print(v0_denominator,v1_denominator)\n",
    "#分子計算\n",
    "v0_numerator = 0\n",
    "v1_numerator = 0\n",
    "for i in range(10):\n",
    "    v0_numerator += u[i*2]*X[i]\n",
    "    v1_numerator += u[1+i*2]*X[i]\n",
    "#print(v0_numerator,v1_numerator)\n",
    "v=[0 for i in range(2)]\n",
    "v[0] = v0_numerator / v0_denominator\n",
    "v[1] = v1_numerator / v1_denominator\n",
    "print(\"クラスター中心はcluster1:{},cluster2:{}\".format(v[0],v[1]))"
   ]
  },
  {
   "cell_type": "code",
   "execution_count": 42,
   "metadata": {},
   "outputs": [
    {
     "name": "stdout",
     "output_type": "stream",
     "text": [
      "[0 0 1 0 1 1 1 1 1 0]\n"
     ]
    }
   ],
   "source": [
    "cluster = [0 for i in range(10)]\n",
    "for i in range (10):\n",
    "    if u[i*2]>u[1+i*2]:\n",
    "        cluster[i] = 0\n",
    "    else:\n",
    "        cluster[i] = 1\n",
    "np_cluster =np.array(cluster)\n",
    "print(np_cluster)"
   ]
  },
  {
   "cell_type": "code",
   "execution_count": 43,
   "metadata": {},
   "outputs": [
    {
     "data": {
      "image/png": "[encoded data removed]",
      "text/plain": [
       "<Figure size 432x288 with 1 Axes>"
      ]
     },
     "metadata": {
      "needs_background": "light"
     },
     "output_type": "display_data"
    }
   ],
   "source": [
    "#グラフ\n",
    "colors = ['red', 'blue', 'green','yellow','fuchsia']\n",
    "markers = [\",\", \"o\", \"v\", \"^\", \"<\", \">\", \"1\", \"2\", \"3\"]\n",
    "fig = plt.figure()\n",
    "ax = fig.add_subplot(111)\n",
    "#clusterはnp.array型じゃないとダメそう(リスト型だとグラフに描画されなかった)\n",
    "for i in range(c):\n",
    "    ax.scatter(X[:, 0][np_cluster==i], X[:, 1][np_cluster==i], color=colors[i],marker=markers[i])\n",
    "\n",
    "#ax.set_title('fecbo', size=16)\n",
    "ax.set_xlabel(\"X\", size=14)\n",
    "ax.set_ylabel(\"Y\", size=14)\n",
    "ax.legend(['cluster1', 'cluster2'])  # 凡例を表示\n",
    "\n",
    "plt.show()\n",
    "\n",
    "fig.savefig(\"img2d.pdf\")"
   ]
  },
  {
   "cell_type": "code",
   "execution_count": null,
   "metadata": {},
   "outputs": [],
   "source": []
  },
  {
   "cell_type": "code",
   "execution_count": null,
   "metadata": {},
   "outputs": [],
   "source": []
  }
 ],
 "metadata": {
  "kernelspec": {
   "display_name": "Python 3 (ipykernel)",
   "language": "python",
   "name": "python3"
  },
  "language_info": {
   "codemirror_mode": {
    "name": "ipython",
    "version": 3
   },
   "file_extension": ".py",
   "mimetype": "text/x-python",
   "name": "python",
   "nbconvert_exporter": "python",
   "pygments_lexer": "ipython3",
   "version": "3.9.7"
  }
 },
 "nbformat": 4,
 "nbformat_minor": 4
}
