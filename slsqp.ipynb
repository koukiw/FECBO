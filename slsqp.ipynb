{
 "cells": [
  {
   "cell_type": "markdown",
   "metadata": {},
   "source": [
    "逐次二次計画法を使って解いた、SLSQPでは勾配ベクトルを使うがヘシアン行列は使わない"
   ]
  },
  {
   "cell_type": "code",
   "execution_count": 69,
   "metadata": {},
   "outputs": [],
   "source": [
    "import pandas as pd\n",
    "import numpy as np\n",
    "import matplotlib.pyplot as plt\n",
    "#sysはコマンドライン引数\n",
    "import sys\n",
    "import csv\n",
    "np.seterr(divide='ignore', invalid='ignore')\n",
    "#csvファイルの読み込み、一行目はヘッダーじゃない\n",
    "df = pd.read_csv(\"output.csv\",header=None)\n",
    "#クラスタ数宣言\n",
    "c=2\n",
    "#Kはクラスタサイズ\n",
    "K=5\n",
    "#dfをnumpyで扱えるnp.ndarray変換\n",
    "X = df.values\n",
    "#配列の行数、列数の格納\n",
    "\n",
    "X_size,dimension = X.shape\n",
    "\n",
    "centroids = X[np.random.choice(X_size,c)]\n",
    "distances=np.zeros((X_size,c))"
   ]
  },
  {
   "cell_type": "code",
   "execution_count": 70,
   "metadata": {},
   "outputs": [
    {
     "name": "stdout",
     "output_type": "stream",
     "text": [
      "[0.0007403055559999994, 0.03822570388899998, 0.00010901555600000018, 0.032134479444999975, 0.027225695555999976, 0.00010137944500000041, 0.0, 0.030344904444999977, 0.041001691111999986, 0.08168416388899997, 0.030344904444999977, 0.0, 0.10412108497800004, 0.14067954388900006, 0.009999999999999995, 0.04101150444499998, 0.02751202444500001, 0.05780138777800003, 0.04569999999999999, 0.08857832444499997]\n"
     ]
    }
   ],
   "source": [
    "#pにはd11,d12,d13,d14,d21,d22,,,dn1,,dncの順でリスト作る\n",
    "p=[]\n",
    "for i in range(X_size):\n",
    "    for j in range(c):\n",
    "        p.append(np.sum((X[i]-centroids[j])**2))\n",
    "#p = [0.0000000001 if i == 0 else i for i in p]\n",
    "print(p)"
   ]
  },
  {
   "cell_type": "code",
   "execution_count": 71,
   "metadata": {},
   "outputs": [
    {
     "data": {
      "text/plain": [
       "array([[0.520833, 0.519167],\n",
       "       [0.5175  , 0.693333]])"
      ]
     },
     "execution_count": 71,
     "metadata": {},
     "output_type": "execute_result"
    }
   ],
   "source": [
    "centroids"
   ]
  },
  {
   "cell_type": "code",
   "execution_count": 72,
   "metadata": {},
   "outputs": [],
   "source": [
    "%matplotlib inline\n",
    "import seaborn as sns\n",
    "sns.set(context=\"paper\" , style =\"whitegrid\",rc={\"figure.facecolor\":\"white\"})\n",
    "\n",
    "from scipy.optimize import minimize\n",
    "import scipy as sp\n",
    "import matplotlib.patches as mpatches\n",
    "from mpl_toolkits.mplot3d import Axes3D\n",
    "from matplotlib import cm"
   ]
  },
  {
   "cell_type": "code",
   "execution_count": 73,
   "metadata": {},
   "outputs": [],
   "source": [
    "#逐次二次計画法の関数定義（scipy optimize）\n",
    "def f(x,args ):\n",
    "    v = args[0]*(x[0]**3)+args[1]*(x[1]**3)+args[2]*(x[2]**3)+args[3]*(x[3]**3)+args[4]*(x[4]**3)+\\\n",
    "        args[5]*(x[5]**3)+args[6]*(x[6]**3)+args[7]*(x[7]**3)+args[8]*(x[8]**3)+args[9]*(x[9]**3)+\\\n",
    "        args[10]*(x[10]**3)+args[11]*(x[11]**3)+args[12]*(x[12]**3)+args[13]*(x[13]**3)+args[14]*(x[14]**3)+\\\n",
    "        args[15]*(x[15]**3)+args[16]*(x[16]**3)+args[17]*(x[17]**3)+args[18]*(x[18]**3)+args[19]*(x[19]**3)\n",
    "    return(v)\n",
    "\n",
    "def grad(x,args):\n",
    "    delx0  = 3*args[0]*x[0]**2\n",
    "    delx1  = 3*args[1]*x[1]**2\n",
    "    delx2  = 3*args[2]*x[2]**2\n",
    "    delx3  = 3*args[3]*x[3]**2\n",
    "    delx4  = 3*args[4]*x[4]**2\n",
    "    delx5  = 3*args[5]*x[5]**2\n",
    "    delx6  = 3*args[6]*x[6]**2\n",
    "    delx7  = 3*args[7]*x[7]**2\n",
    "    delx8  = 3*args[8]*x[8]**2\n",
    "    delx9  = 3*args[9]*x[9]**2\n",
    "    delx10 = 3*args[10]*x[10]**2\n",
    "    delx11 = 3*args[11]*x[11]**2\n",
    "    delx12 = 3*args[12]*x[12]**2\n",
    "    delx13 = 3*args[13]*x[13]**2\n",
    "    delx14 = 3*args[14]*x[14]**2\n",
    "    delx15 = 3*args[15]*x[15]**2\n",
    "    delx16 = 3*args[16]*x[16]**2\n",
    "    delx17 = 3*args[17]*x[17]**2\n",
    "    delx18 = 3*args[18]*x[18]**2\n",
    "    delx19 = 3*args[19]*x[19]**2\n",
    "    g = np.array([delx0,delx1,delx2,delx3,delx4,delx5,delx6,delx7,delx8,\\\n",
    "                 delx9,delx10,delx11,delx12,delx13,delx14,delx15,delx16,delx17,\\\n",
    "                 delx18,delx19])\n",
    "    return(g)\n",
    "\n",
    "def hess(x,args):\n",
    "    delxx0 = 6*args[0]*x[0]\n",
    "    delxx1 = 6*args[1]*x[1]\n",
    "    delxx2 = 6*args[2]*x[2]\n",
    "    delxx3 = 6*args[3]*x[3]\n",
    "    delxx4 = 6*args[4]*x[4]\n",
    "    delxx5 = 6*args[5]*x[5]\n",
    "    delxx6 = 6*args[6]*x[6]\n",
    "    delxx7 = 6*args[7]*x[7]\n",
    "    delxx8 = 6*args[8]*x[8]\n",
    "    delxx9 = 6*args[9]*x[9]\n",
    "    delxx10 = 6*args[10]*x[10]\n",
    "    delxx11 = 6*args[11]*x[11]\n",
    "    delxx12 = 6*args[12]*x[12]\n",
    "    delxx13 = 6*args[13]*x[13]\n",
    "    delxx14 = 6*args[14]*x[14]\n",
    "    delxx15 = 6*args[15]*x[15]\n",
    "    delxx16 = 6*args[16]*x[16]\n",
    "    delxx17 = 6*args[17]*x[17]\n",
    "    delxx18 = 6*args[18]*x[18]\n",
    "    delxx19 = 6*args[19]*x[19]\n",
    "    h_diag = np.array([delxx0,delxx1,delxx2,delxx3,delxx4,delxx5,delxx6,delxx7,delxx8,\\\n",
    "                 delxx9,delxx10,delxx11,delxx12,delxx13,delxx14,delxx15,delxx16,delxx17,\\\n",
    "                 delxx18,delxx19])\n",
    "    \n",
    "    h = np.diag(h_diag)\n",
    "    return(h)\n",
    "\n",
    "args = p#argsにクラスタ中心とデータ間の距離d_ki\n",
    "x0 = [0.5 for i in range(20)]"
   ]
  },
  {
   "cell_type": "code",
   "execution_count": 74,
   "metadata": {},
   "outputs": [
    {
     "name": "stdout",
     "output_type": "stream",
     "text": [
      "     fun: 0.08510435493477468\n",
      "     jac: array([0.00058404, 0.02721924, 0.00011277, 0.01642763, 0.00621262,\n",
      "       0.00015951, 0.        , 0.01763961, 0.0450777 , 0.03816313,\n",
      "       0.00265335, 0.        , 0.09749562, 0.08219791, 0.00948974,\n",
      "       0.02355738, 0.02578466, 0.03373425, 0.05072396, 0.04078016])\n",
      " message: 'Optimization terminated successfully'\n",
      "    nfev: 16\n",
      "     nit: 4\n",
      "    njev: 4\n",
      "  status: 0\n",
      " success: True\n",
      "       x: array([0.51280855, 0.48719145, 0.58719861, 0.41280139, 0.27579563,\n",
      "       0.72420437, 0.55980914, 0.44019086, 0.60536787, 0.39463213,\n",
      "       0.17072359, 0.82927641, 0.55867932, 0.44132068, 0.56242751,\n",
      "       0.43757249, 0.55893175, 0.44106825, 0.60825805, 0.39174195])\n"
     ]
    }
   ],
   "source": [
    "#制約条件、等式の場合はeq\n",
    "cons = ({\"type\":\"eq\",\"fun\": lambda x: x[0]+x[1]-1},\n",
    "        {\"type\":\"eq\",\"fun\": lambda x: x[2]+x[3]-1},\n",
    "        {\"type\":\"eq\",\"fun\": lambda x: x[4]+x[5]-1},\n",
    "        {\"type\":\"eq\",\"fun\": lambda x: x[6]+x[7]-1},\n",
    "        {\"type\":\"eq\",\"fun\": lambda x: x[8]+x[9]-1},\n",
    "        {\"type\":\"eq\",\"fun\": lambda x: x[10]+x[11]-1},\n",
    "        {\"type\":\"eq\",\"fun\": lambda x: x[12]+x[13]-1},\n",
    "        {\"type\":\"eq\",\"fun\": lambda x: x[14]+x[15]-1},\n",
    "        {\"type\":\"eq\",\"fun\": lambda x: x[16]+x[17]-1},\n",
    "        {\"type\":\"eq\",\"fun\": lambda x: x[18]+x[19]-1},\n",
    "        {\"type\":\"eq\",\"fun\":lambda x:x[0]+x[2]+x[4]+x[6]+x[8]+x[10]+x[12]+x[14]+x[16]+x[18]-5},\n",
    "        {\"type\":\"eq\",\"fun\":lambda x:x[1]+x[3]+x[5]+x[7]+x[9]+x[11]+x[13]+x[15]+x[17]+x[19]-5},\n",
    "       )\n",
    "#boundsは解の範囲\n",
    "result = minimize(fun = f,\n",
    "                  x0=x0, \n",
    "                  args = (args,),\n",
    "                  jac= grad,\n",
    "                  bounds = ((0,1),) *20,\n",
    "                  constraints= cons,\n",
    "                  method=\"SLSQP\")\n",
    "print(result)"
   ]
  },
  {
   "cell_type": "code",
   "execution_count": 75,
   "metadata": {},
   "outputs": [
    {
     "name": "stdout",
     "output_type": "stream",
     "text": [
      "[0.51280855 0.48719145 0.58719861 0.41280139 0.27579563 0.72420437\n",
      " 0.55980914 0.44019086 0.60536787 0.39463213 0.17072359 0.82927641\n",
      " 0.55867932 0.44132068 0.56242751 0.43757249 0.55893175 0.44106825\n",
      " 0.60825805 0.39174195]\n",
      "[[0.51280855 0.48719145]\n",
      " [0.58719861 0.41280139]\n",
      " [0.27579563 0.72420437]\n",
      " [0.55980914 0.44019086]\n",
      " [0.60536787 0.39463213]\n",
      " [0.17072359 0.82927641]\n",
      " [0.55867932 0.44132068]\n",
      " [0.56242751 0.43757249]\n",
      " [0.55893175 0.44106825]\n",
      " [0.60825805 0.39174195]]\n"
     ]
    }
   ],
   "source": [
    "u = np.array(result.x)\n",
    "print(u)\n",
    "u_list = u.reshape([10,2])\n",
    "print(u_list)"
   ]
  },
  {
   "cell_type": "code",
   "execution_count": 76,
   "metadata": {},
   "outputs": [
    {
     "name": "stdout",
     "output_type": "stream",
     "text": [
      "1.0\n",
      "1.0\n",
      "1.0\n",
      "1.0\n",
      "1.0\n",
      "1.0\n",
      "1.0\n",
      "1.0\n",
      "1.0\n",
      "0.9999999999999999\n",
      "5.0\n",
      "5.0\n"
     ]
    }
   ],
   "source": [
    "for i in range(0,20,2):\n",
    "    print(u[i]+u[i+1])\n",
    "print(u[0]+u[2]+u[4]+u[6]+u[8]+u[10]+u[12]+u[14]+u[16]+u[18])\n",
    "print(u[1]+u[3]+u[5]+u[7]+u[9]+u[11]+u[13]+u[15]+u[17]+u[19])"
   ]
  },
  {
   "cell_type": "code",
   "execution_count": 77,
   "metadata": {},
   "outputs": [
    {
     "name": "stdout",
     "output_type": "stream",
     "text": [
      "クラスター中心はcluster1:[0.58248042 0.52256622],cluster2:[0.56917958 0.56360058]\n"
     ]
    }
   ],
   "source": [
    "#分母計算(クラスタサイズになるはず)\n",
    "v0_denominator=0\n",
    "v1_denominator=0\n",
    "for i in range(0,20,2):\n",
    "    v0_denominator += u[i]\n",
    "for i in range(1,20,2):\n",
    "    v1_denominator += u[i]\n",
    "#print(v0_denominator,v1_denominator)\n",
    "#分子計算\n",
    "v0_numerator = 0\n",
    "v1_numerator = 0\n",
    "for i in range(10):\n",
    "    v0_numerator += u[i*2]*X[i]\n",
    "    v1_numerator += u[1+i*2]*X[i]\n",
    "#print(v0_numerator,v1_numerator)\n",
    "v=[0 for i in range(2)]\n",
    "v[0] = v0_numerator / v0_denominator\n",
    "v[1] = v1_numerator / v1_denominator\n",
    "print(\"クラスター中心はcluster1:{},cluster2:{}\".format(v[0],v[1]))"
   ]
  },
  {
   "cell_type": "code",
   "execution_count": 78,
   "metadata": {},
   "outputs": [],
   "source": [
    "cluster = [0 for i in range(10)]\n",
    "for i in range (10):\n",
    "    if u[i*2]>u[1+i*2]:\n",
    "        cluster[i] = 0\n",
    "    else:\n",
    "        cluster[i] = 1\n",
    "np_cluster =np.array(cluster)"
   ]
  },
  {
   "cell_type": "code",
   "execution_count": 79,
   "metadata": {},
   "outputs": [
    {
     "data": {
      "text/plain": [
       "array([0, 0, 1, 0, 0, 1, 0, 0, 0, 0])"
      ]
     },
     "execution_count": 79,
     "metadata": {},
     "output_type": "execute_result"
    }
   ],
   "source": [
    "np_cluster"
   ]
  },
  {
   "cell_type": "code",
   "execution_count": 80,
   "metadata": {},
   "outputs": [
    {
     "data": {
      "image/png": "[encoded data removed]",
      "text/plain": [
       "<Figure size 432x288 with 1 Axes>"
      ]
     },
     "metadata": {},
     "output_type": "display_data"
    }
   ],
   "source": [
    "#グラフ\n",
    "colors = ['red', 'blue', 'green','yellow','fuchsia']\n",
    "markers = [\",\", \"o\", \"v\", \"^\", \"<\", \">\", \"1\", \"2\", \"3\"]\n",
    "fig = plt.figure()\n",
    "ax = fig.add_subplot(111)\n",
    "#clusterはnp.array型じゃないとダメそう(リスト型だとグラフに描画されなかった)\n",
    "for i in range(c):\n",
    "    ax.scatter(X[:, 0][np_cluster==i], X[:, 1][np_cluster==i], color=colors[i],marker=markers[i])\n",
    "\n",
    "#ax.set_title('fecbo', size=16)\n",
    "ax.set_xlabel(\"X\", size=14)\n",
    "ax.set_ylabel(\"Y\", size=14)\n",
    "ax.legend(['cluster1', 'cluster2'])  # 凡例を表示\n",
    "\n",
    "plt.show()\n",
    "\n",
    "fig.savefig(\"img2d.pdf\")"
   ]
  },
  {
   "cell_type": "code",
   "execution_count": 81,
   "metadata": {},
   "outputs": [
    {
     "name": "stdout",
     "output_type": "stream",
     "text": [
      "クラスター中心はcluster1:[0.58248042 0.52256622],cluster2:[0.56917958 0.56360058]\n",
      "[[0.51280855 0.48719145]\n",
      " [0.58719861 0.41280139]\n",
      " [0.27579563 0.72420437]\n",
      " [0.55980914 0.44019086]\n",
      " [0.60536787 0.39463213]\n",
      " [0.17072359 0.82927641]\n",
      " [0.55867932 0.44132068]\n",
      " [0.56242751 0.43757249]\n",
      " [0.55893175 0.44106825]\n",
      " [0.60825805 0.39174195]]\n"
     ]
    }
   ],
   "source": [
    "print(\"クラスター中心はcluster1:{},cluster2:{}\".format(v[0],v[1]))\n",
    "print(u_list)"
   ]
  },
  {
   "cell_type": "code",
   "execution_count": 82,
   "metadata": {},
   "outputs": [
    {
     "name": "stdin",
     "output_type": "stream",
     "text": [
      "Once deleted, variables cannot be recovered. Proceed (y/[n])?  n\n"
     ]
    },
    {
     "name": "stdout",
     "output_type": "stream",
     "text": [
      "Nothing done.\n"
     ]
    }
   ],
   "source": [
    "%reset"
   ]
  },
  {
   "cell_type": "code",
   "execution_count": 83,
   "metadata": {},
   "outputs": [
    {
     "data": {
      "text/plain": [
       "[0.0007403055559999994,\n",
       " 0.03822570388899998,\n",
       " 0.00010901555600000018,\n",
       " 0.032134479444999975,\n",
       " 0.027225695555999976,\n",
       " 0.00010137944500000041,\n",
       " 0.0,\n",
       " 0.030344904444999977,\n",
       " 0.041001691111999986,\n",
       " 0.08168416388899997,\n",
       " 0.030344904444999977,\n",
       " 0.0,\n",
       " 0.10412108497800004,\n",
       " 0.14067954388900006,\n",
       " 0.009999999999999995,\n",
       " 0.04101150444499998,\n",
       " 0.02751202444500001,\n",
       " 0.05780138777800003,\n",
       " 0.04569999999999999,\n",
       " 0.08857832444499997]"
      ]
     },
     "execution_count": 83,
     "metadata": {},
     "output_type": "execute_result"
    }
   ],
   "source": [
    "p"
   ]
  },
  {
   "cell_type": "code",
   "execution_count": null,
   "metadata": {},
   "outputs": [],
   "source": []
  }
 ],
 "metadata": {
  "kernelspec": {
   "display_name": "Python 3 (ipykernel)",
   "language": "python",
   "name": "python3"
  },
  "language_info": {
   "codemirror_mode": {
    "name": "ipython",
    "version": 3
   },
   "file_extension": ".py",
   "mimetype": "text/x-python",
   "name": "python",
   "nbconvert_exporter": "python",
   "pygments_lexer": "ipython3",
   "version": "3.9.7"
  }
 },
 "nbformat": 4,
 "nbformat_minor": 4
}
